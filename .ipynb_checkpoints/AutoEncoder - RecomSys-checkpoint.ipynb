{
 "cells": [
  {
   "cell_type": "code",
   "execution_count": 1,
   "metadata": {},
   "outputs": [],
   "source": [
    "import tensorflow as tf\n",
    "import numpy as np\n",
    "import pandas as pd\n",
    "import matplotlib.pyplot as plt\n",
    "import sys"
   ]
  },
  {
   "cell_type": "code",
   "execution_count": 2,
   "metadata": {},
   "outputs": [],
   "source": [
    "data = pd.read_csv('E:/dataset/goodread10k/ratings.csv')\n",
    "books = pd.read_csv('E:/dataset/goodread10k/books.csv')"
   ]
  },
  {
   "cell_type": "code",
   "execution_count": 3,
   "metadata": {},
   "outputs": [],
   "source": [
    "books = books[['id','book_id','authors','original_title','language_code','average_rating','image_url']]"
   ]
  },
  {
   "cell_type": "code",
   "execution_count": 4,
   "metadata": {},
   "outputs": [
    {
     "data": {
      "text/html": [
       "<div>\n",
       "<style scoped>\n",
       "    .dataframe tbody tr th:only-of-type {\n",
       "        vertical-align: middle;\n",
       "    }\n",
       "\n",
       "    .dataframe tbody tr th {\n",
       "        vertical-align: top;\n",
       "    }\n",
       "\n",
       "    .dataframe thead th {\n",
       "        text-align: right;\n",
       "    }\n",
       "</style>\n",
       "<table border=\"1\" class=\"dataframe\">\n",
       "  <thead>\n",
       "    <tr style=\"text-align: right;\">\n",
       "      <th></th>\n",
       "      <th>id</th>\n",
       "      <th>book_id</th>\n",
       "      <th>authors</th>\n",
       "      <th>original_title</th>\n",
       "      <th>language_code</th>\n",
       "      <th>average_rating</th>\n",
       "      <th>image_url</th>\n",
       "    </tr>\n",
       "  </thead>\n",
       "  <tbody>\n",
       "    <tr>\n",
       "      <th>0</th>\n",
       "      <td>1</td>\n",
       "      <td>2767052</td>\n",
       "      <td>Suzanne Collins</td>\n",
       "      <td>The Hunger Games</td>\n",
       "      <td>eng</td>\n",
       "      <td>4.34</td>\n",
       "      <td>https://images.gr-assets.com/books/1447303603m...</td>\n",
       "    </tr>\n",
       "    <tr>\n",
       "      <th>1</th>\n",
       "      <td>2</td>\n",
       "      <td>3</td>\n",
       "      <td>J.K. Rowling, Mary GrandPré</td>\n",
       "      <td>Harry Potter and the Philosopher's Stone</td>\n",
       "      <td>eng</td>\n",
       "      <td>4.44</td>\n",
       "      <td>https://images.gr-assets.com/books/1474154022m...</td>\n",
       "    </tr>\n",
       "    <tr>\n",
       "      <th>2</th>\n",
       "      <td>3</td>\n",
       "      <td>41865</td>\n",
       "      <td>Stephenie Meyer</td>\n",
       "      <td>Twilight</td>\n",
       "      <td>en-US</td>\n",
       "      <td>3.57</td>\n",
       "      <td>https://images.gr-assets.com/books/1361039443m...</td>\n",
       "    </tr>\n",
       "    <tr>\n",
       "      <th>3</th>\n",
       "      <td>4</td>\n",
       "      <td>2657</td>\n",
       "      <td>Harper Lee</td>\n",
       "      <td>To Kill a Mockingbird</td>\n",
       "      <td>eng</td>\n",
       "      <td>4.25</td>\n",
       "      <td>https://images.gr-assets.com/books/1361975680m...</td>\n",
       "    </tr>\n",
       "    <tr>\n",
       "      <th>4</th>\n",
       "      <td>5</td>\n",
       "      <td>4671</td>\n",
       "      <td>F. Scott Fitzgerald</td>\n",
       "      <td>The Great Gatsby</td>\n",
       "      <td>eng</td>\n",
       "      <td>3.89</td>\n",
       "      <td>https://images.gr-assets.com/books/1490528560m...</td>\n",
       "    </tr>\n",
       "  </tbody>\n",
       "</table>\n",
       "</div>"
      ],
      "text/plain": [
       "   id  book_id                      authors  \\\n",
       "0   1  2767052              Suzanne Collins   \n",
       "1   2        3  J.K. Rowling, Mary GrandPré   \n",
       "2   3    41865              Stephenie Meyer   \n",
       "3   4     2657                   Harper Lee   \n",
       "4   5     4671          F. Scott Fitzgerald   \n",
       "\n",
       "                             original_title language_code  average_rating  \\\n",
       "0                          The Hunger Games           eng            4.34   \n",
       "1  Harry Potter and the Philosopher's Stone           eng            4.44   \n",
       "2                                  Twilight         en-US            3.57   \n",
       "3                     To Kill a Mockingbird           eng            4.25   \n",
       "4                          The Great Gatsby           eng            3.89   \n",
       "\n",
       "                                           image_url  \n",
       "0  https://images.gr-assets.com/books/1447303603m...  \n",
       "1  https://images.gr-assets.com/books/1474154022m...  \n",
       "2  https://images.gr-assets.com/books/1361039443m...  \n",
       "3  https://images.gr-assets.com/books/1361975680m...  \n",
       "4  https://images.gr-assets.com/books/1490528560m...  "
      ]
     },
     "execution_count": 4,
     "metadata": {},
     "output_type": "execute_result"
    }
   ],
   "source": [
    "books.head()"
   ]
  },
  {
   "cell_type": "code",
   "execution_count": 5,
   "metadata": {},
   "outputs": [
    {
     "data": {
      "text/html": [
       "<div>\n",
       "<style scoped>\n",
       "    .dataframe tbody tr th:only-of-type {\n",
       "        vertical-align: middle;\n",
       "    }\n",
       "\n",
       "    .dataframe tbody tr th {\n",
       "        vertical-align: top;\n",
       "    }\n",
       "\n",
       "    .dataframe thead th {\n",
       "        text-align: right;\n",
       "    }\n",
       "</style>\n",
       "<table border=\"1\" class=\"dataframe\">\n",
       "  <thead>\n",
       "    <tr style=\"text-align: right;\">\n",
       "      <th></th>\n",
       "      <th>book_id</th>\n",
       "      <th>user_id</th>\n",
       "      <th>rating</th>\n",
       "    </tr>\n",
       "  </thead>\n",
       "  <tbody>\n",
       "    <tr>\n",
       "      <th>0</th>\n",
       "      <td>1</td>\n",
       "      <td>314</td>\n",
       "      <td>5</td>\n",
       "    </tr>\n",
       "    <tr>\n",
       "      <th>1</th>\n",
       "      <td>1</td>\n",
       "      <td>439</td>\n",
       "      <td>3</td>\n",
       "    </tr>\n",
       "    <tr>\n",
       "      <th>2</th>\n",
       "      <td>1</td>\n",
       "      <td>588</td>\n",
       "      <td>5</td>\n",
       "    </tr>\n",
       "    <tr>\n",
       "      <th>3</th>\n",
       "      <td>1</td>\n",
       "      <td>1169</td>\n",
       "      <td>4</td>\n",
       "    </tr>\n",
       "    <tr>\n",
       "      <th>4</th>\n",
       "      <td>1</td>\n",
       "      <td>1185</td>\n",
       "      <td>4</td>\n",
       "    </tr>\n",
       "  </tbody>\n",
       "</table>\n",
       "</div>"
      ],
      "text/plain": [
       "   book_id  user_id  rating\n",
       "0        1      314       5\n",
       "1        1      439       3\n",
       "2        1      588       5\n",
       "3        1     1169       4\n",
       "4        1     1185       4"
      ]
     },
     "execution_count": 5,
     "metadata": {},
     "output_type": "execute_result"
    }
   ],
   "source": [
    "data.head()"
   ]
  },
  {
   "cell_type": "code",
   "execution_count": 6,
   "metadata": {},
   "outputs": [],
   "source": [
    "data['book_id'] = data['book_id']-1\n",
    "data['user_id'] = data['user_id']-1\n",
    "books['id'] = books['id']-1"
   ]
  },
  {
   "cell_type": "code",
   "execution_count": 7,
   "metadata": {},
   "outputs": [],
   "source": [
    "data = data.drop_duplicates().reset_index(drop=True)"
   ]
  },
  {
   "cell_type": "code",
   "execution_count": 8,
   "metadata": {},
   "outputs": [],
   "source": [
    "num_user = len(data['user_id'].unique())\n",
    "num_book = len(data['book_id'].unique())"
   ]
  },
  {
   "cell_type": "markdown",
   "metadata": {},
   "source": [
    "### Data preprocessing"
   ]
  },
  {
   "cell_type": "code",
   "execution_count": 9,
   "metadata": {},
   "outputs": [],
   "source": [
    "# Create a sparse iteration matrix from rating data\n",
    "def create_sparse_matrix(num_user,num_item,df):\n",
    "    sess = tf.Session()\n",
    "    indices = df[['user_id','book_id']].values.astype(np.int32)\n",
    "    values = df['rating'].values.astype(np.int32)\n",
    "    dense_shape = (num_user,num_item)\n",
    "    resp =  sess.run(tf.SparseTensor(indices,values,dense_shape))\n",
    "    tf.reset_default_graph()\n",
    "    return resp"
   ]
  },
  {
   "cell_type": "code",
   "execution_count": 10,
   "metadata": {},
   "outputs": [],
   "source": [
    "rating_matrix = create_sparse_matrix(num_user,num_book,data)"
   ]
  },
  {
   "cell_type": "code",
   "execution_count": 11,
   "metadata": {},
   "outputs": [],
   "source": [
    "# create a class to generate data from sparse to dense format\n",
    "class SparseToDenseGenerator:\n",
    "    def __init__(self,sparse_matrix,num_row,num_col,batch_size=256):\n",
    "        self.sess = tf.Session()\n",
    "        self.sparse_matrix = sparse_matrix\n",
    "        self.num_row = num_row\n",
    "        self.num_col = num_col\n",
    "        self.batch_size = batch_size\n",
    "        self.total_batch = int(np.ceil(num_row/batch_size))\n",
    "        self.count = 0\n",
    "        \n",
    "    def get(self):\n",
    "        start = self.count*self.batch_size\n",
    "        size = start+self.batch_size\n",
    "        self.count+=1\n",
    "        if (size > self.num_row):\n",
    "            size = self.num_row\n",
    "            self.count = 0\n",
    "        with self.sess.graph.as_default():\n",
    "            t = self.sess.run(tf.sparse.slice(self.sparse_matrix,[start,0],[size,self.num_col]))\n",
    "            rep =  self.sess.run(tf.sparse.to_dense(t,validate_indices=False))  \n",
    "        return rep.astype(np.float32)\n",
    "    \n",
    "class DataGenerator:\n",
    "    def __init__(self,train_data,batch_size=256,shuffle=True):\n",
    "        self.train = train_data\n",
    "        self.row = train_data.shape[0]\n",
    "        self.batch_size = batch_size\n",
    "        self.total_batch = int(np.ceil(self.row/batch_size))\n",
    "        self.count = 0\n",
    "        self.shuffle=shuffle\n",
    "        \n",
    "    def get(self):\n",
    "        done = False\n",
    "        lower = self.count*self.batch_size\n",
    "        upper = lower+self.batch_size\n",
    "        self.count+=1\n",
    "        if (upper > self.row):\n",
    "            upper = self.row\n",
    "            self.count = 0\n",
    "            done = True\n",
    "        train_batch = self.train[lower:upper]\n",
    "        if done:\n",
    "            perm = np.random.permutation(self.row)\n",
    "            self.train = self.train[perm]\n",
    "        return train_batch"
   ]
  },
  {
   "cell_type": "code",
   "execution_count": 12,
   "metadata": {},
   "outputs": [],
   "source": [
    "dense_rating = tf.Session().run(tf.sparse.to_dense(rating_matrix,validate_indices=False))"
   ]
  },
  {
   "cell_type": "code",
   "execution_count": 13,
   "metadata": {},
   "outputs": [],
   "source": [
    "data_generator = DataGenerator(dense_rating,batch_size=512)"
   ]
  },
  {
   "cell_type": "code",
   "execution_count": 14,
   "metadata": {},
   "outputs": [
    {
     "data": {
      "text/plain": [
       "105"
      ]
     },
     "execution_count": 14,
     "metadata": {},
     "output_type": "execute_result"
    }
   ],
   "source": [
    "data_generator.total_batch"
   ]
  },
  {
   "cell_type": "markdown",
   "metadata": {},
   "source": [
    "### AutoEncoder model"
   ]
  },
  {
   "cell_type": "code",
   "execution_count": 15,
   "metadata": {},
   "outputs": [],
   "source": [
    "def encoder(x,drop_rate):\n",
    "    with tf.variable_scope('AutoEncoder/Encoder',reuse=tf.AUTO_REUSE):\n",
    "        z = tf.layers.Dense(256,activation=tf.nn.selu,kernel_initializer=tf.initializers.glorot_normal)(x)\n",
    "        z = tf.layers.Dense(256,activation=tf.nn.selu,kernel_initializer=tf.initializers.glorot_normal)(z)\n",
    "        latent = tf.layers.Dense(256,activation=tf.nn.selu,kernel_initializer=tf.initializers.glorot_normal)(z)\n",
    "        latent = tf.nn.dropout(latent,1-drop_rate)\n",
    "        #latent = tf.layers.Dropout(drop_rate)(latent) --- for some reason tf.layers.Dropout doesn't work\n",
    "        return latent\n",
    "\n",
    "def decoder(latent):\n",
    "    with tf.variable_scope('AutoEncoder/Decoder',reuse=tf.AUTO_REUSE):\n",
    "        z = z = tf.layers.Dense(256,activation=tf.nn.selu,kernel_initializer=tf.initializers.glorot_normal)(latent)\n",
    "        z = tf.layers.Dense(256,activation=tf.nn.selu,kernel_initializer=tf.initializers.glorot_normal)(z)\n",
    "        out = tf.layers.Dense(num_book,activation=tf.nn.selu,kernel_initializer=tf.initializers.glorot_normal)(z)\n",
    "        return out"
   ]
  },
  {
   "cell_type": "code",
   "execution_count": 16,
   "metadata": {},
   "outputs": [],
   "source": [
    "def forward_path(x,drop_rate):\n",
    "    latent = encoder(x,drop_rate)\n",
    "    out = decoder(latent)\n",
    "    return out"
   ]
  },
  {
   "cell_type": "code",
   "execution_count": 17,
   "metadata": {},
   "outputs": [],
   "source": [
    "tf.reset_default_graph()"
   ]
  },
  {
   "cell_type": "code",
   "execution_count": 18,
   "metadata": {},
   "outputs": [
    {
     "name": "stderr",
     "output_type": "stream",
     "text": [
      "WARNING: Logging before flag parsing goes to stderr.\n",
      "W0720 03:46:34.862242  5164 deprecation.py:506] From f:\\anaconda\\envs\\tensorflow\\lib\\site-packages\\tensorflow\\python\\ops\\init_ops.py:1288: calling VarianceScaling.__init__ (from tensorflow.python.ops.init_ops) with dtype is deprecated and will be removed in a future version.\n",
      "Instructions for updating:\n",
      "Call initializer instance with the dtype argument instead of passing it to the constructor\n",
      "W0720 03:46:35.129302  5164 deprecation.py:506] From <ipython-input-15-85d9edb3ee29>:6: calling dropout (from tensorflow.python.ops.nn_ops) with keep_prob is deprecated and will be removed in a future version.\n",
      "Instructions for updating:\n",
      "Please use `rate` instead of `keep_prob`. Rate should be set to `rate = 1 - keep_prob`.\n",
      "W0720 03:46:35.182314  5164 deprecation.py:323] From f:\\anaconda\\envs\\tensorflow\\lib\\site-packages\\tensorflow\\python\\ops\\losses\\losses_impl.py:121: add_dispatch_support.<locals>.wrapper (from tensorflow.python.ops.array_ops) is deprecated and will be removed in a future version.\n",
      "Instructions for updating:\n",
      "Use tf.where in 2.0, which has the same broadcast rule as np.where\n"
     ]
    }
   ],
   "source": [
    "x = tf.placeholder(dtype=tf.float32,shape=[None,num_book],name='input')\n",
    "drop_rate = tf.placeholder(dtype=tf.float32,name='drop_rate')\n",
    "optimizer = tf.train.GradientDescentOptimizer(0.08)\n",
    "\n",
    "# Forward path\n",
    "out = forward_path(x,drop_rate)\n",
    "loss = tf.math.sqrt(tf.losses.mean_squared_error(x,out))\n",
    "train = optimizer.minimize(loss)\n",
    "\n",
    "# Dense Re-feeding (DR)\n",
    "dr_out = forward_path(out,drop_rate)\n",
    "dr_loss = tf.math.sqrt(tf.losses.mean_squared_error(out,dr_out))\n",
    "dr_train = optimizer.minimize(dr_loss)"
   ]
  },
  {
   "cell_type": "code",
   "execution_count": 19,
   "metadata": {},
   "outputs": [],
   "source": [
    "model_session = tf.Session()\n",
    "model_session.run(tf.global_variables_initializer())"
   ]
  },
  {
   "cell_type": "code",
   "execution_count": 20,
   "metadata": {},
   "outputs": [
    {
     "name": "stdout",
     "output_type": "stream",
     "text": [
      "Total trainable parameters = 5393424\n"
     ]
    }
   ],
   "source": [
    "trainable_variables = np.sum([np.prod(v.shape).value for v in tf.trainable_variables()])\n",
    "print(f\"Total trainable parameters = {trainable_variables}\")"
   ]
  },
  {
   "cell_type": "code",
   "execution_count": 21,
   "metadata": {},
   "outputs": [],
   "source": [
    "train_losses = []"
   ]
  },
  {
   "cell_type": "code",
   "execution_count": 22,
   "metadata": {},
   "outputs": [
    {
     "name": "stdout",
     "output_type": "stream",
     "text": [
      "Epoch 1: train_loss = 0.299634\n",
      "Epoch 2: train_loss = 0.282798\n",
      "Epoch 3: train_loss = 0.270206\n",
      "Epoch 4: train_loss = 0.259746\n",
      "Epoch 5: train_loss = 0.250529\n",
      "Epoch 6: train_loss = 0.242552\n",
      "Epoch 7: train_loss = 0.235391\n",
      "Epoch 8: train_loss = 0.229042\n",
      "Epoch 9: train_loss = 0.223454\n",
      "Epoch 10: train_loss = 0.218370\n",
      "Epoch 11: train_loss = 0.213905\n",
      "Epoch 12: train_loss = 0.209868\n",
      "Epoch 13: train_loss = 0.206198\n",
      "Epoch 14: train_loss = 0.203148\n",
      "Epoch 15: train_loss = 0.200074\n",
      "Epoch 16: train_loss = 0.197548\n",
      "Epoch 17: train_loss = 0.195305\n",
      "Epoch 18: train_loss = 0.193289\n",
      "Epoch 19: train_loss = 0.191227\n",
      "Epoch 20: train_loss = 0.189811\n",
      "Epoch 21: train_loss = 0.188216\n",
      "Epoch 22: train_loss = 0.186894\n",
      "Epoch 23: train_loss = 0.185745\n",
      "Epoch 24: train_loss = 0.184574\n",
      "Epoch 25: train_loss = 0.183701\n",
      "Epoch 26: train_loss = 0.182776\n",
      "Epoch 27: train_loss = 0.181863\n",
      "Epoch 28: train_loss = 0.181281\n",
      "Epoch 29: train_loss = 0.180533\n",
      "Epoch 30: train_loss = 0.179937\n",
      "Epoch 31: train_loss = 0.179516\n",
      "Epoch 32: train_loss = 0.179100\n",
      "Epoch 33: train_loss = 0.178525\n",
      "Epoch 34: train_loss = 0.178060\n",
      "Epoch 35: train_loss = 0.177646\n",
      "Epoch 36: train_loss = 0.177312\n",
      "Epoch 37: train_loss = 0.176925\n",
      "Epoch 38: train_loss = 0.176665\n",
      "Epoch 39: train_loss = 0.176286\n",
      "Epoch 40: train_loss = 0.175948\n",
      "Epoch 41: train_loss = 0.175764\n",
      "Epoch 42: train_loss = 0.175385\n",
      "Epoch 43: train_loss = 0.175225\n",
      "Epoch 44: train_loss = 0.174893\n",
      "Epoch 45: train_loss = 0.174785\n",
      "Epoch 46: train_loss = 0.174572\n",
      "Epoch 47: train_loss = 0.174321\n",
      "Epoch 48: train_loss = 0.174124\n",
      "Epoch 49: train_loss = 0.174085\n",
      "Epoch 50: train_loss = 0.173838\n",
      "Epoch 51: train_loss = 0.173608\n",
      "Epoch 52: train_loss = 0.173563\n",
      "Epoch 53: train_loss = 0.173347\n",
      "Epoch 54: train_loss = 0.173274\n",
      "Epoch 55: train_loss = 0.173061\n",
      "Epoch 56: train_loss = 0.172944\n",
      "Epoch 57: train_loss = 0.172838\n",
      "Epoch 58: train_loss = 0.172706\n",
      "Epoch 59: train_loss = 0.172606\n",
      "Epoch 60: train_loss = 0.172524\n",
      "Epoch 61: train_loss = 0.172444\n",
      "Epoch 62: train_loss = 0.172214\n",
      "Epoch 63: train_loss = 0.172409\n",
      "Epoch 64: train_loss = 0.172145\n",
      "Epoch 65: train_loss = 0.172149\n",
      "Epoch 66: train_loss = 0.171876\n",
      "Epoch 67: train_loss = 0.171875\n",
      "Epoch 68: train_loss = 0.171774\n",
      "Epoch 69: train_loss = 0.171730\n",
      "Epoch 70: train_loss = 0.171759\n",
      "Epoch 71: train_loss = 0.171656\n",
      "Epoch 72: train_loss = 0.171541\n",
      "Epoch 73: train_loss = 0.171541\n",
      "Epoch 74: train_loss = 0.171486\n",
      "Epoch 75: train_loss = 0.171461\n",
      "Epoch 76: train_loss = 0.171409\n",
      "Epoch 77: train_loss = 0.171224\n",
      "Epoch 78: train_loss = 0.171141\n",
      "Epoch 79: train_loss = 0.171178\n",
      "Epoch 80: train_loss = 0.171120\n",
      "Epoch 81: train_loss = 0.171205\n",
      "Epoch 82: train_loss = 0.171191\n",
      "Epoch 83: train_loss = 0.171033\n",
      "Epoch 84: train_loss = 0.170912\n",
      "Epoch 85: train_loss = 0.170924\n",
      "Epoch 86: train_loss = 0.170949\n",
      "Epoch 87: train_loss = 0.170877\n",
      "Epoch 88: train_loss = 0.170941\n",
      "Epoch 89: train_loss = 0.170812\n",
      "Epoch 90: train_loss = 0.170787\n",
      "Epoch 91: train_loss = 0.170858\n",
      "Epoch 92: train_loss = 0.170753\n",
      "Epoch 93: train_loss = 0.170759\n",
      "Epoch 94: train_loss = 0.170669\n",
      "Epoch 95: train_loss = 0.170723\n",
      "Epoch 96: train_loss = 0.170679\n",
      "Epoch 97: train_loss = 0.170608\n",
      "Epoch 98: train_loss = 0.170732\n",
      "Epoch 99: train_loss = 0.170659\n",
      "Epoch 100: train_loss = 0.170653\n"
     ]
    }
   ],
   "source": [
    "EPOCHS = 100\n",
    "for e in range(1,EPOCHS+1):\n",
    "    avg_train_loss = []\n",
    "    for i in range(data_generator.total_batch):\n",
    "        with (model_session.graph.as_default()):\n",
    "            batch_train = data_generator.get()\n",
    "            train_loss_val, _, __= model_session.run([loss,train, dr_train],\n",
    "                                                    feed_dict={x:batch_train,drop_rate:0.8})  \n",
    "            avg_train_loss.append(train_loss_val)\n",
    "            \n",
    "            sys.stdout.write(f\"\\rEpoch {e}: train_loss = {train_loss_val:.6f}\")\n",
    "            sys.stdout.flush()\n",
    "            \n",
    "    train_losses.append(np.mean(avg_train_loss))\n",
    "    print(f\"\\rEpoch {e}: train_loss = {np.mean(avg_train_loss):.6f}\")"
   ]
  },
  {
   "cell_type": "code",
   "execution_count": 24,
   "metadata": {},
   "outputs": [
    {
     "data": {
      "text/plain": [
       "Text(0, 0.5, 'Loss')"
      ]
     },
     "execution_count": 24,
     "metadata": {},
     "output_type": "execute_result"
    },
    {
     "data": {
      "image/png": "[encoded data removed]",
      "text/plain": [
       "<Figure size 432x288 with 1 Axes>"
      ]
     },
     "metadata": {
      "needs_background": "light"
     },
     "output_type": "display_data"
    }
   ],
   "source": [
    "plt.plot(train_losses,c='b')\n",
    "plt.legend(['training_loss'])\n",
    "plt.xlabel('Epochs')\n",
    "plt.ylabel('Loss')"
   ]
  },
  {
   "cell_type": "markdown",
   "metadata": {},
   "source": [
    "### Inference Model"
   ]
  },
  {
   "cell_type": "code",
   "execution_count": 53,
   "metadata": {},
   "outputs": [
    {
     "name": "stdout",
     "output_type": "stream",
     "text": [
      "<class 'list'>\n"
     ]
    }
   ],
   "source": [
    "print(type([]))"
   ]
  },
  {
   "cell_type": "code",
   "execution_count": 72,
   "metadata": {},
   "outputs": [],
   "source": [
    "def user_items(df,user_id,key_userId,key_itemID):\n",
    "    if (str(type(user_id) == \"<class 'list'>\") or str(type(user_id) == \"<class 'numpy.ndarray'>\")):\n",
    "        def func(x):\n",
    "            return x.values\n",
    "        tdf = df[df[key_userId].isin(user_id)]\n",
    "        gb = tdf.groupby(key_userId)[key_itemID].apply(func).reset_index()\n",
    "        return gb[gb[key_userId].isin(user_id)]\n",
    "    return df[df[key_userId]==user_id][key_itemID]"
   ]
  },
  {
   "cell_type": "code",
   "execution_count": 26,
   "metadata": {},
   "outputs": [],
   "source": [
    "target_user = 34\n",
    "readed_books = user_items(data, target_user,'user_id','book_id')"
   ]
  },
  {
   "cell_type": "code",
   "execution_count": 27,
   "metadata": {},
   "outputs": [],
   "source": [
    "t = np.expand_dims(dense_rating[target_user],axis=0)\n",
    "pred = model_session.run(out,feed_dict={x:t,drop_rate:0})[0]\n",
    "k = 20\n",
    "recommend_to_target = np.argsort(pred)[::-1][:k]"
   ]
  },
  {
   "cell_type": "code",
   "execution_count": 28,
   "metadata": {},
   "outputs": [
    {
     "name": "stdout",
     "output_type": "stream",
     "text": [
      "Books read by user: 34\n"
     ]
    },
    {
     "data": {
      "text/html": [
       "<div>\n",
       "<style scoped>\n",
       "    .dataframe tbody tr th:only-of-type {\n",
       "        vertical-align: middle;\n",
       "    }\n",
       "\n",
       "    .dataframe tbody tr th {\n",
       "        vertical-align: top;\n",
       "    }\n",
       "\n",
       "    .dataframe thead th {\n",
       "        text-align: right;\n",
       "    }\n",
       "</style>\n",
       "<table border=\"1\" class=\"dataframe\">\n",
       "  <thead>\n",
       "    <tr style=\"text-align: right;\">\n",
       "      <th></th>\n",
       "      <th>id</th>\n",
       "      <th>book_id</th>\n",
       "      <th>authors</th>\n",
       "      <th>original_title</th>\n",
       "      <th>language_code</th>\n",
       "      <th>average_rating</th>\n",
       "      <th>image_url</th>\n",
       "    </tr>\n",
       "  </thead>\n",
       "  <tbody>\n",
       "    <tr>\n",
       "      <th>77</th>\n",
       "      <td>77</td>\n",
       "      <td>5139</td>\n",
       "      <td>Lauren Weisberger</td>\n",
       "      <td>The Devil Wears Prada</td>\n",
       "      <td>eng</td>\n",
       "      <td>3.70</td>\n",
       "      <td>https://s.gr-assets.com/assets/nophoto/book/11...</td>\n",
       "    </tr>\n",
       "    <tr>\n",
       "      <th>107</th>\n",
       "      <td>107</td>\n",
       "      <td>9416</td>\n",
       "      <td>Sophie Kinsella</td>\n",
       "      <td>Confessions of a Shopaholic</td>\n",
       "      <td>eng</td>\n",
       "      <td>3.61</td>\n",
       "      <td>https://images.gr-assets.com/books/1327872404m...</td>\n",
       "    </tr>\n",
       "    <tr>\n",
       "      <th>119</th>\n",
       "      <td>119</td>\n",
       "      <td>452306</td>\n",
       "      <td>Ann Brashares</td>\n",
       "      <td>The Sisterhood of the Traveling Pants</td>\n",
       "      <td>eng</td>\n",
       "      <td>3.75</td>\n",
       "      <td>https://images.gr-assets.com/books/1461611233m...</td>\n",
       "    </tr>\n",
       "    <tr>\n",
       "      <th>134</th>\n",
       "      <td>134</td>\n",
       "      <td>62291</td>\n",
       "      <td>George R.R. Martin</td>\n",
       "      <td>A Storm of Swords</td>\n",
       "      <td>eng</td>\n",
       "      <td>4.54</td>\n",
       "      <td>https://images.gr-assets.com/books/1497931121m...</td>\n",
       "    </tr>\n",
       "    <tr>\n",
       "      <th>136</th>\n",
       "      <td>136</td>\n",
       "      <td>10964</td>\n",
       "      <td>Diana Gabaldon</td>\n",
       "      <td>Outlander</td>\n",
       "      <td>eng</td>\n",
       "      <td>4.20</td>\n",
       "      <td>https://images.gr-assets.com/books/1402600310m...</td>\n",
       "    </tr>\n",
       "    <tr>\n",
       "      <th>164</th>\n",
       "      <td>164</td>\n",
       "      <td>13497</td>\n",
       "      <td>George R.R. Martin</td>\n",
       "      <td>A Feast for Crows</td>\n",
       "      <td>en-US</td>\n",
       "      <td>4.10</td>\n",
       "      <td>https://images.gr-assets.com/books/1429538615m...</td>\n",
       "    </tr>\n",
       "    <tr>\n",
       "      <th>166</th>\n",
       "      <td>166</td>\n",
       "      <td>4407</td>\n",
       "      <td>Neil Gaiman</td>\n",
       "      <td>American Gods</td>\n",
       "      <td>eng</td>\n",
       "      <td>4.11</td>\n",
       "      <td>https://images.gr-assets.com/books/1258417001m...</td>\n",
       "    </tr>\n",
       "    <tr>\n",
       "      <th>199</th>\n",
       "      <td>199</td>\n",
       "      <td>16299</td>\n",
       "      <td>Agatha Christie</td>\n",
       "      <td>Ten Little Niggers</td>\n",
       "      <td>eng</td>\n",
       "      <td>4.23</td>\n",
       "      <td>https://images.gr-assets.com/books/1391120695m...</td>\n",
       "    </tr>\n",
       "    <tr>\n",
       "      <th>207</th>\n",
       "      <td>207</td>\n",
       "      <td>6493208</td>\n",
       "      <td>Rebecca Skloot</td>\n",
       "      <td>The Immortal Life of Henrietta Lacks</td>\n",
       "      <td>eng</td>\n",
       "      <td>4.04</td>\n",
       "      <td>https://images.gr-assets.com/books/1327878144m...</td>\n",
       "    </tr>\n",
       "    <tr>\n",
       "      <th>215</th>\n",
       "      <td>215</td>\n",
       "      <td>3153910</td>\n",
       "      <td>Garth Stein</td>\n",
       "      <td>The Art of Racing in the Rain</td>\n",
       "      <td>eng</td>\n",
       "      <td>4.19</td>\n",
       "      <td>https://images.gr-assets.com/books/1377206302m...</td>\n",
       "    </tr>\n",
       "  </tbody>\n",
       "</table>\n",
       "</div>"
      ],
      "text/plain": [
       "      id  book_id             authors                         original_title  \\\n",
       "77    77     5139   Lauren Weisberger                  The Devil Wears Prada   \n",
       "107  107     9416     Sophie Kinsella            Confessions of a Shopaholic   \n",
       "119  119   452306       Ann Brashares  The Sisterhood of the Traveling Pants   \n",
       "134  134    62291  George R.R. Martin                      A Storm of Swords   \n",
       "136  136    10964      Diana Gabaldon                              Outlander   \n",
       "164  164    13497  George R.R. Martin                      A Feast for Crows   \n",
       "166  166     4407         Neil Gaiman                          American Gods   \n",
       "199  199    16299     Agatha Christie                     Ten Little Niggers   \n",
       "207  207  6493208      Rebecca Skloot   The Immortal Life of Henrietta Lacks   \n",
       "215  215  3153910         Garth Stein          The Art of Racing in the Rain   \n",
       "\n",
       "    language_code  average_rating  \\\n",
       "77            eng            3.70   \n",
       "107           eng            3.61   \n",
       "119           eng            3.75   \n",
       "134           eng            4.54   \n",
       "136           eng            4.20   \n",
       "164         en-US            4.10   \n",
       "166           eng            4.11   \n",
       "199           eng            4.23   \n",
       "207           eng            4.04   \n",
       "215           eng            4.19   \n",
       "\n",
       "                                             image_url  \n",
       "77   https://s.gr-assets.com/assets/nophoto/book/11...  \n",
       "107  https://images.gr-assets.com/books/1327872404m...  \n",
       "119  https://images.gr-assets.com/books/1461611233m...  \n",
       "134  https://images.gr-assets.com/books/1497931121m...  \n",
       "136  https://images.gr-assets.com/books/1402600310m...  \n",
       "164  https://images.gr-assets.com/books/1429538615m...  \n",
       "166  https://images.gr-assets.com/books/1258417001m...  \n",
       "199  https://images.gr-assets.com/books/1391120695m...  \n",
       "207  https://images.gr-assets.com/books/1327878144m...  \n",
       "215  https://images.gr-assets.com/books/1377206302m...  "
      ]
     },
     "execution_count": 28,
     "metadata": {},
     "output_type": "execute_result"
    }
   ],
   "source": [
    "print(\"Books read by user:\",target_user)\n",
    "books[books['id'].isin(readed_books)].head(10)"
   ]
  },
  {
   "cell_type": "code",
   "execution_count": 29,
   "metadata": {},
   "outputs": [
    {
     "name": "stdout",
     "output_type": "stream",
     "text": [
      "Books recommended to user: 34\n"
     ]
    },
    {
     "data": {
      "text/html": [
       "<div>\n",
       "<style scoped>\n",
       "    .dataframe tbody tr th:only-of-type {\n",
       "        vertical-align: middle;\n",
       "    }\n",
       "\n",
       "    .dataframe tbody tr th {\n",
       "        vertical-align: top;\n",
       "    }\n",
       "\n",
       "    .dataframe thead th {\n",
       "        text-align: right;\n",
       "    }\n",
       "</style>\n",
       "<table border=\"1\" class=\"dataframe\">\n",
       "  <thead>\n",
       "    <tr style=\"text-align: right;\">\n",
       "      <th></th>\n",
       "      <th>id</th>\n",
       "      <th>book_id</th>\n",
       "      <th>authors</th>\n",
       "      <th>original_title</th>\n",
       "      <th>language_code</th>\n",
       "      <th>average_rating</th>\n",
       "      <th>image_url</th>\n",
       "    </tr>\n",
       "  </thead>\n",
       "  <tbody>\n",
       "    <tr>\n",
       "      <th>373</th>\n",
       "      <td>373</td>\n",
       "      <td>21</td>\n",
       "      <td>Bill Bryson</td>\n",
       "      <td>A Short History of Nearly Everything</td>\n",
       "      <td>en-US</td>\n",
       "      <td>4.19</td>\n",
       "      <td>https://s.gr-assets.com/assets/nophoto/book/11...</td>\n",
       "    </tr>\n",
       "    <tr>\n",
       "      <th>456</th>\n",
       "      <td>456</td>\n",
       "      <td>10692</td>\n",
       "      <td>Elizabeth Kostova</td>\n",
       "      <td>The Historian</td>\n",
       "      <td>eng</td>\n",
       "      <td>3.77</td>\n",
       "      <td>https://images.gr-assets.com/books/1338298031m...</td>\n",
       "    </tr>\n",
       "    <tr>\n",
       "      <th>1581</th>\n",
       "      <td>1581</td>\n",
       "      <td>48328</td>\n",
       "      <td>Richard Yates</td>\n",
       "      <td>Revolutionary Road</td>\n",
       "      <td>eng</td>\n",
       "      <td>3.89</td>\n",
       "      <td>https://images.gr-assets.com/books/1353721885m...</td>\n",
       "    </tr>\n",
       "    <tr>\n",
       "      <th>2016</th>\n",
       "      <td>2016</td>\n",
       "      <td>4588949</td>\n",
       "      <td>Michael Scott</td>\n",
       "      <td>The Sorceress</td>\n",
       "      <td>eng</td>\n",
       "      <td>4.11</td>\n",
       "      <td>https://s.gr-assets.com/assets/nophoto/book/11...</td>\n",
       "    </tr>\n",
       "    <tr>\n",
       "      <th>4962</th>\n",
       "      <td>4962</td>\n",
       "      <td>67931</td>\n",
       "      <td>John Katzenbach</td>\n",
       "      <td>The Analyst</td>\n",
       "      <td>eng</td>\n",
       "      <td>4.12</td>\n",
       "      <td>https://images.gr-assets.com/books/1280112638m...</td>\n",
       "    </tr>\n",
       "    <tr>\n",
       "      <th>5161</th>\n",
       "      <td>5161</td>\n",
       "      <td>33813</td>\n",
       "      <td>Nelson DeMille</td>\n",
       "      <td>The Gold Coast</td>\n",
       "      <td>NaN</td>\n",
       "      <td>4.06</td>\n",
       "      <td>https://s.gr-assets.com/assets/nophoto/book/11...</td>\n",
       "    </tr>\n",
       "    <tr>\n",
       "      <th>863</th>\n",
       "      <td>863</td>\n",
       "      <td>10967</td>\n",
       "      <td>Diana Gabaldon</td>\n",
       "      <td>The Fiery Cross</td>\n",
       "      <td>eng</td>\n",
       "      <td>4.26</td>\n",
       "      <td>https://images.gr-assets.com/books/1407366842m...</td>\n",
       "    </tr>\n",
       "    <tr>\n",
       "      <th>5813</th>\n",
       "      <td>5813</td>\n",
       "      <td>11915</td>\n",
       "      <td>Kelley Armstrong</td>\n",
       "      <td>Broken</td>\n",
       "      <td>eng</td>\n",
       "      <td>4.19</td>\n",
       "      <td>https://images.gr-assets.com/books/1330706568m...</td>\n",
       "    </tr>\n",
       "    <tr>\n",
       "      <th>1266</th>\n",
       "      <td>1266</td>\n",
       "      <td>40331</td>\n",
       "      <td>Janet Evanovich</td>\n",
       "      <td>To the Nines</td>\n",
       "      <td>eng</td>\n",
       "      <td>4.16</td>\n",
       "      <td>https://images.gr-assets.com/books/1169433446m...</td>\n",
       "    </tr>\n",
       "    <tr>\n",
       "      <th>3149</th>\n",
       "      <td>3149</td>\n",
       "      <td>12299419</td>\n",
       "      <td>Kristen Ashley</td>\n",
       "      <td>Mystery Man (Dream Man, #1)</td>\n",
       "      <td>eng</td>\n",
       "      <td>4.25</td>\n",
       "      <td>https://images.gr-assets.com/books/1483487036m...</td>\n",
       "    </tr>\n",
       "  </tbody>\n",
       "</table>\n",
       "</div>"
      ],
      "text/plain": [
       "        id   book_id            authors                        original_title  \\\n",
       "373    373        21        Bill Bryson  A Short History of Nearly Everything   \n",
       "456    456     10692  Elizabeth Kostova                         The Historian   \n",
       "1581  1581     48328      Richard Yates                    Revolutionary Road   \n",
       "2016  2016   4588949      Michael Scott                         The Sorceress   \n",
       "4962  4962     67931    John Katzenbach                           The Analyst   \n",
       "5161  5161     33813     Nelson DeMille                        The Gold Coast   \n",
       "863    863     10967     Diana Gabaldon                       The Fiery Cross   \n",
       "5813  5813     11915   Kelley Armstrong                                Broken   \n",
       "1266  1266     40331    Janet Evanovich                          To the Nines   \n",
       "3149  3149  12299419     Kristen Ashley           Mystery Man (Dream Man, #1)   \n",
       "\n",
       "     language_code  average_rating  \\\n",
       "373          en-US            4.19   \n",
       "456            eng            3.77   \n",
       "1581           eng            3.89   \n",
       "2016           eng            4.11   \n",
       "4962           eng            4.12   \n",
       "5161           NaN            4.06   \n",
       "863            eng            4.26   \n",
       "5813           eng            4.19   \n",
       "1266           eng            4.16   \n",
       "3149           eng            4.25   \n",
       "\n",
       "                                              image_url  \n",
       "373   https://s.gr-assets.com/assets/nophoto/book/11...  \n",
       "456   https://images.gr-assets.com/books/1338298031m...  \n",
       "1581  https://images.gr-assets.com/books/1353721885m...  \n",
       "2016  https://s.gr-assets.com/assets/nophoto/book/11...  \n",
       "4962  https://images.gr-assets.com/books/1280112638m...  \n",
       "5161  https://s.gr-assets.com/assets/nophoto/book/11...  \n",
       "863   https://images.gr-assets.com/books/1407366842m...  \n",
       "5813  https://images.gr-assets.com/books/1330706568m...  \n",
       "1266  https://images.gr-assets.com/books/1169433446m...  \n",
       "3149  https://images.gr-assets.com/books/1483487036m...  "
      ]
     },
     "execution_count": 29,
     "metadata": {},
     "output_type": "execute_result"
    }
   ],
   "source": [
    "print(\"Books recommended to user:\", target_user)\n",
    "books[books['id'].isin(recommend_to_target)].sample(10)"
   ]
  },
  {
   "cell_type": "code",
   "execution_count": 30,
   "metadata": {},
   "outputs": [
    {
     "data": {
      "text/plain": [
       "array([456], dtype=int64)"
      ]
     },
     "execution_count": 30,
     "metadata": {},
     "output_type": "execute_result"
    }
   ],
   "source": [
    "np.intersect1d(readed_books,recommend_to_target)"
   ]
  },
  {
   "cell_type": "markdown",
   "metadata": {},
   "source": [
    "### Evaluate Model"
   ]
  },
  {
   "cell_type": "code",
   "execution_count": 31,
   "metadata": {},
   "outputs": [
    {
     "name": "stderr",
     "output_type": "stream",
     "text": [
      "f:\\anaconda\\envs\\tensorflow\\lib\\site-packages\\ipykernel_launcher.py:1: FutureWarning: using a dict on a Series for aggregation\n",
      "is deprecated and will be removed in a future version\n",
      "  \"\"\"Entry point for launching an IPython kernel.\n",
      "f:\\anaconda\\envs\\tensorflow\\lib\\site-packages\\ipykernel_launcher.py:2: FutureWarning: using a dict on a Series for aggregation\n",
      "is deprecated and will be removed in a future version\n",
      "  \n"
     ]
    }
   ],
   "source": [
    "items_interact = data.groupby('book_id')['user_id'].agg({'count':'count'}).reset_index()\n",
    "users_interact = data.groupby('user_id')['book_id'].agg({'count':'count'}).reset_index()"
   ]
  },
  {
   "cell_type": "markdown",
   "metadata": {},
   "source": [
    "#### Histogram distribution of number of rating/book\n",
    "We can see most book have the same number of rating (~100)"
   ]
  },
  {
   "cell_type": "code",
   "execution_count": 32,
   "metadata": {},
   "outputs": [
    {
     "data": {
      "text/plain": [
       "Text(0, 0.5, 'Number of book')"
      ]
     },
     "execution_count": 32,
     "metadata": {},
     "output_type": "execute_result"
    },
    {
     "data": {
      "image/png": "[encoded data removed]",
      "text/plain": [
       "<Figure size 1080x360 with 1 Axes>"
      ]
     },
     "metadata": {
      "needs_background": "light"
     },
     "output_type": "display_data"
    }
   ],
   "source": [
    "fig = plt.figure(figsize=[15,5])\n",
    "_ = plt.hist(items_interact['count'],bins=20)\n",
    "plt.xlabel('Number of user interact')\n",
    "plt.ylabel('Number of book')"
   ]
  },
  {
   "cell_type": "markdown",
   "metadata": {},
   "source": [
    "#### Histogram distribution of number of ratings given/user\n",
    "We can see most people only read less than 15 books while very few read more than 50"
   ]
  },
  {
   "cell_type": "code",
   "execution_count": 33,
   "metadata": {},
   "outputs": [
    {
     "data": {
      "text/plain": [
       "Text(0, 0.5, 'Number of users')"
      ]
     },
     "execution_count": 33,
     "metadata": {},
     "output_type": "execute_result"
    },
    {
     "data": {
      "image/png": "[encoded data removed]",
      "text/plain": [
       "<Figure size 1080x360 with 1 Axes>"
      ]
     },
     "metadata": {
      "needs_background": "light"
     },
     "output_type": "display_data"
    }
   ],
   "source": [
    "fig = plt.figure(figsize=[15,5])\n",
    "_ = plt.hist(users_interact['count'],bins=100)\n",
    "plt.xlabel('Number of book read')\n",
    "plt.ylabel('Number of users')"
   ]
  },
  {
   "cell_type": "markdown",
   "metadata": {},
   "source": [
    "#### Coverage of recommendation"
   ]
  },
  {
   "cell_type": "code",
   "execution_count": 34,
   "metadata": {},
   "outputs": [
    {
     "name": "stdout",
     "output_type": "stream",
     "text": [
      "At DropRate = 0 -The model cover 37.480000000000004% of items in the dataset\n",
      "At DropRate = 0.2 -The model cover 46.04% of items in the dataset\n",
      "At DropRate = 0.5 -The model cover 61.69% of items in the dataset\n",
      "At DropRate = 0.8 -The model cover 82.02000000000001% of items in the dataset\n",
      "At DropRate = 0.99 -The model cover 97.3% of items in the dataset\n"
     ]
    }
   ],
   "source": [
    "k = 20\n",
    "SAMPLE_SIZE = 10000\n",
    "k_droprate = [0,0.2,0.5,0.8,0.99]\n",
    "for dr in k_droprate:\n",
    "    coverages = []\n",
    "    for i in np.random.choice(num_user,SAMPLE_SIZE):\n",
    "        t = np.expand_dims(dense_rating[i],axis=0)\n",
    "        pred = model_session.run(out,feed_dict={x:t,drop_rate:dr})[0]\n",
    "        recom = np.argsort(pred)[::-1][:k]\n",
    "        coverages += recom.tolist()\n",
    "    coverages = np.unique(coverages)\n",
    "    coverages = len(coverages)/num_book\n",
    "    print(f\"At DropRate = {dr} - The model cover {coverages*100:.2f}% of items in the dataset\")"
   ]
  },
  {
   "cell_type": "markdown",
   "metadata": {},
   "source": [
    "#### Personalization of the recommendation"
   ]
  },
  {
   "cell_type": "code",
   "execution_count": 35,
   "metadata": {},
   "outputs": [],
   "source": [
    "from sklearn.metrics.pairwise import cosine_similarity"
   ]
  },
  {
   "cell_type": "code",
   "execution_count": 36,
   "metadata": {},
   "outputs": [],
   "source": [
    "k = 20\n",
    "coverages = []\n",
    "for i in range(num_user):\n",
    "    t = np.expand_dims(dense_rating[i],axis=0)\n",
    "    pred = model_session.run(out,feed_dict={x:t,drop_rate:0})[0]\n",
    "    recom = np.argsort(pred)[::-1][:k]\n",
    "    coverages.append(recom)\n",
    "coverages = np.array(coverages)"
   ]
  },
  {
   "cell_type": "code",
   "execution_count": 37,
   "metadata": {},
   "outputs": [
    {
     "name": "stdout",
     "output_type": "stream",
     "text": [
      "Personalization Score = 0.8503462519999998\n"
     ]
    }
   ],
   "source": [
    "# Sample 5000 user to measure the similarity of their recommendation\n",
    "# Calculate for 50k users is too much\n",
    "SAMPLE_SIZE = 5000\n",
    "sample = np.random.choice(num_user,size=SAMPLE_SIZE,replace=False)\n",
    "t_coverages = coverages[sample]\n",
    "t_matrix = np.zeros([SAMPLE_SIZE,num_book])\n",
    "for i in range(SAMPLE_SIZE):\n",
    "    t_matrix[i][t_coverages[i]]=1\n",
    "\n",
    "similarity = cosine_similarity(t_matrix)\n",
    "# Personalized Score = 1 - mean_of_upper_triangle(similarity)\n",
    "# The higher the score, the better\n",
    "personalized_score = 1-np.sum(np.triu(similarity))/(np.prod(similarity.shape)/2)\n",
    "print(\"Personalization Score =\",personalized_score)"
   ]
  },
  {
   "cell_type": "markdown",
   "metadata": {},
   "source": [
    "#### Mean Average Precision & Mean Average Recall (MAP@K and MAR@K)\n",
    "https://towardsdatascience.com/breaking-down-mean-average-precision-map-ae462f623a52\n",
    "\n",
    "https://www.youtube.com/watch?v=pM6DJ0ZZee0\n",
    "\n",
    "http://fastml.com/what-you-wanted-to-know-about-mean-average-precision/"
   ]
  },
  {
   "cell_type": "markdown",
   "metadata": {},
   "source": [
    "![title](https://miro.medium.com/max/350/0*WcR6weG1ORhMcJOl.png)"
   ]
  },
  {
   "cell_type": "code",
   "execution_count": 52,
   "metadata": {},
   "outputs": [],
   "source": [
    "def average_precision(ground_truth,preds):\n",
    "    precisions = []\n",
    "    correct = 0\n",
    "    for i,v in enumerate(preds):\n",
    "        if v in ground_truth:\n",
    "            correct+=1\n",
    "            precisions.append(correct/(i+1))\n",
    "    if correct == 0:\n",
    "        return 0\n",
    "    print(precisions)\n",
    "    return np.sum(precisions)/correct"
   ]
  },
  {
   "cell_type": "code",
   "execution_count": null,
   "metadata": {},
   "outputs": [],
   "source": [
    "# Sample 1000 user query\n",
    "SAMPLE_SIZE = 1000\n",
    "sample = np.random.choice(num_user,size=SAMPLE_SIZE,replace=False)\n",
    "sample = dense_rating[sample]\n"
   ]
  },
  {
   "cell_type": "code",
   "execution_count": 56,
   "metadata": {},
   "outputs": [
    {
     "name": "stdout",
     "output_type": "stream",
     "text": [
      "<class 'numpy.ndarray'>\n"
     ]
    }
   ],
   "source": [
    "print(type(sample))"
   ]
  },
  {
   "cell_type": "code",
   "execution_count": 75,
   "metadata": {},
   "outputs": [],
   "source": [
    "def user_items(df,user_id,key_userId,key_itemID):\n",
    "    if (str(type(user_id) == \"<class 'list'>\") or str(type(user_id) == \"<class 'numpy.ndarray'>\")):\n",
    "        def func(x):\n",
    "            return x.values\n",
    "        tdf = df[df[key_userId].isin(user_id)]\n",
    "        gb = tdf.groupby(key_userId)[key_itemID].apply(func).reset_index()\n",
    "        return gb[gb[key_userId].isin(user_id)]\n",
    "    return df[df[key_userId]==user_id][key_itemID]"
   ]
  },
  {
   "cell_type": "code",
   "execution_count": 83,
   "metadata": {},
   "outputs": [
    {
     "data": {
      "text/plain": [
       "array([8033, 8854, 9761], dtype=int64)"
      ]
     },
     "execution_count": 83,
     "metadata": {},
     "output_type": "execute_result"
    }
   ],
   "source": [
    "user_items(data,sample,'user_id','book_id')['book_id']"
   ]
  },
  {
   "cell_type": "code",
   "execution_count": 38,
   "metadata": {},
   "outputs": [],
   "source": [
    "target_user = 34\n",
    "readed_books = user_items(data,target_user,'user_id','book_id')"
   ]
  },
  {
   "cell_type": "code",
   "execution_count": 39,
   "metadata": {},
   "outputs": [],
   "source": [
    "k=20\n",
    "pred = model_session.run(out,feed_dict={x:dense_rating[target_user].reshape(1,-1),\n",
    "                                       drop_rate:0})[0]\n",
    "recom = np.argsort(pred)[::-1][:k]"
   ]
  },
  {
   "cell_type": "code",
   "execution_count": 50,
   "metadata": {},
   "outputs": [],
   "source": []
  },
  {
   "cell_type": "code",
   "execution_count": 51,
   "metadata": {},
   "outputs": [
    {
     "name": "stdout",
     "output_type": "stream",
     "text": [
      "[0.5]\n"
     ]
    },
    {
     "data": {
      "text/plain": [
       "0.5"
      ]
     },
     "execution_count": 51,
     "metadata": {},
     "output_type": "execute_result"
    }
   ],
   "source": [
    "average_precision(ground_truth=readed_books,preds=recom)"
   ]
  },
  {
   "cell_type": "code",
   "execution_count": 42,
   "metadata": {},
   "outputs": [
    {
     "data": {
      "text/plain": [
       "array([  77,  107,  119,  134,  136,  164,  166,  199,  207,  215,  227,\n",
       "        229,  248,  272,  290,  303,  329,  378,  385,  406,  409,  425,\n",
       "        435,  450,  456,  462,  466,  467,  470,  484,  497,  499,  500,\n",
       "        515,  519,  526,  530,  539,  553,  556,  559,  560,  619,  620,\n",
       "        668,  671,  681,  695,  711,  740,  762,  778,  819,  828,  859,\n",
       "        868,  884,  886,  900,  918,  924,  940,  960, 1004, 1010, 1023,\n",
       "       1054, 1072, 1083, 1106, 1111, 1143, 1179, 1209, 1220, 1309, 1456,\n",
       "       1529, 1543, 1546, 1564, 1680, 1842, 1877, 1927, 1935, 1956, 2024,\n",
       "       2135, 2146, 2187, 2313, 2373, 2523, 2629, 2808, 2856, 2925, 2941,\n",
       "       2942, 3183, 3196, 3424, 3503, 3766, 3774, 3996, 4050, 4102, 4140,\n",
       "       4147, 4276, 4316, 4467, 4472, 4897, 5100, 6046, 7495, 7897, 8135,\n",
       "       8639, 9157, 9794, 9834], dtype=int64)"
      ]
     },
     "execution_count": 42,
     "metadata": {},
     "output_type": "execute_result"
    }
   ],
   "source": [
    "readed_books"
   ]
  },
  {
   "cell_type": "code",
   "execution_count": 43,
   "metadata": {},
   "outputs": [
    {
     "data": {
      "text/plain": [
       "array([ 373,  456, 1581, 1689, 1687, 1188,  281, 1266, 2016, 6333, 4846,\n",
       "       6489, 3149, 5161, 4962,  863, 2275, 5813, 1184,   27], dtype=int64)"
      ]
     },
     "execution_count": 43,
     "metadata": {},
     "output_type": "execute_result"
    }
   ],
   "source": [
    "recommend_to_target"
   ]
  },
  {
   "cell_type": "code",
   "execution_count": 47,
   "metadata": {},
   "outputs": [
    {
     "data": {
      "text/plain": [
       "array([456], dtype=int64)"
      ]
     },
     "execution_count": 47,
     "metadata": {},
     "output_type": "execute_result"
    }
   ],
   "source": [
    "np.intersect1d(readed_books,recom)"
   ]
  },
  {
   "cell_type": "code",
   "execution_count": null,
   "metadata": {},
   "outputs": [],
   "source": []
  }
 ],
 "metadata": {
  "kernelspec": {
   "display_name": "Python 3",
   "language": "python",
   "name": "python3"
  },
  "language_info": {
   "codemirror_mode": {
    "name": "ipython",
    "version": 3
   },
   "file_extension": ".py",
   "mimetype": "text/x-python",
   "name": "python",
   "nbconvert_exporter": "python",
   "pygments_lexer": "ipython3",
   "version": "3.7.3"
  }
 },
 "nbformat": 4,
 "nbformat_minor": 2
}
