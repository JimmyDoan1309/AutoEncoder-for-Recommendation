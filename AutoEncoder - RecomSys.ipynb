{
 "cells": [
  {
   "cell_type": "code",
   "execution_count": 1,
   "metadata": {},
   "outputs": [],
   "source": [
    "import tensorflow as tf\n",
    "import numpy as np\n",
    "import pandas as pd\n",
    "import matplotlib.pyplot as plt\n",
    "import sys"
   ]
  },
  {
   "cell_type": "code",
   "execution_count": 2,
   "metadata": {},
   "outputs": [],
   "source": [
    "data = pd.read_csv('./ratings.csv')\n",
    "books = pd.read_csv('./books.csv')"
   ]
  },
  {
   "cell_type": "code",
   "execution_count": 3,
   "metadata": {},
   "outputs": [],
   "source": [
    "books = books[['id','book_id','authors','original_title','language_code','average_rating','image_url']]"
   ]
  },
  {
   "cell_type": "code",
   "execution_count": 4,
   "metadata": {},
   "outputs": [
    {
     "data": {
      "text/html": [
       "<div>\n",
       "<style scoped>\n",
       "    .dataframe tbody tr th:only-of-type {\n",
       "        vertical-align: middle;\n",
       "    }\n",
       "\n",
       "    .dataframe tbody tr th {\n",
       "        vertical-align: top;\n",
       "    }\n",
       "\n",
       "    .dataframe thead th {\n",
       "        text-align: right;\n",
       "    }\n",
       "</style>\n",
       "<table border=\"1\" class=\"dataframe\">\n",
       "  <thead>\n",
       "    <tr style=\"text-align: right;\">\n",
       "      <th></th>\n",
       "      <th>id</th>\n",
       "      <th>book_id</th>\n",
       "      <th>authors</th>\n",
       "      <th>original_title</th>\n",
       "      <th>language_code</th>\n",
       "      <th>average_rating</th>\n",
       "      <th>image_url</th>\n",
       "    </tr>\n",
       "  </thead>\n",
       "  <tbody>\n",
       "    <tr>\n",
       "      <th>0</th>\n",
       "      <td>1</td>\n",
       "      <td>2767052</td>\n",
       "      <td>Suzanne Collins</td>\n",
       "      <td>The Hunger Games</td>\n",
       "      <td>eng</td>\n",
       "      <td>4.34</td>\n",
       "      <td>https://images.gr-assets.com/books/1447303603m...</td>\n",
       "    </tr>\n",
       "    <tr>\n",
       "      <th>1</th>\n",
       "      <td>2</td>\n",
       "      <td>3</td>\n",
       "      <td>J.K. Rowling, Mary GrandPré</td>\n",
       "      <td>Harry Potter and the Philosopher's Stone</td>\n",
       "      <td>eng</td>\n",
       "      <td>4.44</td>\n",
       "      <td>https://images.gr-assets.com/books/1474154022m...</td>\n",
       "    </tr>\n",
       "    <tr>\n",
       "      <th>2</th>\n",
       "      <td>3</td>\n",
       "      <td>41865</td>\n",
       "      <td>Stephenie Meyer</td>\n",
       "      <td>Twilight</td>\n",
       "      <td>en-US</td>\n",
       "      <td>3.57</td>\n",
       "      <td>https://images.gr-assets.com/books/1361039443m...</td>\n",
       "    </tr>\n",
       "    <tr>\n",
       "      <th>3</th>\n",
       "      <td>4</td>\n",
       "      <td>2657</td>\n",
       "      <td>Harper Lee</td>\n",
       "      <td>To Kill a Mockingbird</td>\n",
       "      <td>eng</td>\n",
       "      <td>4.25</td>\n",
       "      <td>https://images.gr-assets.com/books/1361975680m...</td>\n",
       "    </tr>\n",
       "    <tr>\n",
       "      <th>4</th>\n",
       "      <td>5</td>\n",
       "      <td>4671</td>\n",
       "      <td>F. Scott Fitzgerald</td>\n",
       "      <td>The Great Gatsby</td>\n",
       "      <td>eng</td>\n",
       "      <td>3.89</td>\n",
       "      <td>https://images.gr-assets.com/books/1490528560m...</td>\n",
       "    </tr>\n",
       "  </tbody>\n",
       "</table>\n",
       "</div>"
      ],
      "text/plain": [
       "   id  book_id                      authors  \\\n",
       "0   1  2767052              Suzanne Collins   \n",
       "1   2        3  J.K. Rowling, Mary GrandPré   \n",
       "2   3    41865              Stephenie Meyer   \n",
       "3   4     2657                   Harper Lee   \n",
       "4   5     4671          F. Scott Fitzgerald   \n",
       "\n",
       "                             original_title language_code  average_rating  \\\n",
       "0                          The Hunger Games           eng            4.34   \n",
       "1  Harry Potter and the Philosopher's Stone           eng            4.44   \n",
       "2                                  Twilight         en-US            3.57   \n",
       "3                     To Kill a Mockingbird           eng            4.25   \n",
       "4                          The Great Gatsby           eng            3.89   \n",
       "\n",
       "                                           image_url  \n",
       "0  https://images.gr-assets.com/books/1447303603m...  \n",
       "1  https://images.gr-assets.com/books/1474154022m...  \n",
       "2  https://images.gr-assets.com/books/1361039443m...  \n",
       "3  https://images.gr-assets.com/books/1361975680m...  \n",
       "4  https://images.gr-assets.com/books/1490528560m...  "
      ]
     },
     "execution_count": 4,
     "metadata": {},
     "output_type": "execute_result"
    }
   ],
   "source": [
    "books.head()"
   ]
  },
  {
   "cell_type": "code",
   "execution_count": 5,
   "metadata": {},
   "outputs": [
    {
     "data": {
      "text/html": [
       "<div>\n",
       "<style scoped>\n",
       "    .dataframe tbody tr th:only-of-type {\n",
       "        vertical-align: middle;\n",
       "    }\n",
       "\n",
       "    .dataframe tbody tr th {\n",
       "        vertical-align: top;\n",
       "    }\n",
       "\n",
       "    .dataframe thead th {\n",
       "        text-align: right;\n",
       "    }\n",
       "</style>\n",
       "<table border=\"1\" class=\"dataframe\">\n",
       "  <thead>\n",
       "    <tr style=\"text-align: right;\">\n",
       "      <th></th>\n",
       "      <th>book_id</th>\n",
       "      <th>user_id</th>\n",
       "      <th>rating</th>\n",
       "    </tr>\n",
       "  </thead>\n",
       "  <tbody>\n",
       "    <tr>\n",
       "      <th>0</th>\n",
       "      <td>1</td>\n",
       "      <td>314</td>\n",
       "      <td>5</td>\n",
       "    </tr>\n",
       "    <tr>\n",
       "      <th>1</th>\n",
       "      <td>1</td>\n",
       "      <td>439</td>\n",
       "      <td>3</td>\n",
       "    </tr>\n",
       "    <tr>\n",
       "      <th>2</th>\n",
       "      <td>1</td>\n",
       "      <td>588</td>\n",
       "      <td>5</td>\n",
       "    </tr>\n",
       "    <tr>\n",
       "      <th>3</th>\n",
       "      <td>1</td>\n",
       "      <td>1169</td>\n",
       "      <td>4</td>\n",
       "    </tr>\n",
       "    <tr>\n",
       "      <th>4</th>\n",
       "      <td>1</td>\n",
       "      <td>1185</td>\n",
       "      <td>4</td>\n",
       "    </tr>\n",
       "  </tbody>\n",
       "</table>\n",
       "</div>"
      ],
      "text/plain": [
       "   book_id  user_id  rating\n",
       "0        1      314       5\n",
       "1        1      439       3\n",
       "2        1      588       5\n",
       "3        1     1169       4\n",
       "4        1     1185       4"
      ]
     },
     "execution_count": 5,
     "metadata": {},
     "output_type": "execute_result"
    }
   ],
   "source": [
    "data.head()"
   ]
  },
  {
   "cell_type": "code",
   "execution_count": 6,
   "metadata": {},
   "outputs": [],
   "source": [
    "data['book_id'] = data['book_id']-1\n",
    "data['user_id'] = data['user_id']-1\n",
    "books['id'] = books['id']-1"
   ]
  },
  {
   "cell_type": "code",
   "execution_count": 7,
   "metadata": {},
   "outputs": [],
   "source": [
    "data = data.drop_duplicates().reset_index(drop=True)"
   ]
  },
  {
   "cell_type": "code",
   "execution_count": 8,
   "metadata": {},
   "outputs": [],
   "source": [
    "num_user = len(data['user_id'].unique())\n",
    "num_book = len(data['book_id'].unique())"
   ]
  },
  {
   "cell_type": "markdown",
   "metadata": {},
   "source": [
    "### Data preprocessing"
   ]
  },
  {
   "cell_type": "code",
   "execution_count": 9,
   "metadata": {},
   "outputs": [],
   "source": [
    "# Create a sparse iteration matrix from rating data\n",
    "def create_sparse_matrix(num_user,num_item,df):\n",
    "    sess = tf.Session()\n",
    "    indices = df[['user_id','book_id']].values.astype(np.int32)\n",
    "    values = df['rating'].values.astype(np.int32)\n",
    "    dense_shape = (num_user,num_item)\n",
    "    resp =  sess.run(tf.SparseTensor(indices,values,dense_shape))\n",
    "    tf.reset_default_graph()\n",
    "    return resp"
   ]
  },
  {
   "cell_type": "code",
   "execution_count": 10,
   "metadata": {},
   "outputs": [],
   "source": [
    "rating_matrix = create_sparse_matrix(num_user,num_book,data)"
   ]
  },
  {
   "cell_type": "code",
   "execution_count": 11,
   "metadata": {},
   "outputs": [],
   "source": [
    "# create a class to generate data from sparse to dense format\n",
    "class SparseToDenseGenerator:\n",
    "    def __init__(self,sparse_matrix,num_row,num_col,batch_size=256):\n",
    "        self.sess = tf.Session()\n",
    "        self.sparse_matrix = sparse_matrix\n",
    "        self.num_row = num_row\n",
    "        self.num_col = num_col\n",
    "        self.batch_size = batch_size\n",
    "        self.total_batch = int(np.ceil(num_row/batch_size))\n",
    "        self.count = 0\n",
    "        \n",
    "    def get(self):\n",
    "        start = self.count*self.batch_size\n",
    "        size = start+self.batch_size\n",
    "        self.count+=1\n",
    "        if (size > self.num_row):\n",
    "            size = self.num_row\n",
    "            self.count = 0\n",
    "        with self.sess.graph.as_default():\n",
    "            t = self.sess.run(tf.sparse.slice(self.sparse_matrix,[start,0],[size,self.num_col]))\n",
    "            rep =  self.sess.run(tf.sparse.to_dense(t,validate_indices=False))  \n",
    "        return rep.astype(np.float32)\n",
    "    \n",
    "class DataGenerator:\n",
    "    def __init__(self,data,batch_size=256,shuffle=True):\n",
    "        self.data = data\n",
    "        self.row = data.shape[0]\n",
    "        self.batch_size = batch_size\n",
    "        self.total_batch = int(np.ceil(self.row/batch_size))\n",
    "        self.count = 0\n",
    "        self.shuffle=shuffle\n",
    "        \n",
    "    def get(self):\n",
    "        done = False\n",
    "        lower = self.count*self.batch_size\n",
    "        upper = lower+self.batch_size\n",
    "        self.count+=1\n",
    "        if (upper > self.row):\n",
    "            upper = self.row\n",
    "            self.count = 0\n",
    "            done = True\n",
    "        resp = self.data[lower:upper]\n",
    "        if done:\n",
    "            perm = np.random.permutation(self.row)\n",
    "            self.data = self.data[perm]\n",
    "        return resp\n",
    "        "
   ]
  },
  {
   "cell_type": "code",
   "execution_count": 12,
   "metadata": {},
   "outputs": [],
   "source": [
    "dense_rating = tf.Session().run(tf.sparse.to_dense(rating_matrix,validate_indices=False))\n",
    "data_generator = DataGenerator(dense_rating)"
   ]
  },
  {
   "cell_type": "code",
   "execution_count": 13,
   "metadata": {},
   "outputs": [
    {
     "data": {
      "text/plain": [
       "209"
      ]
     },
     "execution_count": 13,
     "metadata": {},
     "output_type": "execute_result"
    }
   ],
   "source": [
    "data_generator.total_batch"
   ]
  },
  {
   "cell_type": "markdown",
   "metadata": {},
   "source": [
    "### AutoEncoder model"
   ]
  },
  {
   "cell_type": "code",
   "execution_count": 14,
   "metadata": {},
   "outputs": [],
   "source": [
    "def forward_path(x):\n",
    "    with tf.variable_scope('AutoEncoder',reuse=tf.AUTO_REUSE):\n",
    "        z = tf.layers.Dense(512,activation=tf.nn.selu,kernel_initializer=tf.initializers.glorot_normal)(x)\n",
    "        z = tf.layers.Dense(512,activation=tf.nn.selu,kernel_initializer=tf.initializers.glorot_normal)(z)\n",
    "        latent = tf.layers.Dense(1024,activation=tf.nn.selu,kernel_initializer=tf.initializers.glorot_normal)(z)\n",
    "        latent = tf.layers.Dropout(0.8)(latent)\n",
    "        z = z = tf.layers.Dense(512,activation=tf.nn.selu,kernel_initializer=tf.initializers.glorot_normal)(latent)\n",
    "        z = tf.layers.Dense(512,activation=tf.nn.selu,kernel_initializer=tf.initializers.glorot_normal)(z)\n",
    "        out = tf.layers.Dense(num_book,activation=tf.nn.selu,kernel_initializer=tf.initializers.glorot_normal)(z)\n",
    "        return out\n"
   ]
  },
  {
   "cell_type": "code",
   "execution_count": 15,
   "metadata": {},
   "outputs": [],
   "source": [
    "tf.reset_default_graph()"
   ]
  },
  {
   "cell_type": "code",
   "execution_count": 16,
   "metadata": {},
   "outputs": [
    {
     "name": "stderr",
     "output_type": "stream",
     "text": [
      "WARNING: Logging before flag parsing goes to stderr.\n",
      "W0719 10:30:18.523881 140410951362368 deprecation.py:323] From /usr/local/lib/python3.6/dist-packages/tensorflow/python/ops/losses/losses_impl.py:121: add_dispatch_support.<locals>.wrapper (from tensorflow.python.ops.array_ops) is deprecated and will be removed in a future version.\n",
      "Instructions for updating:\n",
      "Use tf.where in 2.0, which has the same broadcast rule as np.where\n"
     ]
    }
   ],
   "source": [
    "x = tf.placeholder(dtype=tf.float32,shape=[None,num_book],name='data')\n",
    "optimizer = tf.train.GradientDescentOptimizer(0.05)\n",
    "\n",
    "# Forward path\n",
    "out = forward_path(x)\n",
    "loss = tf.math.sqrt(tf.losses.mean_squared_error(x,out))\n",
    "train = optimizer.minimize(loss)\n",
    "\n",
    "# Dense Re-feeding (DR)\n",
    "dr_out = forward_path(out)\n",
    "dr_loss = tf.math.sqrt(tf.losses.mean_squared_error(out,dr_out))\n",
    "dr_train = optimizer.minimize(dr_loss)"
   ]
  },
  {
   "cell_type": "code",
   "execution_count": 17,
   "metadata": {},
   "outputs": [],
   "source": [
    "model_session = tf.Session()\n",
    "model_session.run(tf.global_variables_initializer())"
   ]
  },
  {
   "cell_type": "code",
   "execution_count": 18,
   "metadata": {},
   "outputs": [
    {
     "name": "stdout",
     "output_type": "stream",
     "text": [
      "Total trainable parameters = 11825936\n"
     ]
    }
   ],
   "source": [
    "trainable_variables = np.sum([np.prod(v.shape).value for v in tf.trainable_variables()])\n",
    "print(f\"Total trainable parameters = {trainable_variables}\")"
   ]
  },
  {
   "cell_type": "code",
   "execution_count": 19,
   "metadata": {},
   "outputs": [],
   "source": [
    "losses = []"
   ]
  },
  {
   "cell_type": "code",
   "execution_count": 20,
   "metadata": {},
   "outputs": [
    {
     "name": "stdout",
     "output_type": "stream",
     "text": [
      "Epoch 1: loss (rmse) = 0.26218414306640625 (max = 0.29356512427330017, min = 0.2235732525587082)\n",
      "Epoch 2: loss (rmse) = 0.2488008290529251 (max = 0.2790862023830414, min = 0.2265963852405548)\n",
      "Epoch 3: loss (rmse) = 0.2393394410610199 (max = 0.26217252016067505, min = 0.2149166315793991)\n",
      "Epoch 4: loss (rmse) = 0.2314632385969162 (max = 0.25070711970329285, min = 0.20413115620613098)\n",
      "Epoch 5: loss (rmse) = 0.22461473941802979 (max = 0.244609996676445, min = 0.1953752636909485)\n",
      "Epoch 6: loss (rmse) = 0.21856386959552765 (max = 0.2413933277130127, min = 0.19667838513851166)\n",
      "Epoch 7: loss (rmse) = 0.21306292712688446 (max = 0.2379947453737259, min = 0.18786115944385529)\n",
      "Epoch 8: loss (rmse) = 0.20812082290649414 (max = 0.23758935928344727, min = 0.18826468288898468)\n",
      "Epoch 9: loss (rmse) = 0.20369823276996613 (max = 0.2276735156774521, min = 0.18011987209320068)\n",
      "Epoch 10: loss (rmse) = 0.19983771443367004 (max = 0.22200119495391846, min = 0.18294382095336914)\n",
      "Epoch 11: loss (rmse) = 0.19639885425567627 (max = 0.21301767230033875, min = 0.17281943559646606)\n",
      "Epoch 12: loss (rmse) = 0.19342727959156036 (max = 0.21387162804603577, min = 0.1716311275959015)\n",
      "Epoch 13: loss (rmse) = 0.19093355536460876 (max = 0.2103622555732727, min = 0.1712905466556549)\n",
      "Epoch 14: loss (rmse) = 0.18877874314785004 (max = 0.21219387650489807, min = 0.1678040623664856)\n",
      "Epoch 15: loss (rmse) = 0.1869405061006546 (max = 0.21179383993148804, min = 0.16950452327728271)\n",
      "Epoch 16: loss (rmse) = 0.1853175163269043 (max = 0.20671860873699188, min = 0.1667555421590805)\n",
      "Epoch 17: loss (rmse) = 0.18385475873947144 (max = 0.2043246477842331, min = 0.16578437387943268)\n",
      "Epoch 18: loss (rmse) = 0.18256914615631104 (max = 0.2031898945569992, min = 0.1623380035161972)\n",
      "Epoch 19: loss (rmse) = 0.1814478486776352 (max = 0.20619483292102814, min = 0.15841959416866302)\n",
      "Epoch 20: loss (rmse) = 0.18049468100070953 (max = 0.20258799195289612, min = 0.16066579520702362)\n",
      "Epoch 21: loss (rmse) = 0.17974530160427094 (max = 0.197129487991333, min = 0.16165965795516968)\n",
      "Epoch 22: loss (rmse) = 0.17899855971336365 (max = 0.20056197047233582, min = 0.1552811563014984)\n",
      "Epoch 23: loss (rmse) = 0.17850294709205627 (max = 0.19927890598773956, min = 0.15866167843341827)\n",
      "Epoch 24: loss (rmse) = 0.17797841131687164 (max = 0.2000509649515152, min = 0.14944525063037872)\n",
      "Epoch 25: loss (rmse) = 0.1775682121515274 (max = 0.19962815940380096, min = 0.15735359489917755)\n",
      "Epoch 26: loss (rmse) = 0.177187979221344 (max = 0.19925536215305328, min = 0.15692856907844543)\n",
      "Epoch 27: loss (rmse) = 0.1768544763326645 (max = 0.20207485556602478, min = 0.15662528574466705)\n",
      "Epoch 28: loss (rmse) = 0.17662560939788818 (max = 0.20294150710105896, min = 0.1601574420928955)\n",
      "Epoch 29: loss (rmse) = 0.17630361020565033 (max = 0.19671335816383362, min = 0.1580304056406021)\n",
      "Epoch 30: loss (rmse) = 0.17601871490478516 (max = 0.1994314044713974, min = 0.15192484855651855)\n",
      "Epoch 31: loss (rmse) = 0.1758119910955429 (max = 0.19722700119018555, min = 0.15241363644599915)\n",
      "Epoch 32: loss (rmse) = 0.1756141185760498 (max = 0.1968129575252533, min = 0.15602564811706543)\n",
      "Epoch 33: loss (rmse) = 0.17544829845428467 (max = 0.1948941946029663, min = 0.15375009179115295)\n",
      "Epoch 34: loss (rmse) = 0.1752432882785797 (max = 0.19568970799446106, min = 0.15377099812030792)\n",
      "Epoch 35: loss (rmse) = 0.1750611662864685 (max = 0.19653509557247162, min = 0.15152330696582794)\n",
      "Epoch 36: loss (rmse) = 0.17492221295833588 (max = 0.192967489361763, min = 0.15090765058994293)\n",
      "Epoch 37: loss (rmse) = 0.17474578320980072 (max = 0.1971776783466339, min = 0.15643846988677979)\n",
      "Epoch 38: loss (rmse) = 0.1745883971452713 (max = 0.1990666538476944, min = 0.15448328852653503)\n",
      "Epoch 39: loss (rmse) = 0.17447656393051147 (max = 0.19343127310276031, min = 0.15203185379505157)\n",
      "Epoch 40: loss (rmse) = 0.17434926331043243 (max = 0.1997939795255661, min = 0.1496519148349762)\n",
      "Epoch 41: loss (rmse) = 0.17421062290668488 (max = 0.19842226803302765, min = 0.15457698702812195)\n",
      "Epoch 42: loss (rmse) = 0.1741478592157364 (max = 0.1966162770986557, min = 0.15081287920475006)\n",
      "Epoch 43: loss (rmse) = 0.17406517267227173 (max = 0.1931416541337967, min = 0.15310312807559967)\n",
      "Epoch 44: loss (rmse) = 0.17391768097877502 (max = 0.19855812191963196, min = 0.15527845919132233)\n",
      "Epoch 45: loss (rmse) = 0.17381080985069275 (max = 0.20907996594905853, min = 0.1510397344827652)\n",
      "Epoch 46: loss (rmse) = 0.17372065782546997 (max = 0.19493748247623444, min = 0.1479186713695526)\n",
      "Epoch 47: loss (rmse) = 0.17364168167114258 (max = 0.19606620073318481, min = 0.15444724261760712)\n",
      "Epoch 48: loss (rmse) = 0.17358212172985077 (max = 0.18942643702030182, min = 0.1559097021818161)\n",
      "Epoch 49: loss (rmse) = 0.17349371314048767 (max = 0.1962881088256836, min = 0.14936533570289612)\n",
      "Epoch 50: loss (rmse) = 0.173411026597023 (max = 0.20186379551887512, min = 0.1535736620426178)\n",
      "Epoch 51: loss (rmse) = 0.17327629029750824 (max = 0.19015555083751678, min = 0.1457710564136505)\n",
      "Epoch 52: loss (rmse) = 0.17319604754447937 (max = 0.1987053006887436, min = 0.15314248204231262)\n",
      "Epoch 53: loss (rmse) = 0.17318707704544067 (max = 0.20065109431743622, min = 0.15031081438064575)\n",
      "Epoch 54: loss (rmse) = 0.17307895421981812 (max = 0.19067929685115814, min = 0.15401430428028107)\n",
      "Epoch 55: loss (rmse) = 0.1730080246925354 (max = 0.1989145129919052, min = 0.15304817259311676)\n",
      "Epoch 56: loss (rmse) = 0.17300324141979218 (max = 0.19051875174045563, min = 0.1532655507326126)\n",
      "Epoch 57: loss (rmse) = 0.17293518781661987 (max = 0.1994512975215912, min = 0.14863498508930206)\n",
      "Epoch 58: loss (rmse) = 0.17285561561584473 (max = 0.20143987238407135, min = 0.15494173765182495)\n",
      "Epoch 59: loss (rmse) = 0.1728387176990509 (max = 0.193909153342247, min = 0.15215909481048584)\n",
      "Epoch 60: loss (rmse) = 0.17278191447257996 (max = 0.19094441831111908, min = 0.1538439840078354)\n",
      "Epoch 61: loss (rmse) = 0.172685906291008 (max = 0.19359660148620605, min = 0.15538161993026733)\n",
      "Epoch 62: loss (rmse) = 0.17257456481456757 (max = 0.19719550013542175, min = 0.14855922758579254)\n",
      "Epoch 63: loss (rmse) = 0.17259198427200317 (max = 0.18991364538669586, min = 0.15238483250141144)\n",
      "Epoch 64: loss (rmse) = 0.17257222533226013 (max = 0.19069714844226837, min = 0.15539176762104034)\n",
      "Epoch 65: loss (rmse) = 0.1724816858768463 (max = 0.19520381093025208, min = 0.1489456593990326)\n",
      "Epoch 66: loss (rmse) = 0.17246417701244354 (max = 0.19321206212043762, min = 0.1564900279045105)\n",
      "Epoch 67: loss (rmse) = 0.17238016426563263 (max = 0.19621242582798004, min = 0.1494375616312027)\n",
      "Epoch 68: loss (rmse) = 0.17236076295375824 (max = 0.19548991322517395, min = 0.1522475928068161)\n",
      "Epoch 69: loss (rmse) = 0.17230381071567535 (max = 0.19303593039512634, min = 0.14953196048736572)\n",
      "Epoch 70: loss (rmse) = 0.17229996621608734 (max = 0.18961739540100098, min = 0.1569044440984726)\n",
      "Epoch 71: loss (rmse) = 0.17226028442382812 (max = 0.19019560515880585, min = 0.14952793717384338)\n",
      "Epoch 72: loss (rmse) = 0.17222361266613007 (max = 0.19333121180534363, min = 0.15292160212993622)\n",
      "Epoch 73: loss (rmse) = 0.17216148972511292 (max = 0.19553451240062714, min = 0.1551402062177658)\n",
      "Epoch 74: loss (rmse) = 0.17212538421154022 (max = 0.1904604434967041, min = 0.15422748029232025)\n",
      "Epoch 75: loss (rmse) = 0.172063946723938 (max = 0.19992797076702118, min = 0.15133090317249298)\n",
      "Epoch 76: loss (rmse) = 0.17205817997455597 (max = 0.19432534277439117, min = 0.14920379221439362)\n",
      "Epoch 77: loss (rmse) = 0.1719803512096405 (max = 0.19613656401634216, min = 0.14747503399848938)\n",
      "Epoch 78: loss (rmse) = 0.17198561131954193 (max = 0.19077168405056, min = 0.15159638226032257)\n",
      "Epoch 79: loss (rmse) = 0.17198264598846436 (max = 0.195494145154953, min = 0.15406830608844757)\n",
      "Epoch 80: loss (rmse) = 0.17191533744335175 (max = 0.19130750000476837, min = 0.14830905199050903)\n",
      "Epoch 81: loss (rmse) = 0.17188690602779388 (max = 0.19352668523788452, min = 0.15111397206783295)\n",
      "Epoch 82: loss (rmse) = 0.17187340557575226 (max = 0.19556193053722382, min = 0.15207916498184204)\n",
      "Epoch 83: loss (rmse) = 0.1718614548444748 (max = 0.1905374377965927, min = 0.15233054757118225)\n",
      "Epoch 84: loss (rmse) = 0.1718100607395172 (max = 0.19631746411323547, min = 0.15021024644374847)\n"
     ]
    },
    {
     "name": "stdout",
     "output_type": "stream",
     "text": [
      "Epoch 85: loss (rmse) = 0.17178507149219513 (max = 0.19514340162277222, min = 0.15417955815792084)\n",
      "Epoch 86: loss (rmse) = 0.1717693954706192 (max = 0.1946393847465515, min = 0.15583570301532745)\n",
      "Epoch 87: loss (rmse) = 0.17170381546020508 (max = 0.19111508131027222, min = 0.14627449214458466)\n",
      "Epoch 88: loss (rmse) = 0.17171885073184967 (max = 0.19054381549358368, min = 0.1454555243253708)\n",
      "Epoch 89: loss (rmse) = 0.17168378829956055 (max = 0.19191759824752808, min = 0.14933203160762787)\n",
      "Epoch 90: loss (rmse) = 0.1716741919517517 (max = 0.1921084076166153, min = 0.14877726137638092)\n",
      "Epoch 91: loss (rmse) = 0.17161451280117035 (max = 0.19556045532226562, min = 0.15360836684703827)\n",
      "Epoch 92: loss (rmse) = 0.1715652048587799 (max = 0.20198319852352142, min = 0.1500920206308365)\n",
      "Epoch 93: loss (rmse) = 0.17153006792068481 (max = 0.19458183646202087, min = 0.15243008732795715)\n",
      "Epoch 94: loss (rmse) = 0.17157158255577087 (max = 0.19720488786697388, min = 0.14778564870357513)\n",
      "Epoch 95: loss (rmse) = 0.17151367664337158 (max = 0.18854430317878723, min = 0.15399307012557983)\n",
      "Epoch 96: loss (rmse) = 0.17151173949241638 (max = 0.1937805712223053, min = 0.1553339660167694)\n",
      "Epoch 97: loss (rmse) = 0.171456441283226 (max = 0.20199692249298096, min = 0.14937159419059753)\n",
      "Epoch 98: loss (rmse) = 0.17146463692188263 (max = 0.18914636969566345, min = 0.1468583196401596)\n",
      "Epoch 99: loss (rmse) = 0.17138175666332245 (max = 0.1941499561071396, min = 0.14906732738018036)\n",
      "Epoch 100: loss (rmse) = 0.1714066118001938 (max = 0.18980933725833893, min = 0.15150001645088196)\n",
      "Epoch 101: loss (rmse) = 0.17138712108135223 (max = 0.19764277338981628, min = 0.15441618859767914)\n",
      "Epoch 102: loss (rmse) = 0.17138202488422394 (max = 0.19441547989845276, min = 0.1549655944108963)\n",
      "Epoch 103: loss (rmse) = 0.171392560005188 (max = 0.19211329519748688, min = 0.14769364893436432)\n",
      "Epoch 104: loss (rmse) = 0.1713522970676422 (max = 0.19203339517116547, min = 0.15398716926574707)\n",
      "Epoch 105: loss (rmse) = 0.17129775881767273 (max = 0.19573596119880676, min = 0.14727333188056946)\n",
      "Epoch 106: loss (rmse) = 0.1713160127401352 (max = 0.19189994037151337, min = 0.14946195483207703)\n",
      "Epoch 107: loss (rmse) = 0.17131060361862183 (max = 0.19177520275115967, min = 0.1531326174736023)\n",
      "Epoch 108: loss (rmse) = 0.17125698924064636 (max = 0.19135023653507233, min = 0.1451604813337326)\n",
      "Epoch 109: loss (rmse) = 0.17122377455234528 (max = 0.19507457315921783, min = 0.14807581901550293)\n",
      "Epoch 110: loss (rmse) = 0.17122741043567657 (max = 0.1949729323387146, min = 0.1424015462398529)\n",
      "Epoch 111: loss (rmse) = 0.1711912900209427 (max = 0.19694215059280396, min = 0.15275287628173828)\n",
      "Epoch 112: loss (rmse) = 0.17120958864688873 (max = 0.19124318659305573, min = 0.15613263845443726)\n",
      "Epoch 113: loss (rmse) = 0.17116889357566833 (max = 0.19250087440013885, min = 0.15194439888000488)\n",
      "Epoch 114: loss (rmse) = 0.17116360366344452 (max = 0.18856073915958405, min = 0.1454043984413147)\n",
      "Epoch 115: loss (rmse) = 0.1711280792951584 (max = 0.19109326601028442, min = 0.1497405767440796)\n",
      "Epoch 116: loss (rmse) = 0.1711278259754181 (max = 0.1884770691394806, min = 0.1504136621952057)\n",
      "Epoch 117: loss (rmse) = 0.17112934589385986 (max = 0.1974894106388092, min = 0.15064090490341187)\n",
      "Epoch 118: loss (rmse) = 0.1711207777261734 (max = 0.19242428243160248, min = 0.15098638832569122)\n",
      "Epoch 119: loss (rmse) = 0.17104561626911163 (max = 0.2012501358985901, min = 0.14745214581489563)\n",
      "Epoch 120: loss (rmse) = 0.1710631251335144 (max = 0.19357925653457642, min = 0.15190352499485016)\n",
      "Epoch 121: loss (rmse) = 0.17102473974227905 (max = 0.1953831911087036, min = 0.14994187653064728)\n",
      "Epoch 122: loss (rmse) = 0.1710473895072937 (max = 0.1929095983505249, min = 0.14912153780460358)\n",
      "Epoch 123: loss (rmse) = 0.17100946605205536 (max = 0.19483967125415802, min = 0.14532816410064697)\n",
      "Epoch 124: loss (rmse) = 0.17103812098503113 (max = 0.19652187824249268, min = 0.15387625992298126)\n",
      "Epoch 125: loss (rmse) = 0.17095470428466797 (max = 0.20337827503681183, min = 0.14868946373462677)\n",
      "Epoch 126: loss (rmse) = 0.17095129191875458 (max = 0.19223624467849731, min = 0.1455499529838562)\n",
      "Epoch 127: loss (rmse) = 0.1709543913602829 (max = 0.20272289216518402, min = 0.15052932500839233)\n",
      "Epoch 128: loss (rmse) = 0.17091110348701477 (max = 0.19156891107559204, min = 0.14966581761837006)\n",
      "Epoch 129: loss (rmse) = 0.17095719277858734 (max = 0.18769796192646027, min = 0.1501351296901703)\n",
      "Epoch 130: loss (rmse) = 0.1709395796060562 (max = 0.19376221299171448, min = 0.15087451040744781)\n",
      "Epoch 131: loss (rmse) = 0.17091716825962067 (max = 0.1913176327943802, min = 0.1495458483695984)\n",
      "Epoch 132: loss (rmse) = 0.17088405787944794 (max = 0.1917160451412201, min = 0.14811089634895325)\n",
      "Epoch 133: loss (rmse) = 0.1708907037973404 (max = 0.18996842205524445, min = 0.14993111789226532)\n",
      "Epoch 134: loss (rmse) = 0.17090614140033722 (max = 0.1892324537038803, min = 0.149648979306221)\n",
      "Epoch 135: loss (rmse) = 0.17086200416088104 (max = 0.19119645655155182, min = 0.1457289606332779)\n",
      "Epoch 136: loss (rmse) = 0.17085379362106323 (max = 0.19573764503002167, min = 0.14993080496788025)\n",
      "Epoch 137: loss (rmse) = 0.170833021402359 (max = 0.19094790518283844, min = 0.15377295017242432)\n",
      "Epoch 138: loss (rmse) = 0.17083178460597992 (max = 0.19366800785064697, min = 0.15147778391838074)\n",
      "Epoch 139: loss (rmse) = 0.17084228992462158 (max = 0.19083397090435028, min = 0.1536494642496109)\n",
      "Epoch 140: loss (rmse) = 0.1708071082830429 (max = 0.19335360825061798, min = 0.1516571193933487)\n",
      "Epoch 141: loss (rmse) = 0.17079071700572968 (max = 0.19208864867687225, min = 0.1538137048482895)\n",
      "Epoch 142: loss (rmse) = 0.17079849541187286 (max = 0.1926029622554779, min = 0.15117523074150085)\n",
      "Epoch 143: loss (rmse) = 0.17079874873161316 (max = 0.1935526728630066, min = 0.15390071272850037)\n",
      "Epoch 144: loss (rmse) = 0.17074230313301086 (max = 0.19136056303977966, min = 0.15284183621406555)\n",
      "Epoch 145: loss (rmse) = 0.17071403563022614 (max = 0.18880806863307953, min = 0.1519414186477661)\n",
      "Epoch 146: loss (rmse) = 0.17074070870876312 (max = 0.19129882752895355, min = 0.15116135776042938)\n",
      "Epoch 147: loss (rmse) = 0.1707276999950409 (max = 0.19558745622634888, min = 0.1484163999557495)\n",
      "Epoch 148: loss (rmse) = 0.17072832584381104 (max = 0.19005492329597473, min = 0.1469934731721878)\n",
      "Epoch 149: loss (rmse) = 0.17069607973098755 (max = 0.1934291571378708, min = 0.15072399377822876)\n",
      "Epoch 150: loss (rmse) = 0.1706911325454712 (max = 0.19088974595069885, min = 0.15261168777942657)\n",
      "Epoch 151: loss (rmse) = 0.1706664115190506 (max = 0.1906735748052597, min = 0.1463920623064041)\n",
      "Epoch 152: loss (rmse) = 0.1706887185573578 (max = 0.1933227777481079, min = 0.15063787996768951)\n",
      "Epoch 153: loss (rmse) = 0.17069368064403534 (max = 0.18837031722068787, min = 0.14718884229660034)\n",
      "Epoch 154: loss (rmse) = 0.1706560105085373 (max = 0.1930607110261917, min = 0.1468343436717987)\n",
      "Epoch 155: loss (rmse) = 0.17066890001296997 (max = 0.18750937283039093, min = 0.15214315056800842)\n",
      "Epoch 156: loss (rmse) = 0.17061008512973785 (max = 0.18894551694393158, min = 0.15205729007720947)\n",
      "Epoch 157: loss (rmse) = 0.17063520848751068 (max = 0.19232362508773804, min = 0.1453060805797577)\n",
      "Epoch 158: loss (rmse) = 0.17062126100063324 (max = 0.1933467835187912, min = 0.14904536306858063)\n",
      "Epoch 159: loss (rmse) = 0.17061655223369598 (max = 0.1875966340303421, min = 0.15321169793605804)\n",
      "Epoch 160: loss (rmse) = 0.17062392830848694 (max = 0.18966145813465118, min = 0.15398135781288147)\n",
      "Epoch 161: loss (rmse) = 0.17058877646923065 (max = 0.18879936635494232, min = 0.14979144930839539)\n",
      "Epoch 162: loss (rmse) = 0.17060530185699463 (max = 0.19981630146503448, min = 0.15004925429821014)\n",
      "Epoch 163: loss (rmse) = 0.17052572965621948 (max = 0.1939920336008072, min = 0.15045414865016937)\n",
      "Epoch 164: loss (rmse) = 0.1705341786146164 (max = 0.19003178179264069, min = 0.15169109404087067)\n",
      "Epoch 165: loss (rmse) = 0.17059572041034698 (max = 0.1893257349729538, min = 0.15354159474372864)\n",
      "Epoch 166: loss (rmse) = 0.1705622375011444 (max = 0.19430913031101227, min = 0.1530444473028183)\n",
      "Epoch 167: loss (rmse) = 0.17052502930164337 (max = 0.1932372897863388, min = 0.14963500201702118)\n"
     ]
    },
    {
     "name": "stdout",
     "output_type": "stream",
     "text": [
      "Epoch 168: loss (rmse) = 0.17053036391735077 (max = 0.18999969959259033, min = 0.14532141387462616)\n",
      "Epoch 169: loss (rmse) = 0.17048104107379913 (max = 0.19216614961624146, min = 0.14633731544017792)\n",
      "Epoch 170: loss (rmse) = 0.17049619555473328 (max = 0.19564175605773926, min = 0.14998583495616913)\n",
      "Epoch 171: loss (rmse) = 0.17050476372241974 (max = 0.19142000377178192, min = 0.15209145843982697)\n",
      "Epoch 172: loss (rmse) = 0.17049112915992737 (max = 0.19530901312828064, min = 0.1517583578824997)\n",
      "Epoch 173: loss (rmse) = 0.17050006985664368 (max = 0.1895822137594223, min = 0.14714545011520386)\n",
      "Epoch 174: loss (rmse) = 0.17048349976539612 (max = 0.19108855724334717, min = 0.15167641639709473)\n",
      "Epoch 175: loss (rmse) = 0.17045238614082336 (max = 0.18982213735580444, min = 0.1464499682188034)\n",
      "Epoch 176: loss (rmse) = 0.17045629024505615 (max = 0.1928015649318695, min = 0.15407539904117584)\n",
      "Epoch 177: loss (rmse) = 0.17045870423316956 (max = 0.19362476468086243, min = 0.14896506071090698)\n",
      "Epoch 178: loss (rmse) = 0.17047052085399628 (max = 0.1881168931722641, min = 0.15372878313064575)\n",
      "Epoch 179: loss (rmse) = 0.17044571042060852 (max = 0.1948098987340927, min = 0.1568213850259781)\n",
      "Epoch 180: loss (rmse) = 0.17042209208011627 (max = 0.19040217995643616, min = 0.1497938334941864)\n",
      "Epoch 181: loss (rmse) = 0.17041315138339996 (max = 0.1932753026485443, min = 0.1502990573644638)\n",
      "Epoch 182: loss (rmse) = 0.17043596506118774 (max = 0.18797802925109863, min = 0.15273649990558624)\n",
      "Epoch 183: loss (rmse) = 0.170400008559227 (max = 0.19392512738704681, min = 0.15188707411289215)\n",
      "Epoch 184: loss (rmse) = 0.170379638671875 (max = 0.19112074375152588, min = 0.14525045454502106)\n",
      "Epoch 185: loss (rmse) = 0.17038379609584808 (max = 0.1925354152917862, min = 0.15206685662269592)\n",
      "Epoch 186: loss (rmse) = 0.17039085924625397 (max = 0.19008813798427582, min = 0.14707177877426147)\n",
      "Epoch 187: loss (rmse) = 0.1704196035861969 (max = 0.1896858513355255, min = 0.15204693377017975)\n",
      "Epoch 188: loss (rmse) = 0.17037077248096466 (max = 0.19006472826004028, min = 0.14716081321239471)\n",
      "Epoch 189: loss (rmse) = 0.1704123318195343 (max = 0.18969926238059998, min = 0.1572176218032837)\n",
      "Epoch 190: loss (rmse) = 0.17036719620227814 (max = 0.1919654756784439, min = 0.15295885503292084)\n",
      "Epoch 191: loss (rmse) = 0.17035456001758575 (max = 0.18910764157772064, min = 0.15309017896652222)\n",
      "Epoch 192: loss (rmse) = 0.1703241467475891 (max = 0.19055357575416565, min = 0.15095263719558716)\n",
      "Epoch 193: loss (rmse) = 0.17034760117530823 (max = 0.19151842594146729, min = 0.14350104331970215)\n",
      "Epoch 194: loss (rmse) = 0.17030251026153564 (max = 0.19297842681407928, min = 0.15121637284755707)\n",
      "Epoch 195: loss (rmse) = 0.17034809291362762 (max = 0.19198431074619293, min = 0.15032322704792023)\n",
      "Epoch 196: loss (rmse) = 0.17030905187129974 (max = 0.19038747251033783, min = 0.15166744589805603)\n",
      "Epoch 197: loss (rmse) = 0.17031794786453247 (max = 0.19107826054096222, min = 0.15422357618808746)\n",
      "Epoch 198: loss (rmse) = 0.1703358292579651 (max = 0.19333285093307495, min = 0.153060644865036)\n",
      "Epoch 199: loss (rmse) = 0.17034032940864563 (max = 0.19041359424591064, min = 0.1527065932750702)\n",
      "Epoch 200: loss (rmse) = 0.17027366161346436 (max = 0.19517004489898682, min = 0.15171684324741364)\n"
     ]
    }
   ],
   "source": [
    "EPOCHS = 200\n",
    "for e in range(1,EPOCHS+1):\n",
    "    avg_loss = []\n",
    "    for i in range(data_generator.total_batch):\n",
    "        with (model_session.graph.as_default()):\n",
    "            batch_data = data_generator.get()\n",
    "            loss_val, dr_loss_val, _, __= model_session.run([loss,dr_loss,train, dr_train],feed_dict={x:batch_data})\n",
    "            \n",
    "            avg_loss.append(loss_val)\n",
    "            \n",
    "            sys.stdout.write(f\"\\rEpoch {e}: loss (rmse) = {loss_val}\")\n",
    "            sys.stdout.flush()\n",
    "    losses.append(np.mean(avg_loss))\n",
    "    print(f\"\\rEpoch {e}: loss (rmse) = {np.mean(avg_loss)} (max = {np.max(avg_loss)}, min = {np.min(avg_loss)})\")"
   ]
  },
  {
   "cell_type": "code",
   "execution_count": 21,
   "metadata": {},
   "outputs": [
    {
     "data": {
      "text/plain": [
       "[<matplotlib.lines.Line2D at 0x7fb364249978>]"
      ]
     },
     "execution_count": 21,
     "metadata": {},
     "output_type": "execute_result"
    },
    {
     "data": {
      "image/png": "[encoded data removed]",
      "text/plain": [
       "<Figure size 432x288 with 1 Axes>"
      ]
     },
     "metadata": {
      "needs_background": "light"
     },
     "output_type": "display_data"
    }
   ],
   "source": [
    "plt.plot(losses)"
   ]
  },
  {
   "cell_type": "markdown",
   "metadata": {},
   "source": [
    "### Inference Model"
   ]
  },
  {
   "cell_type": "code",
   "execution_count": 22,
   "metadata": {},
   "outputs": [],
   "source": [
    "from utils import user_items"
   ]
  },
  {
   "cell_type": "code",
   "execution_count": 24,
   "metadata": {},
   "outputs": [],
   "source": [
    "target_user = 34\n",
    "readed_books = user_items(data, target_user,'user_id','book_id')"
   ]
  },
  {
   "cell_type": "code",
   "execution_count": 25,
   "metadata": {},
   "outputs": [],
   "source": [
    "t = np.expand_dims(dense_rating[target_user],axis=0)\n",
    "pred = model_session.run(out,feed_dict={x:t})[0]"
   ]
  },
  {
   "cell_type": "code",
   "execution_count": 26,
   "metadata": {},
   "outputs": [
    {
     "name": "stdout",
     "output_type": "stream",
     "text": [
      "Books read by user: 34\n"
     ]
    },
    {
     "data": {
      "text/html": [
       "<div>\n",
       "<style scoped>\n",
       "    .dataframe tbody tr th:only-of-type {\n",
       "        vertical-align: middle;\n",
       "    }\n",
       "\n",
       "    .dataframe tbody tr th {\n",
       "        vertical-align: top;\n",
       "    }\n",
       "\n",
       "    .dataframe thead th {\n",
       "        text-align: right;\n",
       "    }\n",
       "</style>\n",
       "<table border=\"1\" class=\"dataframe\">\n",
       "  <thead>\n",
       "    <tr style=\"text-align: right;\">\n",
       "      <th></th>\n",
       "      <th>id</th>\n",
       "      <th>book_id</th>\n",
       "      <th>authors</th>\n",
       "      <th>original_title</th>\n",
       "      <th>language_code</th>\n",
       "      <th>average_rating</th>\n",
       "      <th>image_url</th>\n",
       "    </tr>\n",
       "  </thead>\n",
       "  <tbody>\n",
       "    <tr>\n",
       "      <th>77</th>\n",
       "      <td>77</td>\n",
       "      <td>5139</td>\n",
       "      <td>Lauren Weisberger</td>\n",
       "      <td>The Devil Wears Prada</td>\n",
       "      <td>eng</td>\n",
       "      <td>3.70</td>\n",
       "      <td>https://s.gr-assets.com/assets/nophoto/book/11...</td>\n",
       "    </tr>\n",
       "    <tr>\n",
       "      <th>107</th>\n",
       "      <td>107</td>\n",
       "      <td>9416</td>\n",
       "      <td>Sophie Kinsella</td>\n",
       "      <td>Confessions of a Shopaholic</td>\n",
       "      <td>eng</td>\n",
       "      <td>3.61</td>\n",
       "      <td>https://images.gr-assets.com/books/1327872404m...</td>\n",
       "    </tr>\n",
       "    <tr>\n",
       "      <th>119</th>\n",
       "      <td>119</td>\n",
       "      <td>452306</td>\n",
       "      <td>Ann Brashares</td>\n",
       "      <td>The Sisterhood of the Traveling Pants</td>\n",
       "      <td>eng</td>\n",
       "      <td>3.75</td>\n",
       "      <td>https://images.gr-assets.com/books/1461611233m...</td>\n",
       "    </tr>\n",
       "    <tr>\n",
       "      <th>134</th>\n",
       "      <td>134</td>\n",
       "      <td>62291</td>\n",
       "      <td>George R.R. Martin</td>\n",
       "      <td>A Storm of Swords</td>\n",
       "      <td>eng</td>\n",
       "      <td>4.54</td>\n",
       "      <td>https://images.gr-assets.com/books/1497931121m...</td>\n",
       "    </tr>\n",
       "    <tr>\n",
       "      <th>136</th>\n",
       "      <td>136</td>\n",
       "      <td>10964</td>\n",
       "      <td>Diana Gabaldon</td>\n",
       "      <td>Outlander</td>\n",
       "      <td>eng</td>\n",
       "      <td>4.20</td>\n",
       "      <td>https://images.gr-assets.com/books/1402600310m...</td>\n",
       "    </tr>\n",
       "  </tbody>\n",
       "</table>\n",
       "</div>"
      ],
      "text/plain": [
       "      id  book_id             authors                         original_title  \\\n",
       "77    77     5139   Lauren Weisberger                  The Devil Wears Prada   \n",
       "107  107     9416     Sophie Kinsella            Confessions of a Shopaholic   \n",
       "119  119   452306       Ann Brashares  The Sisterhood of the Traveling Pants   \n",
       "134  134    62291  George R.R. Martin                      A Storm of Swords   \n",
       "136  136    10964      Diana Gabaldon                              Outlander   \n",
       "\n",
       "    language_code  average_rating  \\\n",
       "77            eng            3.70   \n",
       "107           eng            3.61   \n",
       "119           eng            3.75   \n",
       "134           eng            4.54   \n",
       "136           eng            4.20   \n",
       "\n",
       "                                             image_url  \n",
       "77   https://s.gr-assets.com/assets/nophoto/book/11...  \n",
       "107  https://images.gr-assets.com/books/1327872404m...  \n",
       "119  https://images.gr-assets.com/books/1461611233m...  \n",
       "134  https://images.gr-assets.com/books/1497931121m...  \n",
       "136  https://images.gr-assets.com/books/1402600310m...  "
      ]
     },
     "execution_count": 26,
     "metadata": {},
     "output_type": "execute_result"
    }
   ],
   "source": [
    "print(\"Books read by user:\",target_user)\n",
    "books[books['id'].isin(readed_books)].head()"
   ]
  },
  {
   "cell_type": "code",
   "execution_count": 29,
   "metadata": {},
   "outputs": [
    {
     "name": "stdout",
     "output_type": "stream",
     "text": [
      "Books recommended to user: 34\n"
     ]
    },
    {
     "data": {
      "text/html": [
       "<div>\n",
       "<style scoped>\n",
       "    .dataframe tbody tr th:only-of-type {\n",
       "        vertical-align: middle;\n",
       "    }\n",
       "\n",
       "    .dataframe tbody tr th {\n",
       "        vertical-align: top;\n",
       "    }\n",
       "\n",
       "    .dataframe thead th {\n",
       "        text-align: right;\n",
       "    }\n",
       "</style>\n",
       "<table border=\"1\" class=\"dataframe\">\n",
       "  <thead>\n",
       "    <tr style=\"text-align: right;\">\n",
       "      <th></th>\n",
       "      <th>id</th>\n",
       "      <th>book_id</th>\n",
       "      <th>authors</th>\n",
       "      <th>original_title</th>\n",
       "      <th>language_code</th>\n",
       "      <th>average_rating</th>\n",
       "      <th>image_url</th>\n",
       "    </tr>\n",
       "  </thead>\n",
       "  <tbody>\n",
       "    <tr>\n",
       "      <th>128</th>\n",
       "      <td>128</td>\n",
       "      <td>332613</td>\n",
       "      <td>Ken Kesey</td>\n",
       "      <td>One Flew Over the Cuckoo's Nest</td>\n",
       "      <td>eng</td>\n",
       "      <td>4.18</td>\n",
       "      <td>https://images.gr-assets.com/books/1485308778m...</td>\n",
       "    </tr>\n",
       "    <tr>\n",
       "      <th>827</th>\n",
       "      <td>827</td>\n",
       "      <td>9516</td>\n",
       "      <td>Marjane Satrapi, Mattias Ripa</td>\n",
       "      <td>Persepolis</td>\n",
       "      <td>eng</td>\n",
       "      <td>4.23</td>\n",
       "      <td>https://images.gr-assets.com/books/1425871473m...</td>\n",
       "    </tr>\n",
       "    <tr>\n",
       "      <th>331</th>\n",
       "      <td>331</td>\n",
       "      <td>65605</td>\n",
       "      <td>C.S. Lewis</td>\n",
       "      <td>The magician's nephew</td>\n",
       "      <td>eng</td>\n",
       "      <td>4.01</td>\n",
       "      <td>https://images.gr-assets.com/books/1308814770m...</td>\n",
       "    </tr>\n",
       "    <tr>\n",
       "      <th>1416</th>\n",
       "      <td>1416</td>\n",
       "      <td>426775</td>\n",
       "      <td>Lauren Weisberger</td>\n",
       "      <td>Chasing Harry Winston</td>\n",
       "      <td>eng</td>\n",
       "      <td>3.32</td>\n",
       "      <td>https://s.gr-assets.com/assets/nophoto/book/11...</td>\n",
       "    </tr>\n",
       "    <tr>\n",
       "      <th>222</th>\n",
       "      <td>222</td>\n",
       "      <td>249747</td>\n",
       "      <td>Eoin Colfer</td>\n",
       "      <td>Artemis Fowl</td>\n",
       "      <td>eng</td>\n",
       "      <td>3.82</td>\n",
       "      <td>https://images.gr-assets.com/books/1327945104m...</td>\n",
       "    </tr>\n",
       "  </tbody>\n",
       "</table>\n",
       "</div>"
      ],
      "text/plain": [
       "        id  book_id                        authors  \\\n",
       "128    128   332613                      Ken Kesey   \n",
       "827    827     9516  Marjane Satrapi, Mattias Ripa   \n",
       "331    331    65605                     C.S. Lewis   \n",
       "1416  1416   426775              Lauren Weisberger   \n",
       "222    222   249747                    Eoin Colfer   \n",
       "\n",
       "                       original_title language_code  average_rating  \\\n",
       "128   One Flew Over the Cuckoo's Nest           eng            4.18   \n",
       "827                        Persepolis           eng            4.23   \n",
       "331             The magician's nephew           eng            4.01   \n",
       "1416            Chasing Harry Winston           eng            3.32   \n",
       "222                      Artemis Fowl           eng            3.82   \n",
       "\n",
       "                                              image_url  \n",
       "128   https://images.gr-assets.com/books/1485308778m...  \n",
       "827   https://images.gr-assets.com/books/1425871473m...  \n",
       "331   https://images.gr-assets.com/books/1308814770m...  \n",
       "1416  https://s.gr-assets.com/assets/nophoto/book/11...  \n",
       "222   https://images.gr-assets.com/books/1327945104m...  "
      ]
     },
     "execution_count": 29,
     "metadata": {},
     "output_type": "execute_result"
    }
   ],
   "source": [
    "print(\"Books recommended to user:\", target_user)\n",
    "books[books['id'].isin(np.argsort(pred)[::-1][:20])].sample(5)"
   ]
  },
  {
   "cell_type": "markdown",
   "metadata": {},
   "source": [
    "### Evaluate Model"
   ]
  },
  {
   "cell_type": "code",
   "execution_count": 30,
   "metadata": {},
   "outputs": [
    {
     "name": "stderr",
     "output_type": "stream",
     "text": [
      "/usr/local/lib/python3.6/dist-packages/ipykernel_launcher.py:1: FutureWarning: using a dict on a Series for aggregation\n",
      "is deprecated and will be removed in a future version\n",
      "  \"\"\"Entry point for launching an IPython kernel.\n",
      "/usr/local/lib/python3.6/dist-packages/ipykernel_launcher.py:2: FutureWarning: using a dict on a Series for aggregation\n",
      "is deprecated and will be removed in a future version\n",
      "  \n"
     ]
    }
   ],
   "source": [
    "items_interact = data.groupby('book_id')['user_id'].agg({'count':'count'}).reset_index()\n",
    "users_interact = data.groupby('user_id')['book_id'].agg({'count':'count'}).reset_index()"
   ]
  },
  {
   "cell_type": "markdown",
   "metadata": {},
   "source": [
    "#### Histogram distribution of number of rating/book\n",
    "We can see most book have the same number of rating (~100)"
   ]
  },
  {
   "cell_type": "code",
   "execution_count": 31,
   "metadata": {},
   "outputs": [
    {
     "data": {
      "text/plain": [
       "Text(0, 0.5, 'Number of book')"
      ]
     },
     "execution_count": 31,
     "metadata": {},
     "output_type": "execute_result"
    },
    {
     "data": {
      "image/png": "[encoded data removed]",
      "text/plain": [
       "<Figure size 1080x360 with 1 Axes>"
      ]
     },
     "metadata": {
      "needs_background": "light"
     },
     "output_type": "display_data"
    }
   ],
   "source": [
    "fig = plt.figure(figsize=[15,5])\n",
    "_ = plt.hist(items_interact['count'],bins=20)\n",
    "plt.xlabel('Number of user interact')\n",
    "plt.ylabel('Number of book')"
   ]
  },
  {
   "cell_type": "markdown",
   "metadata": {},
   "source": [
    "#### Histogram distribution of number of ratings given/user\n",
    "We can see most people only read less than 15 books while very few read more than 50"
   ]
  },
  {
   "cell_type": "code",
   "execution_count": 32,
   "metadata": {},
   "outputs": [
    {
     "data": {
      "text/plain": [
       "Text(0, 0.5, 'Number of users')"
      ]
     },
     "execution_count": 32,
     "metadata": {},
     "output_type": "execute_result"
    },
    {
     "data": {
      "image/png": "[encoded data removed]",
      "text/plain": [
       "<Figure size 1080x360 with 1 Axes>"
      ]
     },
     "metadata": {
      "needs_background": "light"
     },
     "output_type": "display_data"
    }
   ],
   "source": [
    "fig = plt.figure(figsize=[15,5])\n",
    "_ = plt.hist(users_interact['count'],bins=100)\n",
    "plt.xlabel('Number of book read')\n",
    "plt.ylabel('Number of users')"
   ]
  },
  {
   "cell_type": "markdown",
   "metadata": {},
   "source": [
    "#### Coverage of recommendation"
   ]
  },
  {
   "cell_type": "code",
   "execution_count": 33,
   "metadata": {},
   "outputs": [
    {
     "name": "stdout",
     "output_type": "stream",
     "text": [
      "The model cover 93.78% of items in the dataset\n"
     ]
    }
   ],
   "source": [
    "k = 20\n",
    "coverages = []\n",
    "for i in range(num_user):\n",
    "    t = np.expand_dims(dense_rating[i],axis=0)\n",
    "    pred = model_session.run(out,feed_dict={x:t})[0]\n",
    "    recom = np.argsort(pred)[::-1][:k]\n",
    "    coverages += recom.tolist()\n",
    "coverages = np.unique(coverages)\n",
    "coverages = len(coverages)/num_book\n",
    "print(f\"The model cover {coverages*100}% of items in the dataset\")"
   ]
  },
  {
   "cell_type": "markdown",
   "metadata": {},
   "source": [
    "#### Personalization of the recommendation"
   ]
  },
  {
   "cell_type": "code",
   "execution_count": 34,
   "metadata": {},
   "outputs": [],
   "source": [
    "from sklearn.metrics.pairwise import cosine_similarity"
   ]
  },
  {
   "cell_type": "code",
   "execution_count": 35,
   "metadata": {},
   "outputs": [],
   "source": [
    "k = 20\n",
    "coverages = []\n",
    "for i in range(num_user):\n",
    "    t = np.expand_dims(dense_rating[i],axis=0)\n",
    "    pred = model_session.run(out,feed_dict={x:t})[0]\n",
    "    recom = np.argsort(pred)[::-1][:k]\n",
    "    coverages.append(recom)\n",
    "coverages = np.array(coverages)"
   ]
  },
  {
   "cell_type": "code",
   "execution_count": 80,
   "metadata": {},
   "outputs": [
    {
     "name": "stdout",
     "output_type": "stream",
     "text": [
      "Personalization Score = 0.9700389\n"
     ]
    }
   ],
   "source": [
    "# Sample 1000 user to measure the similarity of their recommendation\n",
    "# Calculate for 50k users is too much\n",
    "SAMPLE_SIZE = 1000\n",
    "sample = np.random.choice(num_user,size=SAMPLE_SIZE,replace=False)\n",
    "t_coverages = coverages[sample]\n",
    "t_matrix = np.zeros([SAMPLE_SIZE,num_book])\n",
    "for i in range(SAMPLE_SIZE):\n",
    "    t_matrix[i][t_coverages[i]]=1\n",
    "\n",
    "similarity = cosine_similarity(t_matrix)\n",
    "# Personalized Score = 1 - mean_of_upper_triangle(similarity)\n",
    "# The higher the score, the better\n",
    "personalized_score = 1-np.sum(np.triu(similarity))/(np.prod(similarity.shape)/2)\n",
    "print(\"Personalization Score =\",personalized_score)"
   ]
  },
  {
   "cell_type": "markdown",
   "metadata": {},
   "source": [
    "#### Mean Average Precision & Mean Average Recall (MAP@K and MAR@K)\n",
    "https://towardsdatascience.com/breaking-down-mean-average-precision-map-ae462f623a52\n",
    "\n",
    "https://www.youtube.com/watch?v=pM6DJ0ZZee0\n",
    "\n",
    "http://fastml.com/what-you-wanted-to-know-about-mean-average-precision/"
   ]
  },
  {
   "cell_type": "code",
   "execution_count": 81,
   "metadata": {},
   "outputs": [
    {
     "data": {
      "text/plain": [
       "array([[0, 0, 0, ..., 0, 0, 0],\n",
       "       [0, 0, 0, ..., 0, 0, 0],\n",
       "       [0, 0, 0, ..., 0, 0, 0],\n",
       "       ...,\n",
       "       [0, 0, 0, ..., 0, 0, 0],\n",
       "       [0, 0, 0, ..., 0, 0, 0],\n",
       "       [0, 0, 0, ..., 0, 0, 0]], dtype=int32)"
      ]
     },
     "execution_count": 81,
     "metadata": {},
     "output_type": "execute_result"
    }
   ],
   "source": [
    "# Sample 1000 user query\n",
    "SAMPLE_SIZE = 1000\n",
    "sample = np.random.choice(num_user,size=SAMPLE_SIZE,replace=False)\n",
    "sample = dense_rating[sample]\n"
   ]
  },
  {
   "cell_type": "code",
   "execution_count": null,
   "metadata": {},
   "outputs": [],
   "source": []
  }
 ],
 "metadata": {
  "kernelspec": {
   "display_name": "Python 3",
   "language": "python",
   "name": "python3"
  },
  "language_info": {
   "codemirror_mode": {
    "name": "ipython",
    "version": 3
   },
   "file_extension": ".py",
   "mimetype": "text/x-python",
   "name": "python",
   "nbconvert_exporter": "python",
   "pygments_lexer": "ipython3",
   "version": "3.6.7"
  }
 },
 "nbformat": 4,
 "nbformat_minor": 2
}
