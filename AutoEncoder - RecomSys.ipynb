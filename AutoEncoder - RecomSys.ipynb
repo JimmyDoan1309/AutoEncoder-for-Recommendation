{
 "cells": [
  {
   "cell_type": "code",
   "execution_count": 1,
   "metadata": {},
   "outputs": [],
   "source": [
    "import tensorflow as tf\n",
    "import numpy as np\n",
    "import pandas as pd\n",
    "import matplotlib.pyplot as plt\n",
    "import sys"
   ]
  },
  {
   "cell_type": "code",
   "execution_count": 2,
   "metadata": {},
   "outputs": [],
   "source": [
    "data = pd.read_csv('E:/dataset/goodread10k/ratings.csv')\n",
    "books = pd.read_csv('E:/dataset/goodread10k/books.csv')"
   ]
  },
  {
   "cell_type": "code",
   "execution_count": 3,
   "metadata": {},
   "outputs": [],
   "source": [
    "books = books[['id','book_id','authors','original_title','language_code','average_rating','ratings_count']]"
   ]
  },
  {
   "cell_type": "code",
   "execution_count": 4,
   "metadata": {},
   "outputs": [
    {
     "data": {
      "text/html": [
       "<div>\n",
       "<style scoped>\n",
       "    .dataframe tbody tr th:only-of-type {\n",
       "        vertical-align: middle;\n",
       "    }\n",
       "\n",
       "    .dataframe tbody tr th {\n",
       "        vertical-align: top;\n",
       "    }\n",
       "\n",
       "    .dataframe thead th {\n",
       "        text-align: right;\n",
       "    }\n",
       "</style>\n",
       "<table border=\"1\" class=\"dataframe\">\n",
       "  <thead>\n",
       "    <tr style=\"text-align: right;\">\n",
       "      <th></th>\n",
       "      <th>id</th>\n",
       "      <th>book_id</th>\n",
       "      <th>authors</th>\n",
       "      <th>original_title</th>\n",
       "      <th>language_code</th>\n",
       "      <th>average_rating</th>\n",
       "      <th>ratings_count</th>\n",
       "    </tr>\n",
       "  </thead>\n",
       "  <tbody>\n",
       "    <tr>\n",
       "      <th>0</th>\n",
       "      <td>1</td>\n",
       "      <td>2767052</td>\n",
       "      <td>Suzanne Collins</td>\n",
       "      <td>The Hunger Games</td>\n",
       "      <td>eng</td>\n",
       "      <td>4.34</td>\n",
       "      <td>4780653</td>\n",
       "    </tr>\n",
       "    <tr>\n",
       "      <th>1</th>\n",
       "      <td>2</td>\n",
       "      <td>3</td>\n",
       "      <td>J.K. Rowling, Mary GrandPré</td>\n",
       "      <td>Harry Potter and the Philosopher's Stone</td>\n",
       "      <td>eng</td>\n",
       "      <td>4.44</td>\n",
       "      <td>4602479</td>\n",
       "    </tr>\n",
       "    <tr>\n",
       "      <th>2</th>\n",
       "      <td>3</td>\n",
       "      <td>41865</td>\n",
       "      <td>Stephenie Meyer</td>\n",
       "      <td>Twilight</td>\n",
       "      <td>en-US</td>\n",
       "      <td>3.57</td>\n",
       "      <td>3866839</td>\n",
       "    </tr>\n",
       "    <tr>\n",
       "      <th>3</th>\n",
       "      <td>4</td>\n",
       "      <td>2657</td>\n",
       "      <td>Harper Lee</td>\n",
       "      <td>To Kill a Mockingbird</td>\n",
       "      <td>eng</td>\n",
       "      <td>4.25</td>\n",
       "      <td>3198671</td>\n",
       "    </tr>\n",
       "    <tr>\n",
       "      <th>4</th>\n",
       "      <td>5</td>\n",
       "      <td>4671</td>\n",
       "      <td>F. Scott Fitzgerald</td>\n",
       "      <td>The Great Gatsby</td>\n",
       "      <td>eng</td>\n",
       "      <td>3.89</td>\n",
       "      <td>2683664</td>\n",
       "    </tr>\n",
       "  </tbody>\n",
       "</table>\n",
       "</div>"
      ],
      "text/plain": [
       "   id  book_id                      authors  \\\n",
       "0   1  2767052              Suzanne Collins   \n",
       "1   2        3  J.K. Rowling, Mary GrandPré   \n",
       "2   3    41865              Stephenie Meyer   \n",
       "3   4     2657                   Harper Lee   \n",
       "4   5     4671          F. Scott Fitzgerald   \n",
       "\n",
       "                             original_title language_code  average_rating  \\\n",
       "0                          The Hunger Games           eng            4.34   \n",
       "1  Harry Potter and the Philosopher's Stone           eng            4.44   \n",
       "2                                  Twilight         en-US            3.57   \n",
       "3                     To Kill a Mockingbird           eng            4.25   \n",
       "4                          The Great Gatsby           eng            3.89   \n",
       "\n",
       "   ratings_count  \n",
       "0        4780653  \n",
       "1        4602479  \n",
       "2        3866839  \n",
       "3        3198671  \n",
       "4        2683664  "
      ]
     },
     "execution_count": 4,
     "metadata": {},
     "output_type": "execute_result"
    }
   ],
   "source": [
    "books.head()"
   ]
  },
  {
   "cell_type": "code",
   "execution_count": 5,
   "metadata": {},
   "outputs": [
    {
     "data": {
      "text/html": [
       "<div>\n",
       "<style scoped>\n",
       "    .dataframe tbody tr th:only-of-type {\n",
       "        vertical-align: middle;\n",
       "    }\n",
       "\n",
       "    .dataframe tbody tr th {\n",
       "        vertical-align: top;\n",
       "    }\n",
       "\n",
       "    .dataframe thead th {\n",
       "        text-align: right;\n",
       "    }\n",
       "</style>\n",
       "<table border=\"1\" class=\"dataframe\">\n",
       "  <thead>\n",
       "    <tr style=\"text-align: right;\">\n",
       "      <th></th>\n",
       "      <th>book_id</th>\n",
       "      <th>user_id</th>\n",
       "      <th>rating</th>\n",
       "    </tr>\n",
       "  </thead>\n",
       "  <tbody>\n",
       "    <tr>\n",
       "      <th>0</th>\n",
       "      <td>1</td>\n",
       "      <td>314</td>\n",
       "      <td>5</td>\n",
       "    </tr>\n",
       "    <tr>\n",
       "      <th>1</th>\n",
       "      <td>1</td>\n",
       "      <td>439</td>\n",
       "      <td>3</td>\n",
       "    </tr>\n",
       "    <tr>\n",
       "      <th>2</th>\n",
       "      <td>1</td>\n",
       "      <td>588</td>\n",
       "      <td>5</td>\n",
       "    </tr>\n",
       "    <tr>\n",
       "      <th>3</th>\n",
       "      <td>1</td>\n",
       "      <td>1169</td>\n",
       "      <td>4</td>\n",
       "    </tr>\n",
       "    <tr>\n",
       "      <th>4</th>\n",
       "      <td>1</td>\n",
       "      <td>1185</td>\n",
       "      <td>4</td>\n",
       "    </tr>\n",
       "  </tbody>\n",
       "</table>\n",
       "</div>"
      ],
      "text/plain": [
       "   book_id  user_id  rating\n",
       "0        1      314       5\n",
       "1        1      439       3\n",
       "2        1      588       5\n",
       "3        1     1169       4\n",
       "4        1     1185       4"
      ]
     },
     "execution_count": 5,
     "metadata": {},
     "output_type": "execute_result"
    }
   ],
   "source": [
    "data.head()"
   ]
  },
  {
   "cell_type": "code",
   "execution_count": 6,
   "metadata": {},
   "outputs": [],
   "source": [
    "data['book_id'] = data['book_id']-1\n",
    "data['user_id'] = data['user_id']-1\n",
    "books['id'] = books['id']-1"
   ]
  },
  {
   "cell_type": "code",
   "execution_count": 7,
   "metadata": {},
   "outputs": [],
   "source": [
    "data = data.drop_duplicates().reset_index(drop=True)"
   ]
  },
  {
   "cell_type": "code",
   "execution_count": 8,
   "metadata": {},
   "outputs": [],
   "source": [
    "num_user = len(data['user_id'].unique())\n",
    "num_book = len(data['book_id'].unique())"
   ]
  },
  {
   "cell_type": "markdown",
   "metadata": {},
   "source": [
    "### Data preprocessing"
   ]
  },
  {
   "cell_type": "code",
   "execution_count": 9,
   "metadata": {},
   "outputs": [],
   "source": [
    "# Create a sparse iteration matrix from rating data\n",
    "def create_sparse_matrix(num_user,num_item,df):\n",
    "    sess = tf.Session()\n",
    "    indices = df[['user_id','book_id']].values.astype(np.int32)\n",
    "    values = df['rating'].values.astype(np.int32)\n",
    "    dense_shape = (num_user,num_item)\n",
    "    resp =  sess.run(tf.SparseTensor(indices,values,dense_shape))\n",
    "    tf.reset_default_graph()\n",
    "    return resp"
   ]
  },
  {
   "cell_type": "code",
   "execution_count": 10,
   "metadata": {},
   "outputs": [],
   "source": [
    "rating_matrix = create_sparse_matrix(num_user,num_book,data)"
   ]
  },
  {
   "cell_type": "code",
   "execution_count": 11,
   "metadata": {},
   "outputs": [],
   "source": [
    "class DataGenerator:\n",
    "    def __init__(self,train_data,batch_size=256,shuffle=True):\n",
    "        self.train = train_data\n",
    "        self.row = train_data.shape[0]\n",
    "        self.batch_size = batch_size\n",
    "        self.total_batch = int(np.ceil(self.row/batch_size))\n",
    "        self.count = 0\n",
    "        self.shuffle=shuffle\n",
    "        \n",
    "    def get(self):\n",
    "        done = False\n",
    "        lower = self.count*self.batch_size\n",
    "        upper = lower+self.batch_size\n",
    "        self.count+=1\n",
    "        if (upper > self.row):\n",
    "            upper = self.row\n",
    "            self.count = 0\n",
    "            done = True\n",
    "            \n",
    "        train_batch = self.train[lower:upper]\n",
    "        \n",
    "        obs_x , obs_y = np.where(train_batch!=0)\n",
    "        non_obs_x, non_obs_y = np.where(train_batch==0)\n",
    "        obs_indices = np.concatenate((obs_x.reshape(-1,1),obs_y.reshape(-1,1)),axis=1)\n",
    "        non_obs_indices = np.concatenate((non_obs_x.reshape(-1,1),non_obs_y.reshape(-1,1)),axis=1)\n",
    "        \n",
    "        if done:\n",
    "            perm = np.random.permutation(self.row)\n",
    "            self.train = self.train[perm]\n",
    "        return train_batch,obs_indices,non_obs_indices"
   ]
  },
  {
   "cell_type": "code",
   "execution_count": 12,
   "metadata": {},
   "outputs": [],
   "source": [
    "dense_rating = tf.Session().run(tf.sparse.to_dense(rating_matrix,validate_indices=False))"
   ]
  },
  {
   "cell_type": "code",
   "execution_count": 13,
   "metadata": {},
   "outputs": [],
   "source": [
    "data_generator = DataGenerator(dense_rating,batch_size=1024)"
   ]
  },
  {
   "cell_type": "markdown",
   "metadata": {},
   "source": [
    "### AutoEncoder model"
   ]
  },
  {
   "cell_type": "code",
   "execution_count": 14,
   "metadata": {},
   "outputs": [],
   "source": [
    "def encoder(x,drop_rate):\n",
    "    with tf.variable_scope('AutoEncoder/Encoder',reuse=tf.AUTO_REUSE):\n",
    "        z = tf.layers.Dense(256,activation=tf.nn.selu,kernel_initializer=tf.initializers.glorot_normal)(x)\n",
    "        z = tf.layers.Dense(256,activation=tf.nn.selu,kernel_initializer=tf.initializers.glorot_normal)(z)\n",
    "        latent = tf.layers.Dense(256,activation=tf.nn.selu,kernel_initializer=tf.initializers.glorot_normal)(z)\n",
    "        latent = tf.nn.dropout(latent,1-drop_rate)\n",
    "        #latent = tf.layers.Dropout(drop_rate)(latent) --- for some reason tf.layers.Dropout doesn't work\n",
    "        return latent\n",
    "\n",
    "def decoder(latent):\n",
    "    with tf.variable_scope('AutoEncoder/Decoder',reuse=tf.AUTO_REUSE):\n",
    "        z = z = tf.layers.Dense(256,activation=tf.nn.selu,kernel_initializer=tf.initializers.glorot_normal)(latent)\n",
    "        z = tf.layers.Dense(256,activation=tf.nn.selu,kernel_initializer=tf.initializers.glorot_normal)(z)\n",
    "        out = tf.layers.Dense(num_book,activation=tf.nn.selu,kernel_initializer=tf.initializers.glorot_normal)(z)\n",
    "        return out"
   ]
  },
  {
   "cell_type": "code",
   "execution_count": 15,
   "metadata": {},
   "outputs": [],
   "source": [
    "def forward_path(x,drop_rate):\n",
    "    latent = encoder(x,drop_rate)\n",
    "    out = decoder(latent)\n",
    "    return out"
   ]
  },
  {
   "cell_type": "code",
   "execution_count": 16,
   "metadata": {},
   "outputs": [],
   "source": [
    "def sparse_rmse(labels,preds,obs_indices,zero_indices,alpha=1,beta=0.1):\n",
    "    # Loss of observe indices\n",
    "    obs_pred = tf.gather_nd(preds,obs_indices)\n",
    "    obs_true = tf.gather_nd(labels,obs_indices)\n",
    "    obs_loss = alpha*tf.sqrt(tf.losses.mean_squared_error(obs_true,obs_pred))\n",
    "    \n",
    "    # Loss of un-observe indices\n",
    "    #zero_pred = tf.gather_nd(preds,zero_indices)\n",
    "    #zero_true = tf.gather_nd(labels,zero_indices)\n",
    "    #zero_loss = beta*tf.sqrt(tf.losses.mean_squared_error(zero_true,zero_pred))\n",
    "    \n",
    "    return obs_loss"
   ]
  },
  {
   "cell_type": "code",
   "execution_count": 17,
   "metadata": {},
   "outputs": [],
   "source": [
    "tf.reset_default_graph()"
   ]
  },
  {
   "cell_type": "code",
   "execution_count": 18,
   "metadata": {},
   "outputs": [
    {
     "name": "stderr",
     "output_type": "stream",
     "text": [
      "WARNING: Logging before flag parsing goes to stderr.\n",
      "W0726 00:21:47.444504  6988 deprecation.py:506] From <ipython-input-18-8d87a97ac864>:10: calling dropout (from tensorflow.python.ops.nn_ops) with keep_prob is deprecated and will be removed in a future version.\n",
      "Instructions for updating:\n",
      "Please use `rate` instead of `keep_prob`. Rate should be set to `rate = 1 - keep_prob`.\n",
      "W0726 00:21:47.457508  6988 deprecation.py:506] From f:\\anaconda\\envs\\tensorflow\\lib\\site-packages\\tensorflow\\python\\ops\\init_ops.py:1288: calling VarianceScaling.__init__ (from tensorflow.python.ops.init_ops) with dtype is deprecated and will be removed in a future version.\n",
      "Instructions for updating:\n",
      "Call initializer instance with the dtype argument instead of passing it to the constructor\n",
      "W0726 00:21:47.765613  6988 deprecation.py:323] From f:\\anaconda\\envs\\tensorflow\\lib\\site-packages\\tensorflow\\python\\ops\\losses\\losses_impl.py:121: add_dispatch_support.<locals>.wrapper (from tensorflow.python.ops.array_ops) is deprecated and will be removed in a future version.\n",
      "Instructions for updating:\n",
      "Use tf.where in 2.0, which has the same broadcast rule as np.where\n"
     ]
    }
   ],
   "source": [
    "x = tf.placeholder(dtype=tf.float32,shape=[None,num_book],name='input')\n",
    "noise = tf.placeholder(dtype=tf.float32,name='noise')\n",
    "drop_rate = tf.placeholder(dtype=tf.float32,name='drop_rate')\n",
    "optimizer = tf.train.AdamOptimizer(0.0005)\n",
    "\n",
    "obs_indices = tf.placeholder(dtype=tf.int32,shape=[None,2],name='observed_indices')\n",
    "non_obs_indices = tf.placeholder(dtype=tf.int32,shape=[None,2],name='non_observed_indices')\n",
    "\n",
    "# Forward path\n",
    "noise_x = tf.nn.dropout(x,noise)\n",
    "latent = encoder(noise_x,drop_rate)\n",
    "out = decoder(latent)\n",
    "loss = sparse_rmse(x,out,obs_indices,non_obs_indices)\n",
    "train = optimizer.minimize(loss)\n",
    "\n",
    "# Dense Re-feeding (DR)\n",
    "dr_out = forward_path(out,drop_rate)\n",
    "dr_loss = sparse_rmse(out,dr_out,obs_indices,non_obs_indices)\n",
    "dr_train = optimizer.minimize(dr_loss)"
   ]
  },
  {
   "cell_type": "code",
   "execution_count": 19,
   "metadata": {},
   "outputs": [],
   "source": [
    "model_session = tf.Session()\n",
    "model_session.run(tf.global_variables_initializer())"
   ]
  },
  {
   "cell_type": "code",
   "execution_count": 20,
   "metadata": {},
   "outputs": [
    {
     "name": "stdout",
     "output_type": "stream",
     "text": [
      "Total trainable parameters = 5393424\n"
     ]
    }
   ],
   "source": [
    "trainable_variables = np.sum([np.prod(v.shape).value for v in tf.trainable_variables()])\n",
    "print(f\"Total trainable parameters = {trainable_variables}\")"
   ]
  },
  {
   "cell_type": "code",
   "execution_count": 21,
   "metadata": {},
   "outputs": [],
   "source": [
    "train_losses = []"
   ]
  },
  {
   "cell_type": "code",
   "execution_count": 22,
   "metadata": {},
   "outputs": [
    {
     "name": "stdout",
     "output_type": "stream",
     "text": [
      "Epoch 1: train_loss = 2.942636\n",
      "Epoch 2: train_loss = 1.024432\n",
      "Epoch 3: train_loss = 0.989895\n",
      "Epoch 4: train_loss = 0.986112\n",
      "Epoch 5: train_loss = 0.984171\n",
      "Epoch 6: train_loss = 0.985932\n",
      "Epoch 7: train_loss = 0.983477\n",
      "Epoch 8: train_loss = 0.983908\n",
      "Epoch 9: train_loss = 0.982877\n",
      "Epoch 10: train_loss = 0.983425\n"
     ]
    }
   ],
   "source": [
    "EPOCHS = 10\n",
    "for e in range(1,EPOCHS+1):\n",
    "    avg_train_loss = []\n",
    "    for i in range(data_generator.total_batch):\n",
    "        with (model_session.graph.as_default()):\n",
    "            batch_train, obs_idx, zero_idx = data_generator.get()\n",
    "            train_loss_val, _, __= model_session.run([loss,train, dr_train],\n",
    "                                                    feed_dict={x:batch_train,\n",
    "                                                               noise:0.2,\n",
    "                                                               drop_rate:0.5,\n",
    "                                                               obs_indices:obs_idx,\n",
    "                                                               non_obs_indices:zero_idx})  \n",
    "            avg_train_loss.append(train_loss_val)\n",
    "            \n",
    "            sys.stdout.write(f\"\\rEpoch {e}: train_loss = {train_loss_val:.6f}\")\n",
    "            sys.stdout.flush()\n",
    "            \n",
    "    train_losses.append(np.mean(avg_train_loss))\n",
    "    print(f\"\\rEpoch {e}: train_loss = {np.mean(avg_train_loss):.6f}\")"
   ]
  },
  {
   "cell_type": "code",
   "execution_count": 23,
   "metadata": {},
   "outputs": [
    {
     "data": {
      "text/plain": [
       "Text(0, 0.5, 'Loss')"
      ]
     },
     "execution_count": 23,
     "metadata": {},
     "output_type": "execute_result"
    },
    {
     "data": {
      "image/png": "[encoded data removed]",
      "text/plain": [
       "<Figure size 432x288 with 1 Axes>"
      ]
     },
     "metadata": {
      "needs_background": "light"
     },
     "output_type": "display_data"
    }
   ],
   "source": [
    "plt.plot(train_losses,c='b')\n",
    "plt.xlabel('Epochs')\n",
    "plt.ylabel('Loss')"
   ]
  },
  {
   "cell_type": "markdown",
   "metadata": {},
   "source": [
    "### Inference Model"
   ]
  },
  {
   "cell_type": "code",
   "execution_count": 24,
   "metadata": {},
   "outputs": [],
   "source": [
    "def user_items(df,user_id,key_userId,key_itemID):\n",
    "#     if (str(type(user_id) == \"<class 'list'>\") or str(type(user_id) == \"<class 'numpy.ndarray'>\")):\n",
    "#         def func(x):\n",
    "#             return x.values\n",
    "#         tdf = df[df[key_userId].isin(user_id)]\n",
    "#         gb = tdf.groupby(key_userId)[key_itemID].apply(func).reset_index()\n",
    "#         return gb[gb[key_userId].isin(user_id)]\n",
    "    return df[df[key_userId]==user_id][key_itemID]"
   ]
  },
  {
   "cell_type": "code",
   "execution_count": 25,
   "metadata": {},
   "outputs": [],
   "source": [
    "target_user = 324\n",
    "readed_books = user_items(data, target_user,'user_id','book_id')"
   ]
  },
  {
   "cell_type": "code",
   "execution_count": 26,
   "metadata": {},
   "outputs": [],
   "source": [
    "t = np.expand_dims(dense_rating[target_user],axis=0)\n",
    "pred = model_session.run(out,feed_dict={x:t,noise:0,drop_rate:0})[0]\n",
    "k = 10\n",
    "recommend_to_target = np.argsort(pred)[::-1][:k]"
   ]
  },
  {
   "cell_type": "code",
   "execution_count": 27,
   "metadata": {},
   "outputs": [
    {
     "name": "stdout",
     "output_type": "stream",
     "text": [
      "Books read by user: 324\n"
     ]
    },
    {
     "data": {
      "text/html": [
       "<div>\n",
       "<style scoped>\n",
       "    .dataframe tbody tr th:only-of-type {\n",
       "        vertical-align: middle;\n",
       "    }\n",
       "\n",
       "    .dataframe tbody tr th {\n",
       "        vertical-align: top;\n",
       "    }\n",
       "\n",
       "    .dataframe thead th {\n",
       "        text-align: right;\n",
       "    }\n",
       "</style>\n",
       "<table border=\"1\" class=\"dataframe\">\n",
       "  <thead>\n",
       "    <tr style=\"text-align: right;\">\n",
       "      <th></th>\n",
       "      <th>id</th>\n",
       "      <th>book_id</th>\n",
       "      <th>authors</th>\n",
       "      <th>original_title</th>\n",
       "      <th>language_code</th>\n",
       "      <th>average_rating</th>\n",
       "      <th>ratings_count</th>\n",
       "    </tr>\n",
       "  </thead>\n",
       "  <tbody>\n",
       "    <tr>\n",
       "      <th>707</th>\n",
       "      <td>707</td>\n",
       "      <td>1430</td>\n",
       "      <td>Paulo Coelho, Margaret Jull Costa</td>\n",
       "      <td>Onze minutos</td>\n",
       "      <td>eng</td>\n",
       "      <td>3.69</td>\n",
       "      <td>102206</td>\n",
       "    </tr>\n",
       "    <tr>\n",
       "      <th>1528</th>\n",
       "      <td>1528</td>\n",
       "      <td>816720</td>\n",
       "      <td>Paulo Coelho</td>\n",
       "      <td>A Bruxa de Portobello</td>\n",
       "      <td>eng</td>\n",
       "      <td>3.51</td>\n",
       "      <td>51461</td>\n",
       "    </tr>\n",
       "    <tr>\n",
       "      <th>1662</th>\n",
       "      <td>1662</td>\n",
       "      <td>68591</td>\n",
       "      <td>Paulo Coelho, Montserrat Mira</td>\n",
       "      <td>Brida</td>\n",
       "      <td>por</td>\n",
       "      <td>3.46</td>\n",
       "      <td>45905</td>\n",
       "    </tr>\n",
       "    <tr>\n",
       "      <th>1896</th>\n",
       "      <td>1896</td>\n",
       "      <td>2743</td>\n",
       "      <td>Dave Pelzer</td>\n",
       "      <td>NaN</td>\n",
       "      <td>eng</td>\n",
       "      <td>4.08</td>\n",
       "      <td>46847</td>\n",
       "    </tr>\n",
       "    <tr>\n",
       "      <th>3911</th>\n",
       "      <td>3911</td>\n",
       "      <td>2071575</td>\n",
       "      <td>Jane Green</td>\n",
       "      <td>The Beach House</td>\n",
       "      <td>en-US</td>\n",
       "      <td>3.62</td>\n",
       "      <td>25412</td>\n",
       "    </tr>\n",
       "    <tr>\n",
       "      <th>4102</th>\n",
       "      <td>4102</td>\n",
       "      <td>14376</td>\n",
       "      <td>Alan Lightman</td>\n",
       "      <td>Einstein's Dreams</td>\n",
       "      <td>eng</td>\n",
       "      <td>4.08</td>\n",
       "      <td>21241</td>\n",
       "    </tr>\n",
       "    <tr>\n",
       "      <th>4359</th>\n",
       "      <td>4359</td>\n",
       "      <td>31106</td>\n",
       "      <td>Jane Green</td>\n",
       "      <td>Second Chance</td>\n",
       "      <td>en-US</td>\n",
       "      <td>3.53</td>\n",
       "      <td>22795</td>\n",
       "    </tr>\n",
       "    <tr>\n",
       "      <th>5848</th>\n",
       "      <td>5848</td>\n",
       "      <td>8477057</td>\n",
       "      <td>Fábio Moon, Gabriel Bá, Craig Thompson, Dave S...</td>\n",
       "      <td>Daytripper</td>\n",
       "      <td>eng</td>\n",
       "      <td>4.31</td>\n",
       "      <td>17679</td>\n",
       "    </tr>\n",
       "    <tr>\n",
       "      <th>6350</th>\n",
       "      <td>6350</td>\n",
       "      <td>3858</td>\n",
       "      <td>Sarah Macdonald</td>\n",
       "      <td>Holy Cow: An Indian Adventure</td>\n",
       "      <td>eng</td>\n",
       "      <td>3.51</td>\n",
       "      <td>13627</td>\n",
       "    </tr>\n",
       "    <tr>\n",
       "      <th>8238</th>\n",
       "      <td>8238</td>\n",
       "      <td>32349</td>\n",
       "      <td>Marlo Morgan</td>\n",
       "      <td>Mutant Message Down Under</td>\n",
       "      <td>eng</td>\n",
       "      <td>3.79</td>\n",
       "      <td>9981</td>\n",
       "    </tr>\n",
       "    <tr>\n",
       "      <th>9789</th>\n",
       "      <td>9789</td>\n",
       "      <td>214579</td>\n",
       "      <td>Daniel Quinn</td>\n",
       "      <td>The Story of B: An Adventure of the Mind and S...</td>\n",
       "      <td>eng</td>\n",
       "      <td>4.11</td>\n",
       "      <td>7730</td>\n",
       "    </tr>\n",
       "  </tbody>\n",
       "</table>\n",
       "</div>"
      ],
      "text/plain": [
       "        id  book_id                                            authors  \\\n",
       "707    707     1430                  Paulo Coelho, Margaret Jull Costa   \n",
       "1528  1528   816720                                       Paulo Coelho   \n",
       "1662  1662    68591                      Paulo Coelho, Montserrat Mira   \n",
       "1896  1896     2743                                        Dave Pelzer   \n",
       "3911  3911  2071575                                         Jane Green   \n",
       "4102  4102    14376                                      Alan Lightman   \n",
       "4359  4359    31106                                         Jane Green   \n",
       "5848  5848  8477057  Fábio Moon, Gabriel Bá, Craig Thompson, Dave S...   \n",
       "6350  6350     3858                                    Sarah Macdonald   \n",
       "8238  8238    32349                                       Marlo Morgan   \n",
       "9789  9789   214579                                       Daniel Quinn   \n",
       "\n",
       "                                         original_title language_code  \\\n",
       "707                                        Onze minutos           eng   \n",
       "1528                              A Bruxa de Portobello           eng   \n",
       "1662                                              Brida           por   \n",
       "1896                                                NaN           eng   \n",
       "3911                                    The Beach House         en-US   \n",
       "4102                                  Einstein's Dreams           eng   \n",
       "4359                                      Second Chance         en-US   \n",
       "5848                                         Daytripper           eng   \n",
       "6350                      Holy Cow: An Indian Adventure           eng   \n",
       "8238                          Mutant Message Down Under           eng   \n",
       "9789  The Story of B: An Adventure of the Mind and S...           eng   \n",
       "\n",
       "      average_rating  ratings_count  \n",
       "707             3.69         102206  \n",
       "1528            3.51          51461  \n",
       "1662            3.46          45905  \n",
       "1896            4.08          46847  \n",
       "3911            3.62          25412  \n",
       "4102            4.08          21241  \n",
       "4359            3.53          22795  \n",
       "5848            4.31          17679  \n",
       "6350            3.51          13627  \n",
       "8238            3.79           9981  \n",
       "9789            4.11           7730  "
      ]
     },
     "execution_count": 27,
     "metadata": {},
     "output_type": "execute_result"
    }
   ],
   "source": [
    "print(\"Books read by user:\",target_user)\n",
    "books[books['id'].isin(readed_books)]"
   ]
  },
  {
   "cell_type": "code",
   "execution_count": 28,
   "metadata": {},
   "outputs": [
    {
     "name": "stdout",
     "output_type": "stream",
     "text": [
      "Books recommended to user: 324\n"
     ]
    },
    {
     "data": {
      "text/html": [
       "<div>\n",
       "<style scoped>\n",
       "    .dataframe tbody tr th:only-of-type {\n",
       "        vertical-align: middle;\n",
       "    }\n",
       "\n",
       "    .dataframe tbody tr th {\n",
       "        vertical-align: top;\n",
       "    }\n",
       "\n",
       "    .dataframe thead th {\n",
       "        text-align: right;\n",
       "    }\n",
       "</style>\n",
       "<table border=\"1\" class=\"dataframe\">\n",
       "  <thead>\n",
       "    <tr style=\"text-align: right;\">\n",
       "      <th></th>\n",
       "      <th>id</th>\n",
       "      <th>book_id</th>\n",
       "      <th>authors</th>\n",
       "      <th>original_title</th>\n",
       "      <th>language_code</th>\n",
       "      <th>average_rating</th>\n",
       "      <th>ratings_count</th>\n",
       "    </tr>\n",
       "  </thead>\n",
       "  <tbody>\n",
       "    <tr>\n",
       "      <th>3328</th>\n",
       "      <td>3328</td>\n",
       "      <td>24388326</td>\n",
       "      <td>Margaret Atwood</td>\n",
       "      <td>The Heart Goes Last</td>\n",
       "      <td>eng</td>\n",
       "      <td>3.37</td>\n",
       "      <td>26841</td>\n",
       "    </tr>\n",
       "    <tr>\n",
       "      <th>3329</th>\n",
       "      <td>3329</td>\n",
       "      <td>30260</td>\n",
       "      <td>Kim Harrison</td>\n",
       "      <td>A Fistful of Charms</td>\n",
       "      <td>eng</td>\n",
       "      <td>4.28</td>\n",
       "      <td>43181</td>\n",
       "    </tr>\n",
       "    <tr>\n",
       "      <th>3330</th>\n",
       "      <td>3330</td>\n",
       "      <td>213367</td>\n",
       "      <td>John Piper</td>\n",
       "      <td>Desiring God: Meditations of a Christian Hedonist</td>\n",
       "      <td>NaN</td>\n",
       "      <td>4.19</td>\n",
       "      <td>25099</td>\n",
       "    </tr>\n",
       "    <tr>\n",
       "      <th>3331</th>\n",
       "      <td>3331</td>\n",
       "      <td>12813630</td>\n",
       "      <td>Holly Black</td>\n",
       "      <td>The Coldest Girl in Coldtown</td>\n",
       "      <td>eng</td>\n",
       "      <td>3.86</td>\n",
       "      <td>37682</td>\n",
       "    </tr>\n",
       "    <tr>\n",
       "      <th>3332</th>\n",
       "      <td>3332</td>\n",
       "      <td>13079</td>\n",
       "      <td>Carl Hiaasen</td>\n",
       "      <td>Skinny Dip</td>\n",
       "      <td>eng</td>\n",
       "      <td>3.79</td>\n",
       "      <td>29862</td>\n",
       "    </tr>\n",
       "    <tr>\n",
       "      <th>3333</th>\n",
       "      <td>3333</td>\n",
       "      <td>23492741</td>\n",
       "      <td>Alice Hoffman</td>\n",
       "      <td>The Marriage of Opposites</td>\n",
       "      <td>eng</td>\n",
       "      <td>3.86</td>\n",
       "      <td>29179</td>\n",
       "    </tr>\n",
       "    <tr>\n",
       "      <th>3334</th>\n",
       "      <td>3334</td>\n",
       "      <td>12987640</td>\n",
       "      <td>Jonah Lehrer</td>\n",
       "      <td>NaN</td>\n",
       "      <td>eng</td>\n",
       "      <td>3.75</td>\n",
       "      <td>24727</td>\n",
       "    </tr>\n",
       "    <tr>\n",
       "      <th>3335</th>\n",
       "      <td>3335</td>\n",
       "      <td>2295829</td>\n",
       "      <td>Rachel Caine</td>\n",
       "      <td>Feast of Fools</td>\n",
       "      <td>eng</td>\n",
       "      <td>4.17</td>\n",
       "      <td>43435</td>\n",
       "    </tr>\n",
       "    <tr>\n",
       "      <th>3336</th>\n",
       "      <td>3336</td>\n",
       "      <td>13545075</td>\n",
       "      <td>Neal Shusterman</td>\n",
       "      <td>UnWholly</td>\n",
       "      <td>NaN</td>\n",
       "      <td>4.25</td>\n",
       "      <td>33679</td>\n",
       "    </tr>\n",
       "    <tr>\n",
       "      <th>9999</th>\n",
       "      <td>9999</td>\n",
       "      <td>8914</td>\n",
       "      <td>John Keegan</td>\n",
       "      <td>The First World War</td>\n",
       "      <td>NaN</td>\n",
       "      <td>4.00</td>\n",
       "      <td>9162</td>\n",
       "    </tr>\n",
       "  </tbody>\n",
       "</table>\n",
       "</div>"
      ],
      "text/plain": [
       "        id   book_id          authors  \\\n",
       "3328  3328  24388326  Margaret Atwood   \n",
       "3329  3329     30260     Kim Harrison   \n",
       "3330  3330    213367       John Piper   \n",
       "3331  3331  12813630      Holly Black   \n",
       "3332  3332     13079     Carl Hiaasen   \n",
       "3333  3333  23492741    Alice Hoffman   \n",
       "3334  3334  12987640     Jonah Lehrer   \n",
       "3335  3335   2295829     Rachel Caine   \n",
       "3336  3336  13545075  Neal Shusterman   \n",
       "9999  9999      8914      John Keegan   \n",
       "\n",
       "                                         original_title language_code  \\\n",
       "3328                                The Heart Goes Last           eng   \n",
       "3329                                A Fistful of Charms           eng   \n",
       "3330  Desiring God: Meditations of a Christian Hedonist           NaN   \n",
       "3331                       The Coldest Girl in Coldtown           eng   \n",
       "3332                                         Skinny Dip           eng   \n",
       "3333                          The Marriage of Opposites           eng   \n",
       "3334                                                NaN           eng   \n",
       "3335                                     Feast of Fools           eng   \n",
       "3336                                           UnWholly           NaN   \n",
       "9999                                The First World War           NaN   \n",
       "\n",
       "      average_rating  ratings_count  \n",
       "3328            3.37          26841  \n",
       "3329            4.28          43181  \n",
       "3330            4.19          25099  \n",
       "3331            3.86          37682  \n",
       "3332            3.79          29862  \n",
       "3333            3.86          29179  \n",
       "3334            3.75          24727  \n",
       "3335            4.17          43435  \n",
       "3336            4.25          33679  \n",
       "9999            4.00           9162  "
      ]
     },
     "execution_count": 28,
     "metadata": {},
     "output_type": "execute_result"
    }
   ],
   "source": [
    "print(\"Books recommended to user:\", target_user)\n",
    "books[books['id'].isin(recommend_to_target)]"
   ]
  },
  {
   "cell_type": "code",
   "execution_count": null,
   "metadata": {},
   "outputs": [],
   "source": [
    "np.intersect1d(readed_books,recommend_to_target)"
   ]
  },
  {
   "cell_type": "markdown",
   "metadata": {},
   "source": [
    "### Evaluate Model"
   ]
  },
  {
   "cell_type": "code",
   "execution_count": null,
   "metadata": {},
   "outputs": [],
   "source": [
    "items_interact = data.groupby('book_id')['user_id'].agg({'count':'count'}).reset_index()\n",
    "users_interact = data.groupby('user_id')['book_id'].agg({'count':'count'}).reset_index()"
   ]
  },
  {
   "cell_type": "markdown",
   "metadata": {},
   "source": [
    "#### Histogram distribution of number of rating/book\n",
    "We can see most book have the same number of rating (~100)"
   ]
  },
  {
   "cell_type": "code",
   "execution_count": null,
   "metadata": {},
   "outputs": [],
   "source": [
    "fig = plt.figure(figsize=[15,5])\n",
    "_ = plt.hist(items_interact['count'],bins=20)\n",
    "plt.xlabel('Number of user interact')\n",
    "plt.ylabel('Number of book')"
   ]
  },
  {
   "cell_type": "markdown",
   "metadata": {},
   "source": [
    "#### Histogram distribution of number of ratings given/user\n",
    "We can see most people only read less than 15 books while very few read more than 50"
   ]
  },
  {
   "cell_type": "code",
   "execution_count": null,
   "metadata": {},
   "outputs": [],
   "source": [
    "fig = plt.figure(figsize=[15,5])\n",
    "_ = plt.hist(users_interact['count'],bins=100)\n",
    "plt.xlabel('Number of book read')\n",
    "plt.ylabel('Number of users')"
   ]
  },
  {
   "cell_type": "markdown",
   "metadata": {},
   "source": [
    "#### Coverage of recommendation"
   ]
  },
  {
   "cell_type": "code",
   "execution_count": null,
   "metadata": {},
   "outputs": [],
   "source": [
    "k = 20\n",
    "SAMPLE_SIZE = 10000\n",
    "k_droprate = [0,0.2,0.5,0.8,0.99]\n",
    "for dr in k_droprate:\n",
    "    coverages = []\n",
    "    for i in np.random.choice(num_user,SAMPLE_SIZE):\n",
    "        t = np.expand_dims(dense_rating[i],axis=0)\n",
    "        pred = model_session.run(out,feed_dict={x:t,drop_rate:dr})[0]\n",
    "        recom = np.argsort(pred)[::-1][:k]\n",
    "        coverages += recom.tolist()\n",
    "    coverages = np.unique(coverages)\n",
    "    coverages = len(coverages)/num_book\n",
    "    print(f\"At DropRate = {dr} - The model cover {coverages*100:.2f}% of items in the dataset\")"
   ]
  },
  {
   "cell_type": "markdown",
   "metadata": {},
   "source": [
    "#### Personalization of the recommendation"
   ]
  },
  {
   "cell_type": "code",
   "execution_count": null,
   "metadata": {},
   "outputs": [],
   "source": [
    "from sklearn.metrics.pairwise import cosine_similarity"
   ]
  },
  {
   "cell_type": "code",
   "execution_count": null,
   "metadata": {},
   "outputs": [],
   "source": [
    "# Sample 5000 user to measure the similarity of their recommendation\n",
    "# Calculate for 50k users is too much\n",
    "SAMPLE_SIZE = 5000\n",
    "k = 10\n",
    "sample = np.random.choice(num_user,size=SAMPLE_SIZE,replace=False)\n",
    "sample_user = dense_rating[sample]\n",
    "sample_coverages = model_session.run(out,feed_dict={x:sample_user,drop_rate:0.2})\n",
    "sample_recom = np.argsort(sample_coverages,axis=-1)[:,-k:]\n",
    " \n",
    "recom_matrix = np.zeros([SAMPLE_SIZE,num_book])\n",
    "for i in range(SAMPLE_SIZE):\n",
    "    recom_matrix[i][sample_recom[i]]=1\n",
    "\n",
    "similarity = cosine_similarity(recom_matrix)\n",
    "# Personalized Score = 1 - mean_of_upper_triangle(similarity)\n",
    "# The higher the score, the better\n",
    "personalized_score = 1-np.sum(np.triu(similarity))/(np.prod(similarity.shape)/2)\n",
    "print(\"Personalization Score =\",personalized_score)"
   ]
  },
  {
   "cell_type": "markdown",
   "metadata": {},
   "source": [
    "#### Mean Average Precision & Mean Average Recall (MAP@K and MAR@K)\n",
    "https://towardsdatascience.com/breaking-down-mean-average-precision-map-ae462f623a52\n",
    "\n",
    "https://www.youtube.com/watch?v=pM6DJ0ZZee0\n",
    "\n",
    "http://fastml.com/what-you-wanted-to-know-about-mean-average-precision/"
   ]
  },
  {
   "cell_type": "markdown",
   "metadata": {},
   "source": [
    "![title](https://miro.medium.com/max/350/0*WcR6weG1ORhMcJOl.png)"
   ]
  },
  {
   "cell_type": "code",
   "execution_count": null,
   "metadata": {},
   "outputs": [],
   "source": [
    "def average_precision(ground_truth,preds):\n",
    "    precisions = []\n",
    "    correct = 0\n",
    "    for i,v in enumerate(preds):\n",
    "        if v in ground_truth:\n",
    "            correct+=1\n",
    "            precisions.append(correct/(i+1))\n",
    "    if correct == 0:\n",
    "        return 0\n",
    "    return np.sum(precisions)/correct"
   ]
  },
  {
   "cell_type": "code",
   "execution_count": null,
   "metadata": {},
   "outputs": [],
   "source": [
    "# Sample 1000 user query\n",
    "SAMPLE_SIZE = 1000\n",
    "sample_idx = np.random.choice(num_user,size=SAMPLE_SIZE,replace=False)\n",
    "sample = dense_rating[sample_idx]"
   ]
  },
  {
   "cell_type": "code",
   "execution_count": null,
   "metadata": {},
   "outputs": [],
   "source": [
    "readed_books = user_items(data,sample_idx,'user_id','book_id')['book_id']"
   ]
  },
  {
   "cell_type": "code",
   "execution_count": null,
   "metadata": {},
   "outputs": [],
   "source": [
    "k=20\n",
    "pred = model_session.run(out,feed_dict={x:sample,\n",
    "                                       drop_rate:0})\n",
    "recom = np.argsort(pred,axis=-1)"
   ]
  },
  {
   "cell_type": "code",
   "execution_count": null,
   "metadata": {},
   "outputs": [],
   "source": [
    "mapak = []\n",
    "for truth,pred in zip(readed_books,recom):\n",
    "    pred = pred[::-1][:k]\n",
    "    mapak.append(average_precision(truth,pred))\n",
    "print(np.mean(mapak))"
   ]
  },
  {
   "cell_type": "code",
   "execution_count": null,
   "metadata": {},
   "outputs": [],
   "source": [
    "mapak = []\n",
    "for truth,pred in zip(readed_books,recom):\n",
    "    pred = np.random.choice(num_book,size=k)\n",
    "    mapak.append(average_precision(truth,pred))\n",
    "print(np.mean(mapak))"
   ]
  },
  {
   "cell_type": "code",
   "execution_count": null,
   "metadata": {},
   "outputs": [],
   "source": []
  }
 ],
 "metadata": {
  "kernelspec": {
   "display_name": "Python 3",
   "language": "python",
   "name": "python3"
  },
  "language_info": {
   "codemirror_mode": {
    "name": "ipython",
    "version": 3
   },
   "file_extension": ".py",
   "mimetype": "text/x-python",
   "name": "python",
   "nbconvert_exporter": "python",
   "pygments_lexer": "ipython3",
   "version": "3.7.3"
  }
 },
 "nbformat": 4,
 "nbformat_minor": 2
}
