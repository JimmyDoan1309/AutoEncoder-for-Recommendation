{
 "cells": [
  {
   "cell_type": "code",
   "execution_count": 1,
   "metadata": {},
   "outputs": [],
   "source": [
    "import tensorflow as tf\n",
    "import numpy as np\n",
    "import pandas as pd\n",
    "import matplotlib.pyplot as plt\n",
    "import sys"
   ]
  },
  {
   "cell_type": "code",
   "execution_count": 36,
   "metadata": {},
   "outputs": [],
   "source": [
    "data = pd.read_csv('E:/dataset/goodread10k/ratings.csv')\n",
    "to_read = pd.read_csv('E:/dataset/goodread10k/to_read.csv')\n",
    "books = pd.read_csv('E:/dataset/goodread10k/books.csv')"
   ]
  },
  {
   "cell_type": "code",
   "execution_count": 37,
   "metadata": {},
   "outputs": [],
   "source": [
    "books = books[['id','book_id','authors','original_title','language_code','average_rating','ratings_count']]"
   ]
  },
  {
   "cell_type": "code",
   "execution_count": 38,
   "metadata": {},
   "outputs": [
    {
     "data": {
      "text/html": [
       "<div>\n",
       "<style scoped>\n",
       "    .dataframe tbody tr th:only-of-type {\n",
       "        vertical-align: middle;\n",
       "    }\n",
       "\n",
       "    .dataframe tbody tr th {\n",
       "        vertical-align: top;\n",
       "    }\n",
       "\n",
       "    .dataframe thead th {\n",
       "        text-align: right;\n",
       "    }\n",
       "</style>\n",
       "<table border=\"1\" class=\"dataframe\">\n",
       "  <thead>\n",
       "    <tr style=\"text-align: right;\">\n",
       "      <th></th>\n",
       "      <th>id</th>\n",
       "      <th>book_id</th>\n",
       "      <th>authors</th>\n",
       "      <th>original_title</th>\n",
       "      <th>language_code</th>\n",
       "      <th>average_rating</th>\n",
       "      <th>ratings_count</th>\n",
       "    </tr>\n",
       "  </thead>\n",
       "  <tbody>\n",
       "    <tr>\n",
       "      <th>0</th>\n",
       "      <td>1</td>\n",
       "      <td>2767052</td>\n",
       "      <td>Suzanne Collins</td>\n",
       "      <td>The Hunger Games</td>\n",
       "      <td>eng</td>\n",
       "      <td>4.34</td>\n",
       "      <td>4780653</td>\n",
       "    </tr>\n",
       "    <tr>\n",
       "      <th>1</th>\n",
       "      <td>2</td>\n",
       "      <td>3</td>\n",
       "      <td>J.K. Rowling, Mary GrandPré</td>\n",
       "      <td>Harry Potter and the Philosopher's Stone</td>\n",
       "      <td>eng</td>\n",
       "      <td>4.44</td>\n",
       "      <td>4602479</td>\n",
       "    </tr>\n",
       "    <tr>\n",
       "      <th>2</th>\n",
       "      <td>3</td>\n",
       "      <td>41865</td>\n",
       "      <td>Stephenie Meyer</td>\n",
       "      <td>Twilight</td>\n",
       "      <td>en-US</td>\n",
       "      <td>3.57</td>\n",
       "      <td>3866839</td>\n",
       "    </tr>\n",
       "    <tr>\n",
       "      <th>3</th>\n",
       "      <td>4</td>\n",
       "      <td>2657</td>\n",
       "      <td>Harper Lee</td>\n",
       "      <td>To Kill a Mockingbird</td>\n",
       "      <td>eng</td>\n",
       "      <td>4.25</td>\n",
       "      <td>3198671</td>\n",
       "    </tr>\n",
       "    <tr>\n",
       "      <th>4</th>\n",
       "      <td>5</td>\n",
       "      <td>4671</td>\n",
       "      <td>F. Scott Fitzgerald</td>\n",
       "      <td>The Great Gatsby</td>\n",
       "      <td>eng</td>\n",
       "      <td>3.89</td>\n",
       "      <td>2683664</td>\n",
       "    </tr>\n",
       "  </tbody>\n",
       "</table>\n",
       "</div>"
      ],
      "text/plain": [
       "   id  book_id                      authors  \\\n",
       "0   1  2767052              Suzanne Collins   \n",
       "1   2        3  J.K. Rowling, Mary GrandPré   \n",
       "2   3    41865              Stephenie Meyer   \n",
       "3   4     2657                   Harper Lee   \n",
       "4   5     4671          F. Scott Fitzgerald   \n",
       "\n",
       "                             original_title language_code  average_rating  \\\n",
       "0                          The Hunger Games           eng            4.34   \n",
       "1  Harry Potter and the Philosopher's Stone           eng            4.44   \n",
       "2                                  Twilight         en-US            3.57   \n",
       "3                     To Kill a Mockingbird           eng            4.25   \n",
       "4                          The Great Gatsby           eng            3.89   \n",
       "\n",
       "   ratings_count  \n",
       "0        4780653  \n",
       "1        4602479  \n",
       "2        3866839  \n",
       "3        3198671  \n",
       "4        2683664  "
      ]
     },
     "execution_count": 38,
     "metadata": {},
     "output_type": "execute_result"
    }
   ],
   "source": [
    "books.head()"
   ]
  },
  {
   "cell_type": "code",
   "execution_count": 39,
   "metadata": {},
   "outputs": [
    {
     "data": {
      "text/html": [
       "<div>\n",
       "<style scoped>\n",
       "    .dataframe tbody tr th:only-of-type {\n",
       "        vertical-align: middle;\n",
       "    }\n",
       "\n",
       "    .dataframe tbody tr th {\n",
       "        vertical-align: top;\n",
       "    }\n",
       "\n",
       "    .dataframe thead th {\n",
       "        text-align: right;\n",
       "    }\n",
       "</style>\n",
       "<table border=\"1\" class=\"dataframe\">\n",
       "  <thead>\n",
       "    <tr style=\"text-align: right;\">\n",
       "      <th></th>\n",
       "      <th>book_id</th>\n",
       "      <th>user_id</th>\n",
       "      <th>rating</th>\n",
       "    </tr>\n",
       "  </thead>\n",
       "  <tbody>\n",
       "    <tr>\n",
       "      <th>0</th>\n",
       "      <td>1</td>\n",
       "      <td>314</td>\n",
       "      <td>5</td>\n",
       "    </tr>\n",
       "    <tr>\n",
       "      <th>1</th>\n",
       "      <td>1</td>\n",
       "      <td>439</td>\n",
       "      <td>3</td>\n",
       "    </tr>\n",
       "    <tr>\n",
       "      <th>2</th>\n",
       "      <td>1</td>\n",
       "      <td>588</td>\n",
       "      <td>5</td>\n",
       "    </tr>\n",
       "    <tr>\n",
       "      <th>3</th>\n",
       "      <td>1</td>\n",
       "      <td>1169</td>\n",
       "      <td>4</td>\n",
       "    </tr>\n",
       "    <tr>\n",
       "      <th>4</th>\n",
       "      <td>1</td>\n",
       "      <td>1185</td>\n",
       "      <td>4</td>\n",
       "    </tr>\n",
       "  </tbody>\n",
       "</table>\n",
       "</div>"
      ],
      "text/plain": [
       "   book_id  user_id  rating\n",
       "0        1      314       5\n",
       "1        1      439       3\n",
       "2        1      588       5\n",
       "3        1     1169       4\n",
       "4        1     1185       4"
      ]
     },
     "execution_count": 39,
     "metadata": {},
     "output_type": "execute_result"
    }
   ],
   "source": [
    "data.head()"
   ]
  },
  {
   "cell_type": "code",
   "execution_count": 40,
   "metadata": {},
   "outputs": [],
   "source": [
    "data['book_id'] = data['book_id']-1\n",
    "data['user_id'] = data['user_id']-1\n",
    "books['id'] = books['id']-1"
   ]
  },
  {
   "cell_type": "code",
   "execution_count": 7,
   "metadata": {},
   "outputs": [],
   "source": [
    "data = data.drop_duplicates().reset_index(drop=True)"
   ]
  },
  {
   "cell_type": "code",
   "execution_count": 8,
   "metadata": {},
   "outputs": [],
   "source": [
    "num_user = len(data['user_id'].unique())\n",
    "num_book = len(data['book_id'].unique())"
   ]
  },
  {
   "cell_type": "markdown",
   "metadata": {},
   "source": [
    "### Data preprocessing"
   ]
  },
  {
   "cell_type": "code",
   "execution_count": 9,
   "metadata": {},
   "outputs": [],
   "source": [
    "# Create a sparse iteration matrix from rating data\n",
    "def create_sparse_matrix(num_user,num_item,df):\n",
    "    sess = tf.Session()\n",
    "    indices = df[['user_id','book_id']].values.astype(np.int32)\n",
    "    values = df['rating'].values.astype(np.int32)\n",
    "    dense_shape = (num_user,num_item)\n",
    "    resp =  sess.run(tf.SparseTensor(indices,values,dense_shape))\n",
    "    tf.reset_default_graph()\n",
    "    return resp"
   ]
  },
  {
   "cell_type": "code",
   "execution_count": 10,
   "metadata": {},
   "outputs": [],
   "source": [
    "rating_matrix = create_sparse_matrix(num_user,num_book,data)"
   ]
  },
  {
   "cell_type": "code",
   "execution_count": 11,
   "metadata": {},
   "outputs": [],
   "source": [
    "# create a class to generate data from sparse to dense format\n",
    "class SparseToDenseGenerator:\n",
    "    def __init__(self,sparse_matrix,num_row,num_col,batch_size=256):\n",
    "        self.sess = tf.Session()\n",
    "        self.sparse_matrix = sparse_matrix\n",
    "        self.num_row = num_row\n",
    "        self.num_col = num_col\n",
    "        self.batch_size = batch_size\n",
    "        self.total_batch = int(np.ceil(num_row/batch_size))\n",
    "        self.count = 0\n",
    "        \n",
    "    def get(self):\n",
    "        start = self.count*self.batch_size\n",
    "        size = start+self.batch_size\n",
    "        self.count+=1\n",
    "        if (size > self.num_row):\n",
    "            size = self.num_row\n",
    "            self.count = 0\n",
    "        with self.sess.graph.as_default():\n",
    "            t = self.sess.run(tf.sparse.slice(self.sparse_matrix,[start,0],[size,self.num_col]))\n",
    "            rep =  self.sess.run(tf.sparse.to_dense(t,validate_indices=False))  \n",
    "        return rep.astype(np.float32)\n",
    "    \n",
    "class DataGenerator:\n",
    "    def __init__(self,train_data,batch_size=256,shuffle=True):\n",
    "        self.train = train_data\n",
    "        self.row = train_data.shape[0]\n",
    "        self.batch_size = batch_size\n",
    "        self.total_batch = int(np.ceil(self.row/batch_size))\n",
    "        self.count = 0\n",
    "        self.shuffle=shuffle\n",
    "        \n",
    "    def get(self):\n",
    "        done = False\n",
    "        lower = self.count*self.batch_size\n",
    "        upper = lower+self.batch_size\n",
    "        self.count+=1\n",
    "        if (upper > self.row):\n",
    "            upper = self.row\n",
    "            self.count = 0\n",
    "            done = True\n",
    "        train_batch = self.train[lower:upper]\n",
    "        if done:\n",
    "            perm = np.random.permutation(self.row)\n",
    "            self.train = self.train[perm]\n",
    "        return train_batch"
   ]
  },
  {
   "cell_type": "code",
   "execution_count": 12,
   "metadata": {},
   "outputs": [],
   "source": [
    "dense_rating = tf.Session().run(tf.sparse.to_dense(rating_matrix,validate_indices=False))"
   ]
  },
  {
   "cell_type": "code",
   "execution_count": 13,
   "metadata": {},
   "outputs": [],
   "source": [
    "data_generator = DataGenerator(dense_rating,batch_size=512)"
   ]
  },
  {
   "cell_type": "code",
   "execution_count": 14,
   "metadata": {},
   "outputs": [
    {
     "data": {
      "text/plain": [
       "105"
      ]
     },
     "execution_count": 14,
     "metadata": {},
     "output_type": "execute_result"
    }
   ],
   "source": [
    "data_generator.total_batch"
   ]
  },
  {
   "cell_type": "markdown",
   "metadata": {},
   "source": [
    "### AutoEncoder model"
   ]
  },
  {
   "cell_type": "code",
   "execution_count": 15,
   "metadata": {},
   "outputs": [],
   "source": [
    "def encoder(x,drop_rate):\n",
    "    with tf.variable_scope('AutoEncoder/Encoder',reuse=tf.AUTO_REUSE):\n",
    "        z = tf.layers.Dense(256,activation=tf.nn.selu,kernel_initializer=tf.initializers.glorot_normal)(x)\n",
    "        z = tf.layers.Dense(256,activation=tf.nn.selu,kernel_initializer=tf.initializers.glorot_normal)(z)\n",
    "        latent = tf.layers.Dense(256,activation=tf.nn.selu,kernel_initializer=tf.initializers.glorot_normal)(z)\n",
    "        latent = tf.nn.dropout(latent,1-drop_rate)\n",
    "        #latent = tf.layers.Dropout(drop_rate)(latent) --- for some reason tf.layers.Dropout doesn't work\n",
    "        return latent\n",
    "\n",
    "def decoder(latent):\n",
    "    with tf.variable_scope('AutoEncoder/Decoder',reuse=tf.AUTO_REUSE):\n",
    "        z = z = tf.layers.Dense(256,activation=tf.nn.selu,kernel_initializer=tf.initializers.glorot_normal)(latent)\n",
    "        z = tf.layers.Dense(256,activation=tf.nn.selu,kernel_initializer=tf.initializers.glorot_normal)(z)\n",
    "        out = tf.layers.Dense(num_book,activation=tf.nn.selu,kernel_initializer=tf.initializers.glorot_normal)(z)\n",
    "        return out"
   ]
  },
  {
   "cell_type": "code",
   "execution_count": 16,
   "metadata": {},
   "outputs": [],
   "source": [
    "def forward_path(x,drop_rate):\n",
    "    latent = encoder(x,drop_rate)\n",
    "    out = decoder(latent)\n",
    "    return out"
   ]
  },
  {
   "cell_type": "code",
   "execution_count": 17,
   "metadata": {},
   "outputs": [],
   "source": [
    "tf.reset_default_graph()"
   ]
  },
  {
   "cell_type": "code",
   "execution_count": 18,
   "metadata": {},
   "outputs": [
    {
     "name": "stderr",
     "output_type": "stream",
     "text": [
      "WARNING: Logging before flag parsing goes to stderr.\n",
      "W0720 10:00:10.452252  6492 deprecation.py:506] From f:\\anaconda\\envs\\tensorflow\\lib\\site-packages\\tensorflow\\python\\ops\\init_ops.py:1288: calling VarianceScaling.__init__ (from tensorflow.python.ops.init_ops) with dtype is deprecated and will be removed in a future version.\n",
      "Instructions for updating:\n",
      "Call initializer instance with the dtype argument instead of passing it to the constructor\n",
      "W0720 10:00:10.712302  6492 deprecation.py:506] From <ipython-input-15-85d9edb3ee29>:6: calling dropout (from tensorflow.python.ops.nn_ops) with keep_prob is deprecated and will be removed in a future version.\n",
      "Instructions for updating:\n",
      "Please use `rate` instead of `keep_prob`. Rate should be set to `rate = 1 - keep_prob`.\n",
      "W0720 10:00:10.760325  6492 deprecation.py:323] From f:\\anaconda\\envs\\tensorflow\\lib\\site-packages\\tensorflow\\python\\ops\\losses\\losses_impl.py:121: add_dispatch_support.<locals>.wrapper (from tensorflow.python.ops.array_ops) is deprecated and will be removed in a future version.\n",
      "Instructions for updating:\n",
      "Use tf.where in 2.0, which has the same broadcast rule as np.where\n"
     ]
    }
   ],
   "source": [
    "x = tf.placeholder(dtype=tf.float32,shape=[None,num_book],name='input')\n",
    "drop_rate = tf.placeholder(dtype=tf.float32,name='drop_rate')\n",
    "optimizer = tf.train.GradientDescentOptimizer(0.08)\n",
    "\n",
    "# Forward path\n",
    "out = forward_path(x,drop_rate)\n",
    "loss = tf.math.sqrt(tf.losses.mean_squared_error(x,out))\n",
    "train = optimizer.minimize(loss)\n",
    "\n",
    "# Dense Re-feeding (DR)\n",
    "dr_out = forward_path(out,drop_rate)\n",
    "dr_loss = tf.math.sqrt(tf.losses.mean_squared_error(out,dr_out))\n",
    "dr_train = optimizer.minimize(dr_loss)"
   ]
  },
  {
   "cell_type": "code",
   "execution_count": 19,
   "metadata": {},
   "outputs": [],
   "source": [
    "model_session = tf.Session()\n",
    "model_session.run(tf.global_variables_initializer())"
   ]
  },
  {
   "cell_type": "code",
   "execution_count": 20,
   "metadata": {},
   "outputs": [
    {
     "name": "stdout",
     "output_type": "stream",
     "text": [
      "Total trainable parameters = 5393424\n"
     ]
    }
   ],
   "source": [
    "trainable_variables = np.sum([np.prod(v.shape).value for v in tf.trainable_variables()])\n",
    "print(f\"Total trainable parameters = {trainable_variables}\")"
   ]
  },
  {
   "cell_type": "code",
   "execution_count": 21,
   "metadata": {},
   "outputs": [],
   "source": [
    "train_losses = []"
   ]
  },
  {
   "cell_type": "code",
   "execution_count": 22,
   "metadata": {},
   "outputs": [
    {
     "name": "stdout",
     "output_type": "stream",
     "text": [
      "Epoch 1: train_loss = 0.298169\n",
      "Epoch 2: train_loss = 0.281448\n",
      "Epoch 3: train_loss = 0.269016\n",
      "Epoch 4: train_loss = 0.258299\n",
      "Epoch 5: train_loss = 0.249326\n",
      "Epoch 6: train_loss = 0.241521\n",
      "Epoch 7: train_loss = 0.234465\n",
      "Epoch 8: train_loss = 0.228223\n",
      "Epoch 9: train_loss = 0.222671\n",
      "Epoch 10: train_loss = 0.217791\n",
      "Epoch 11: train_loss = 0.213359\n",
      "Epoch 12: train_loss = 0.209254\n",
      "Epoch 13: train_loss = 0.205789\n",
      "Epoch 14: train_loss = 0.202591\n",
      "Epoch 15: train_loss = 0.199763\n",
      "Epoch 16: train_loss = 0.197106\n",
      "Epoch 17: train_loss = 0.194733\n",
      "Epoch 18: train_loss = 0.192785\n",
      "Epoch 19: train_loss = 0.190857\n",
      "Epoch 20: train_loss = 0.189275\n",
      "Epoch 21: train_loss = 0.187822\n",
      "Epoch 22: train_loss = 0.186449\n",
      "Epoch 23: train_loss = 0.185188\n",
      "Epoch 24: train_loss = 0.184189\n",
      "Epoch 25: train_loss = 0.183273\n",
      "Epoch 26: train_loss = 0.182377\n",
      "Epoch 27: train_loss = 0.181656\n",
      "Epoch 28: train_loss = 0.181001\n",
      "Epoch 29: train_loss = 0.180318\n",
      "Epoch 30: train_loss = 0.179813\n",
      "Epoch 31: train_loss = 0.179137\n",
      "Epoch 32: train_loss = 0.178604\n",
      "Epoch 33: train_loss = 0.178198\n",
      "Epoch 34: train_loss = 0.177686\n",
      "Epoch 35: train_loss = 0.177224\n",
      "Epoch 36: train_loss = 0.176982\n",
      "Epoch 37: train_loss = 0.176589\n",
      "Epoch 38: train_loss = 0.176318\n",
      "Epoch 39: train_loss = 0.175986\n",
      "Epoch 40: train_loss = 0.175660\n",
      "Epoch 41: train_loss = 0.175408\n",
      "Epoch 42: train_loss = 0.175155\n",
      "Epoch 43: train_loss = 0.174945\n",
      "Epoch 44: train_loss = 0.174882\n",
      "Epoch 45: train_loss = 0.174504\n",
      "Epoch 46: train_loss = 0.174327\n",
      "Epoch 47: train_loss = 0.174122\n",
      "Epoch 48: train_loss = 0.173948\n",
      "Epoch 49: train_loss = 0.173766\n",
      "Epoch 50: train_loss = 0.173760\n",
      "Epoch 51: train_loss = 0.173567\n",
      "Epoch 52: train_loss = 0.173401\n",
      "Epoch 53: train_loss = 0.173188\n",
      "Epoch 54: train_loss = 0.173174\n",
      "Epoch 55: train_loss = 0.172893\n",
      "Epoch 56: train_loss = 0.172786\n",
      "Epoch 57: train_loss = 0.172710\n",
      "Epoch 58: train_loss = 0.172591\n",
      "Epoch 59: train_loss = 0.172533\n",
      "Epoch 60: train_loss = 0.172422\n",
      "Epoch 61: train_loss = 0.172339\n",
      "Epoch 62: train_loss = 0.172217\n",
      "Epoch 63: train_loss = 0.172092\n",
      "Epoch 64: train_loss = 0.172094\n",
      "Epoch 65: train_loss = 0.171956\n",
      "Epoch 66: train_loss = 0.171763\n",
      "Epoch 67: train_loss = 0.171847\n",
      "Epoch 68: train_loss = 0.171713\n",
      "Epoch 69: train_loss = 0.171703\n",
      "Epoch 70: train_loss = 0.171574\n",
      "Epoch 71: train_loss = 0.171642\n",
      "Epoch 72: train_loss = 0.171545\n",
      "Epoch 73: train_loss = 0.171503\n",
      "Epoch 74: train_loss = 0.171422\n",
      "Epoch 75: train_loss = 0.171263\n",
      "Epoch 76: train_loss = 0.171454\n",
      "Epoch 77: train_loss = 0.171316\n",
      "Epoch 78: train_loss = 0.171182\n",
      "Epoch 79: train_loss = 0.171256\n",
      "Epoch 80: train_loss = 0.171119\n",
      "Epoch 81: train_loss = 0.171049\n",
      "Epoch 82: train_loss = 0.171022\n",
      "Epoch 83: train_loss = 0.171024\n",
      "Epoch 84: train_loss = 0.170848\n",
      "Epoch 85: train_loss = 0.170885\n",
      "Epoch 86: train_loss = 0.170939\n",
      "Epoch 87: train_loss = 0.170860\n",
      "Epoch 88: train_loss = 0.170898\n",
      "Epoch 89: train_loss = 0.170906\n",
      "Epoch 90: train_loss = 0.170827\n",
      "Epoch 91: train_loss = 0.170753\n",
      "Epoch 92: train_loss = 0.170690\n",
      "Epoch 93: train_loss = 0.170647\n",
      "Epoch 94: train_loss = 0.170611\n",
      "Epoch 95: train_loss = 0.170721\n",
      "Epoch 96: train_loss = 0.170655\n",
      "Epoch 97: train_loss = 0.170658\n",
      "Epoch 98: train_loss = 0.170693\n",
      "Epoch 99: train_loss = 0.170658\n",
      "Epoch 100: train_loss = 0.170562\n",
      "Epoch 101: train_loss = 0.170570\n",
      "Epoch 102: train_loss = 0.170564\n",
      "Epoch 103: train_loss = 0.170560\n",
      "Epoch 104: train_loss = 0.170546\n",
      "Epoch 105: train_loss = 0.170569\n",
      "Epoch 106: train_loss = 0.170523\n",
      "Epoch 107: train_loss = 0.170498\n",
      "Epoch 108: train_loss = 0.170519\n",
      "Epoch 109: train_loss = 0.170455\n",
      "Epoch 110: train_loss = 0.170533\n",
      "Epoch 111: train_loss = 0.170430\n",
      "Epoch 112: train_loss = 0.170328\n",
      "Epoch 113: train_loss = 0.170450\n",
      "Epoch 114: train_loss = 0.170303\n",
      "Epoch 115: train_loss = 0.170531\n",
      "Epoch 116: train_loss = 0.170538\n",
      "Epoch 117: train_loss = 0.170472\n",
      "Epoch 118: train_loss = 0.170416\n",
      "Epoch 119: train_loss = 0.170479\n",
      "Epoch 120: train_loss = 0.170279\n",
      "Epoch 121: train_loss = 0.170456\n",
      "Epoch 122: train_loss = 0.170263\n",
      "Epoch 123: train_loss = 0.170382\n",
      "Epoch 124: train_loss = 0.170321\n",
      "Epoch 125: train_loss = 0.170368\n",
      "Epoch 126: train_loss = 0.170298\n",
      "Epoch 127: train_loss = 0.170287\n",
      "Epoch 128: train_loss = 0.170295\n",
      "Epoch 129: train_loss = 0.170339\n",
      "Epoch 130: train_loss = 0.170353\n",
      "Epoch 131: train_loss = 0.170438\n",
      "Epoch 132: train_loss = 0.170185\n",
      "Epoch 133: train_loss = 0.170339\n",
      "Epoch 134: train_loss = 0.170327\n",
      "Epoch 135: train_loss = 0.170280\n",
      "Epoch 136: train_loss = 0.170274\n",
      "Epoch 137: train_loss = 0.170245\n",
      "Epoch 138: train_loss = 0.170228\n",
      "Epoch 139: train_loss = 0.170181\n",
      "Epoch 140: train_loss = 0.170269\n",
      "Epoch 141: train_loss = 0.170252\n",
      "Epoch 142: train_loss = 0.170290\n",
      "Epoch 143: train_loss = 0.170222\n",
      "Epoch 144: train_loss = 0.170241\n",
      "Epoch 145: train_loss = 0.170231\n",
      "Epoch 146: train_loss = 0.170300\n",
      "Epoch 147: train_loss = 0.170094\n",
      "Epoch 148: train_loss = 0.170289\n",
      "Epoch 149: train_loss = 0.170247\n",
      "Epoch 150: train_loss = 0.170140\n",
      "Epoch 151: train_loss = 0.170212\n",
      "Epoch 152: train_loss = 0.170241\n",
      "Epoch 153: train_loss = 0.170248\n",
      "Epoch 154: train_loss = 0.170244\n",
      "Epoch 155: train_loss = 0.170138\n",
      "Epoch 156: train_loss = 0.170058\n",
      "Epoch 157: train_loss = 0.170280\n",
      "Epoch 158: train_loss = 0.170133\n",
      "Epoch 159: train_loss = 0.170143\n",
      "Epoch 160: train_loss = 0.170190\n",
      "Epoch 161: train_loss = 0.170234\n",
      "Epoch 162: train_loss = 0.170169\n",
      "Epoch 163: train_loss = 0.170252\n",
      "Epoch 164: train_loss = 0.170247\n",
      "Epoch 165: train_loss = 0.170238\n",
      "Epoch 166: train_loss = 0.170151\n",
      "Epoch 167: train_loss = 0.170072\n",
      "Epoch 168: train_loss = 0.170228\n",
      "Epoch 169: train_loss = 0.170121\n",
      "Epoch 170: train_loss = 0.170041\n",
      "Epoch 171: train_loss = 0.170238\n",
      "Epoch 172: train_loss = 0.170171\n",
      "Epoch 173: train_loss = 0.170145\n",
      "Epoch 174: train_loss = 0.170125\n",
      "Epoch 175: train_loss = 0.170151\n",
      "Epoch 176: train_loss = 0.170191\n",
      "Epoch 177: train_loss = 0.170203\n",
      "Epoch 178: train_loss = 0.170010\n",
      "Epoch 179: train_loss = 0.170044\n",
      "Epoch 180: train_loss = 0.170152\n",
      "Epoch 181: train_loss = 0.170302\n",
      "Epoch 182: train_loss = 0.170212\n",
      "Epoch 183: train_loss = 0.170100\n",
      "Epoch 184: train_loss = 0.170114\n",
      "Epoch 185: train_loss = 0.170227\n",
      "Epoch 186: train_loss = 0.170177\n",
      "Epoch 187: train_loss = 0.170126\n",
      "Epoch 188: train_loss = 0.170121\n",
      "Epoch 189: train_loss = 0.170178\n",
      "Epoch 190: train_loss = 0.170173\n",
      "Epoch 191: train_loss = 0.170235\n",
      "Epoch 192: train_loss = 0.170179\n",
      "Epoch 193: train_loss = 0.170181\n",
      "Epoch 194: train_loss = 0.170225\n",
      "Epoch 195: train_loss = 0.170192\n",
      "Epoch 196: train_loss = 0.170176\n",
      "Epoch 197: train_loss = 0.170281\n",
      "Epoch 198: train_loss = 0.170201\n",
      "Epoch 199: train_loss = 0.170135\n",
      "Epoch 200: train_loss = 0.170171\n"
     ]
    }
   ],
   "source": [
    "EPOCHS = 100\n",
    "for e in range(1,EPOCHS+1):\n",
    "    avg_train_loss = []\n",
    "    for i in range(data_generator.total_batch):\n",
    "        with (model_session.graph.as_default()):\n",
    "            batch_train = data_generator.get()\n",
    "            train_loss_val, _, __= model_session.run([loss,train, dr_train],\n",
    "                                                    feed_dict={x:batch_train,drop_rate:0.8})  \n",
    "            avg_train_loss.append(train_loss_val)\n",
    "            \n",
    "            sys.stdout.write(f\"\\rEpoch {e}: train_loss = {train_loss_val:.6f}\")\n",
    "            sys.stdout.flush()\n",
    "            \n",
    "    train_losses.append(np.mean(avg_train_loss))\n",
    "    print(f\"\\rEpoch {e}: train_loss = {np.mean(avg_train_loss):.6f}\")"
   ]
  },
  {
   "cell_type": "code",
   "execution_count": 23,
   "metadata": {},
   "outputs": [
    {
     "data": {
      "text/plain": [
       "Text(0, 0.5, 'Loss')"
      ]
     },
     "execution_count": 23,
     "metadata": {},
     "output_type": "execute_result"
    },
    {
     "data": {
      "image/png": "[encoded data removed]",
      "text/plain": [
       "<Figure size 432x288 with 1 Axes>"
      ]
     },
     "metadata": {
      "needs_background": "light"
     },
     "output_type": "display_data"
    }
   ],
   "source": [
    "plt.plot(train_losses,c='b')\n",
    "plt.legend(['training_loss'])\n",
    "plt.xlabel('Epochs')\n",
    "plt.ylabel('Loss')"
   ]
  },
  {
   "cell_type": "markdown",
   "metadata": {},
   "source": [
    "### Inference Model"
   ]
  },
  {
   "cell_type": "code",
   "execution_count": 26,
   "metadata": {},
   "outputs": [],
   "source": [
    "def user_items(df,user_id,key_userId,key_itemID):\n",
    "#     if (str(type(user_id) == \"<class 'list'>\") or str(type(user_id) == \"<class 'numpy.ndarray'>\")):\n",
    "#         def func(x):\n",
    "#             return x.values\n",
    "#         tdf = df[df[key_userId].isin(user_id)]\n",
    "#         gb = tdf.groupby(key_userId)[key_itemID].apply(func).reset_index()\n",
    "#         return gb[gb[key_userId].isin(user_id)]\n",
    "    return df[df[key_userId]==user_id][key_itemID]"
   ]
  },
  {
   "cell_type": "code",
   "execution_count": 55,
   "metadata": {},
   "outputs": [],
   "source": [
    "target_user = 651\n",
    "readed_books = user_items(data, target_user,'user_id','book_id')"
   ]
  },
  {
   "cell_type": "code",
   "execution_count": 56,
   "metadata": {},
   "outputs": [],
   "source": [
    "t = np.expand_dims(dense_rating[target_user],axis=0)\n",
    "pred = model_session.run(out,feed_dict={x:t,drop_rate:0})[0]\n",
    "k = 10\n",
    "recommend_to_target = np.argsort(pred)[::-1][:k]"
   ]
  },
  {
   "cell_type": "code",
   "execution_count": 57,
   "metadata": {},
   "outputs": [
    {
     "name": "stdout",
     "output_type": "stream",
     "text": [
      "Books read by user: 651\n"
     ]
    },
    {
     "data": {
      "text/html": [
       "<div>\n",
       "<style scoped>\n",
       "    .dataframe tbody tr th:only-of-type {\n",
       "        vertical-align: middle;\n",
       "    }\n",
       "\n",
       "    .dataframe tbody tr th {\n",
       "        vertical-align: top;\n",
       "    }\n",
       "\n",
       "    .dataframe thead th {\n",
       "        text-align: right;\n",
       "    }\n",
       "</style>\n",
       "<table border=\"1\" class=\"dataframe\">\n",
       "  <thead>\n",
       "    <tr style=\"text-align: right;\">\n",
       "      <th></th>\n",
       "      <th>id</th>\n",
       "      <th>book_id</th>\n",
       "      <th>authors</th>\n",
       "      <th>original_title</th>\n",
       "      <th>language_code</th>\n",
       "      <th>average_rating</th>\n",
       "      <th>ratings_count</th>\n",
       "    </tr>\n",
       "  </thead>\n",
       "  <tbody>\n",
       "    <tr>\n",
       "      <th>5773</th>\n",
       "      <td>5773</td>\n",
       "      <td>3300</td>\n",
       "      <td>Isabel Allende, Margaret Sayers Peden</td>\n",
       "      <td>Inés del alma mía</td>\n",
       "      <td>en-US</td>\n",
       "      <td>3.90</td>\n",
       "      <td>13539</td>\n",
       "    </tr>\n",
       "    <tr>\n",
       "      <th>6293</th>\n",
       "      <td>6293</td>\n",
       "      <td>11343348</td>\n",
       "      <td>James Patterson, Mark T. Sullivan</td>\n",
       "      <td>Private Games</td>\n",
       "      <td>eng</td>\n",
       "      <td>3.83</td>\n",
       "      <td>14358</td>\n",
       "    </tr>\n",
       "    <tr>\n",
       "      <th>6466</th>\n",
       "      <td>6466</td>\n",
       "      <td>765811</td>\n",
       "      <td>Gloria Naylor</td>\n",
       "      <td>The Women of Brewster Place</td>\n",
       "      <td>en-US</td>\n",
       "      <td>4.13</td>\n",
       "      <td>14777</td>\n",
       "    </tr>\n",
       "    <tr>\n",
       "      <th>7514</th>\n",
       "      <td>7514</td>\n",
       "      <td>43081</td>\n",
       "      <td>Rusty Young, Thomas McFadden</td>\n",
       "      <td>Marching Powder: A True Story of Friendship, C...</td>\n",
       "      <td>eng</td>\n",
       "      <td>4.22</td>\n",
       "      <td>7313</td>\n",
       "    </tr>\n",
       "    <tr>\n",
       "      <th>8448</th>\n",
       "      <td>8448</td>\n",
       "      <td>6751356</td>\n",
       "      <td>Dolen Perkins-Valdez</td>\n",
       "      <td>Wench</td>\n",
       "      <td>en-US</td>\n",
       "      <td>3.68</td>\n",
       "      <td>12250</td>\n",
       "    </tr>\n",
       "    <tr>\n",
       "      <th>9832</th>\n",
       "      <td>9832</td>\n",
       "      <td>10111087</td>\n",
       "      <td>Mark    Adams</td>\n",
       "      <td>NaN</td>\n",
       "      <td>en-US</td>\n",
       "      <td>3.80</td>\n",
       "      <td>8650</td>\n",
       "    </tr>\n",
       "  </tbody>\n",
       "</table>\n",
       "</div>"
      ],
      "text/plain": [
       "        id   book_id                                authors  \\\n",
       "5773  5773      3300  Isabel Allende, Margaret Sayers Peden   \n",
       "6293  6293  11343348      James Patterson, Mark T. Sullivan   \n",
       "6466  6466    765811                          Gloria Naylor   \n",
       "7514  7514     43081           Rusty Young, Thomas McFadden   \n",
       "8448  8448   6751356                   Dolen Perkins-Valdez   \n",
       "9832  9832  10111087                          Mark    Adams   \n",
       "\n",
       "                                         original_title language_code  \\\n",
       "5773                                  Inés del alma mía         en-US   \n",
       "6293                                     Private Games            eng   \n",
       "6466                        The Women of Brewster Place         en-US   \n",
       "7514  Marching Powder: A True Story of Friendship, C...           eng   \n",
       "8448                                              Wench         en-US   \n",
       "9832                                                NaN         en-US   \n",
       "\n",
       "      average_rating  ratings_count  \n",
       "5773            3.90          13539  \n",
       "6293            3.83          14358  \n",
       "6466            4.13          14777  \n",
       "7514            4.22           7313  \n",
       "8448            3.68          12250  \n",
       "9832            3.80           8650  "
      ]
     },
     "execution_count": 57,
     "metadata": {},
     "output_type": "execute_result"
    }
   ],
   "source": [
    "print(\"Books read by user:\",target_user)\n",
    "books[books['id'].isin(readed_books)].head(10)"
   ]
  },
  {
   "cell_type": "code",
   "execution_count": 58,
   "metadata": {},
   "outputs": [
    {
     "name": "stdout",
     "output_type": "stream",
     "text": [
      "Books recommended to user: 651\n"
     ]
    },
    {
     "data": {
      "text/html": [
       "<div>\n",
       "<style scoped>\n",
       "    .dataframe tbody tr th:only-of-type {\n",
       "        vertical-align: middle;\n",
       "    }\n",
       "\n",
       "    .dataframe tbody tr th {\n",
       "        vertical-align: top;\n",
       "    }\n",
       "\n",
       "    .dataframe thead th {\n",
       "        text-align: right;\n",
       "    }\n",
       "</style>\n",
       "<table border=\"1\" class=\"dataframe\">\n",
       "  <thead>\n",
       "    <tr style=\"text-align: right;\">\n",
       "      <th></th>\n",
       "      <th>id</th>\n",
       "      <th>book_id</th>\n",
       "      <th>authors</th>\n",
       "      <th>original_title</th>\n",
       "      <th>language_code</th>\n",
       "      <th>average_rating</th>\n",
       "      <th>ratings_count</th>\n",
       "    </tr>\n",
       "  </thead>\n",
       "  <tbody>\n",
       "    <tr>\n",
       "      <th>250</th>\n",
       "      <td>250</td>\n",
       "      <td>233093</td>\n",
       "      <td>Dr. Seuss</td>\n",
       "      <td>The Cat in the Hat</td>\n",
       "      <td>eng</td>\n",
       "      <td>4.15</td>\n",
       "      <td>314016</td>\n",
       "    </tr>\n",
       "    <tr>\n",
       "      <th>264</th>\n",
       "      <td>264</td>\n",
       "      <td>14891</td>\n",
       "      <td>Betty  Smith</td>\n",
       "      <td>A Tree Grows In Brooklyn</td>\n",
       "      <td>eng</td>\n",
       "      <td>4.24</td>\n",
       "      <td>291909</td>\n",
       "    </tr>\n",
       "    <tr>\n",
       "      <th>1417</th>\n",
       "      <td>1417</td>\n",
       "      <td>44688</td>\n",
       "      <td>David Eddings</td>\n",
       "      <td>Magician's Gambit</td>\n",
       "      <td>NaN</td>\n",
       "      <td>4.13</td>\n",
       "      <td>69616</td>\n",
       "    </tr>\n",
       "    <tr>\n",
       "      <th>2198</th>\n",
       "      <td>2198</td>\n",
       "      <td>89723</td>\n",
       "      <td>Shirley Jackson</td>\n",
       "      <td>The Lottery: Adventures of the Demon Lover</td>\n",
       "      <td>en-US</td>\n",
       "      <td>4.06</td>\n",
       "      <td>48608</td>\n",
       "    </tr>\n",
       "    <tr>\n",
       "      <th>2809</th>\n",
       "      <td>2809</td>\n",
       "      <td>16286</td>\n",
       "      <td>John Fowles</td>\n",
       "      <td>The Magus</td>\n",
       "      <td>en-US</td>\n",
       "      <td>4.04</td>\n",
       "      <td>32914</td>\n",
       "    </tr>\n",
       "    <tr>\n",
       "      <th>2987</th>\n",
       "      <td>2987</td>\n",
       "      <td>32979</td>\n",
       "      <td>Carolyn Keene, Russell H. Tandy, Sara Paretsky</td>\n",
       "      <td>The Secret of the Old Clock (Nancy Drew Myster...</td>\n",
       "      <td>eng</td>\n",
       "      <td>3.98</td>\n",
       "      <td>44256</td>\n",
       "    </tr>\n",
       "    <tr>\n",
       "      <th>5471</th>\n",
       "      <td>5471</td>\n",
       "      <td>7187395</td>\n",
       "      <td>Richard Paul Evans</td>\n",
       "      <td>The Walk</td>\n",
       "      <td>en-US</td>\n",
       "      <td>4.12</td>\n",
       "      <td>16224</td>\n",
       "    </tr>\n",
       "    <tr>\n",
       "      <th>7871</th>\n",
       "      <td>7871</td>\n",
       "      <td>527862</td>\n",
       "      <td>Irvine Welsh</td>\n",
       "      <td>The Acid House</td>\n",
       "      <td>NaN</td>\n",
       "      <td>3.69</td>\n",
       "      <td>10752</td>\n",
       "    </tr>\n",
       "    <tr>\n",
       "      <th>8097</th>\n",
       "      <td>8097</td>\n",
       "      <td>1116393</td>\n",
       "      <td>Karen Miller</td>\n",
       "      <td>Innocence Lost (Kingmaker, Kingbreaker, #2)</td>\n",
       "      <td>eng</td>\n",
       "      <td>3.71</td>\n",
       "      <td>12475</td>\n",
       "    </tr>\n",
       "    <tr>\n",
       "      <th>8146</th>\n",
       "      <td>8146</td>\n",
       "      <td>17835351</td>\n",
       "      <td>Sean Patrick</td>\n",
       "      <td>Nikola Tesla: Imagination and the Man That Inv...</td>\n",
       "      <td>eng</td>\n",
       "      <td>3.79</td>\n",
       "      <td>13584</td>\n",
       "    </tr>\n",
       "  </tbody>\n",
       "</table>\n",
       "</div>"
      ],
      "text/plain": [
       "        id   book_id                                         authors  \\\n",
       "250    250    233093                                       Dr. Seuss   \n",
       "264    264     14891                                    Betty  Smith   \n",
       "1417  1417     44688                                   David Eddings   \n",
       "2198  2198     89723                                 Shirley Jackson   \n",
       "2809  2809     16286                                     John Fowles   \n",
       "2987  2987     32979  Carolyn Keene, Russell H. Tandy, Sara Paretsky   \n",
       "5471  5471   7187395                              Richard Paul Evans   \n",
       "7871  7871    527862                                    Irvine Welsh   \n",
       "8097  8097   1116393                                    Karen Miller   \n",
       "8146  8146  17835351                                    Sean Patrick   \n",
       "\n",
       "                                         original_title language_code  \\\n",
       "250                                  The Cat in the Hat           eng   \n",
       "264                           A Tree Grows In Brooklyn            eng   \n",
       "1417                                  Magician's Gambit           NaN   \n",
       "2198         The Lottery: Adventures of the Demon Lover         en-US   \n",
       "2809                                          The Magus         en-US   \n",
       "2987  The Secret of the Old Clock (Nancy Drew Myster...           eng   \n",
       "5471                                           The Walk         en-US   \n",
       "7871                                     The Acid House           NaN   \n",
       "8097        Innocence Lost (Kingmaker, Kingbreaker, #2)           eng   \n",
       "8146  Nikola Tesla: Imagination and the Man That Inv...           eng   \n",
       "\n",
       "      average_rating  ratings_count  \n",
       "250             4.15         314016  \n",
       "264             4.24         291909  \n",
       "1417            4.13          69616  \n",
       "2198            4.06          48608  \n",
       "2809            4.04          32914  \n",
       "2987            3.98          44256  \n",
       "5471            4.12          16224  \n",
       "7871            3.69          10752  \n",
       "8097            3.71          12475  \n",
       "8146            3.79          13584  "
      ]
     },
     "execution_count": 58,
     "metadata": {},
     "output_type": "execute_result"
    }
   ],
   "source": [
    "print(\"Books recommended to user:\", target_user)\n",
    "books[books['id'].isin(recommend_to_target)]"
   ]
  },
  {
   "cell_type": "code",
   "execution_count": 59,
   "metadata": {},
   "outputs": [
    {
     "data": {
      "text/plain": [
       "array([], dtype=int64)"
      ]
     },
     "execution_count": 59,
     "metadata": {},
     "output_type": "execute_result"
    }
   ],
   "source": [
    "np.intersect1d(readed_books,recommend_to_target)"
   ]
  },
  {
   "cell_type": "markdown",
   "metadata": {},
   "source": [
    "### Evaluate Model"
   ]
  },
  {
   "cell_type": "code",
   "execution_count": 60,
   "metadata": {},
   "outputs": [
    {
     "name": "stderr",
     "output_type": "stream",
     "text": [
      "f:\\anaconda\\envs\\tensorflow\\lib\\site-packages\\ipykernel_launcher.py:1: FutureWarning: using a dict on a Series for aggregation\n",
      "is deprecated and will be removed in a future version\n",
      "  \"\"\"Entry point for launching an IPython kernel.\n",
      "f:\\anaconda\\envs\\tensorflow\\lib\\site-packages\\ipykernel_launcher.py:2: FutureWarning: using a dict on a Series for aggregation\n",
      "is deprecated and will be removed in a future version\n",
      "  \n"
     ]
    }
   ],
   "source": [
    "items_interact = data.groupby('book_id')['user_id'].agg({'count':'count'}).reset_index()\n",
    "users_interact = data.groupby('user_id')['book_id'].agg({'count':'count'}).reset_index()"
   ]
  },
  {
   "cell_type": "markdown",
   "metadata": {},
   "source": [
    "#### Histogram distribution of number of rating/book\n",
    "We can see most book have the same number of rating (~100)"
   ]
  },
  {
   "cell_type": "code",
   "execution_count": 61,
   "metadata": {},
   "outputs": [
    {
     "data": {
      "text/plain": [
       "Text(0, 0.5, 'Number of book')"
      ]
     },
     "execution_count": 61,
     "metadata": {},
     "output_type": "execute_result"
    },
    {
     "data": {
      "image/png": "[encoded data removed]",
      "text/plain": [
       "<Figure size 1080x360 with 1 Axes>"
      ]
     },
     "metadata": {
      "needs_background": "light"
     },
     "output_type": "display_data"
    }
   ],
   "source": [
    "fig = plt.figure(figsize=[15,5])\n",
    "_ = plt.hist(items_interact['count'],bins=20)\n",
    "plt.xlabel('Number of user interact')\n",
    "plt.ylabel('Number of book')"
   ]
  },
  {
   "cell_type": "markdown",
   "metadata": {},
   "source": [
    "#### Histogram distribution of number of ratings given/user\n",
    "We can see most people only read less than 15 books while very few read more than 50"
   ]
  },
  {
   "cell_type": "code",
   "execution_count": 62,
   "metadata": {},
   "outputs": [
    {
     "data": {
      "text/plain": [
       "Text(0, 0.5, 'Number of users')"
      ]
     },
     "execution_count": 62,
     "metadata": {},
     "output_type": "execute_result"
    },
    {
     "data": {
      "image/png": "[encoded data removed]",
      "text/plain": [
       "<Figure size 1080x360 with 1 Axes>"
      ]
     },
     "metadata": {
      "needs_background": "light"
     },
     "output_type": "display_data"
    }
   ],
   "source": [
    "fig = plt.figure(figsize=[15,5])\n",
    "_ = plt.hist(users_interact['count'],bins=100)\n",
    "plt.xlabel('Number of book read')\n",
    "plt.ylabel('Number of users')"
   ]
  },
  {
   "cell_type": "markdown",
   "metadata": {},
   "source": [
    "#### Coverage of recommendation"
   ]
  },
  {
   "cell_type": "code",
   "execution_count": 63,
   "metadata": {},
   "outputs": [
    {
     "name": "stdout",
     "output_type": "stream",
     "text": [
      "At DropRate = 0 - The model cover 14.74% of items in the dataset\n",
      "At DropRate = 0.2 - The model cover 18.86% of items in the dataset\n",
      "At DropRate = 0.5 - The model cover 30.80% of items in the dataset\n",
      "At DropRate = 0.8 - The model cover 56.25% of items in the dataset\n",
      "At DropRate = 0.99 - The model cover 95.67% of items in the dataset\n"
     ]
    }
   ],
   "source": [
    "k = 20\n",
    "SAMPLE_SIZE = 10000\n",
    "k_droprate = [0,0.2,0.5,0.8,0.99]\n",
    "for dr in k_droprate:\n",
    "    coverages = []\n",
    "    for i in np.random.choice(num_user,SAMPLE_SIZE):\n",
    "        t = np.expand_dims(dense_rating[i],axis=0)\n",
    "        pred = model_session.run(out,feed_dict={x:t,drop_rate:dr})[0]\n",
    "        recom = np.argsort(pred)[::-1][:k]\n",
    "        coverages += recom.tolist()\n",
    "    coverages = np.unique(coverages)\n",
    "    coverages = len(coverages)/num_book\n",
    "    print(f\"At DropRate = {dr} - The model cover {coverages*100:.2f}% of items in the dataset\")"
   ]
  },
  {
   "cell_type": "markdown",
   "metadata": {},
   "source": [
    "#### Personalization of the recommendation"
   ]
  },
  {
   "cell_type": "code",
   "execution_count": 64,
   "metadata": {},
   "outputs": [],
   "source": [
    "from sklearn.metrics.pairwise import cosine_similarity"
   ]
  },
  {
   "cell_type": "code",
   "execution_count": 75,
   "metadata": {},
   "outputs": [
    {
     "name": "stdout",
     "output_type": "stream",
     "text": [
      "Personalization Score = 0.7073409279999998\n"
     ]
    }
   ],
   "source": [
    "# Sample 5000 user to measure the similarity of their recommendation\n",
    "# Calculate for 50k users is too much\n",
    "SAMPLE_SIZE = 5000\n",
    "k = 10\n",
    "sample = np.random.choice(num_user,size=SAMPLE_SIZE,replace=False)\n",
    "sample_user = dense_rating[sample]\n",
    "sample_coverages = model_session.run(out,feed_dict={x:sample_user,drop_rate:0.2})\n",
    "sample_recom = np.argsort(sample_coverages,axis=-1)[:,-k:]\n",
    " \n",
    "recom_matrix = np.zeros([SAMPLE_SIZE,num_book])\n",
    "for i in range(SAMPLE_SIZE):\n",
    "    recom_matrix[i][sample_recom[i]]=1\n",
    "\n",
    "similarity = cosine_similarity(recom_matrix)\n",
    "# Personalized Score = 1 - mean_of_upper_triangle(similarity)\n",
    "# The higher the score, the better\n",
    "personalized_score = 1-np.sum(np.triu(similarity))/(np.prod(similarity.shape)/2)\n",
    "print(\"Personalization Score =\",personalized_score)"
   ]
  },
  {
   "cell_type": "markdown",
   "metadata": {},
   "source": [
    "#### Mean Average Precision & Mean Average Recall (MAP@K and MAR@K)\n",
    "https://towardsdatascience.com/breaking-down-mean-average-precision-map-ae462f623a52\n",
    "\n",
    "https://www.youtube.com/watch?v=pM6DJ0ZZee0\n",
    "\n",
    "http://fastml.com/what-you-wanted-to-know-about-mean-average-precision/"
   ]
  },
  {
   "cell_type": "markdown",
   "metadata": {},
   "source": [
    "![title](https://miro.medium.com/max/350/0*WcR6weG1ORhMcJOl.png)"
   ]
  },
  {
   "cell_type": "code",
   "execution_count": null,
   "metadata": {},
   "outputs": [],
   "source": [
    "def average_precision(ground_truth,preds):\n",
    "    precisions = []\n",
    "    correct = 0\n",
    "    for i,v in enumerate(preds):\n",
    "        if v in ground_truth:\n",
    "            correct+=1\n",
    "            precisions.append(correct/(i+1))\n",
    "    if correct == 0:\n",
    "        return 0\n",
    "    return np.sum(precisions)/correct"
   ]
  },
  {
   "cell_type": "code",
   "execution_count": null,
   "metadata": {},
   "outputs": [],
   "source": [
    "# Sample 1000 user query\n",
    "SAMPLE_SIZE = 1000\n",
    "sample_idx = np.random.choice(num_user,size=SAMPLE_SIZE,replace=False)\n",
    "sample = dense_rating[sample_idx]"
   ]
  },
  {
   "cell_type": "code",
   "execution_count": null,
   "metadata": {},
   "outputs": [],
   "source": [
    "readed_books = user_items(data,sample_idx,'user_id','book_id')['book_id']"
   ]
  },
  {
   "cell_type": "code",
   "execution_count": null,
   "metadata": {},
   "outputs": [],
   "source": [
    "k=20\n",
    "pred = model_session.run(out,feed_dict={x:sample,\n",
    "                                       drop_rate:0})\n",
    "recom = np.argsort(pred,axis=-1)"
   ]
  },
  {
   "cell_type": "code",
   "execution_count": null,
   "metadata": {},
   "outputs": [],
   "source": [
    "mapak = []\n",
    "for truth,pred in zip(readed_books,recom):\n",
    "    pred = pred[::-1][:k]\n",
    "    mapak.append(average_precision(truth,pred))\n",
    "print(np.mean(mapak))"
   ]
  },
  {
   "cell_type": "code",
   "execution_count": null,
   "metadata": {},
   "outputs": [],
   "source": [
    "mapak = []\n",
    "for truth,pred in zip(readed_books,recom):\n",
    "    pred = np.random.choice(num_book,size=k)\n",
    "    mapak.append(average_precision(truth,pred))\n",
    "print(np.mean(mapak))"
   ]
  },
  {
   "cell_type": "code",
   "execution_count": null,
   "metadata": {},
   "outputs": [],
   "source": []
  }
 ],
 "metadata": {
  "kernelspec": {
   "display_name": "Python 3",
   "language": "python",
   "name": "python3"
  },
  "language_info": {
   "codemirror_mode": {
    "name": "ipython",
    "version": 3
   },
   "file_extension": ".py",
   "mimetype": "text/x-python",
   "name": "python",
   "nbconvert_exporter": "python",
   "pygments_lexer": "ipython3",
   "version": "3.7.3"
  }
 },
 "nbformat": 4,
 "nbformat_minor": 2
}
