{
 "cells": [
  {
   "cell_type": "code",
   "execution_count": 1,
   "metadata": {},
   "outputs": [],
   "source": [
    "import numpy as np\n",
    "import pandas as pd\n",
    "import matplotlib.pyplot as plt\n",
    "import tensorflow as tf\n",
    "import sys"
   ]
  },
  {
   "cell_type": "code",
   "execution_count": 2,
   "metadata": {},
   "outputs": [],
   "source": [
    "rating = pd.read_csv('../data/ratings.csv')\n",
    "books = pd.read_csv('../data/books.csv')"
   ]
  },
  {
   "cell_type": "code",
   "execution_count": 3,
   "metadata": {},
   "outputs": [],
   "source": [
    "books = books[['id','book_id','authors','original_title','language_code','average_rating','ratings_count']]"
   ]
  },
  {
   "cell_type": "code",
   "execution_count": 4,
   "metadata": {},
   "outputs": [],
   "source": [
    "rating['book_id'] = rating['book_id']-1\n",
    "rating['user_id'] = rating['user_id']-1\n",
    "books['id'] = books['id']-1"
   ]
  },
  {
   "cell_type": "code",
   "execution_count": 5,
   "metadata": {},
   "outputs": [],
   "source": [
    "rating.drop_duplicates(inplace=True)\n",
    "rating = rating.reset_index(drop=True)"
   ]
  },
  {
   "cell_type": "code",
   "execution_count": 6,
   "metadata": {},
   "outputs": [],
   "source": [
    "num_user = len(rating['user_id'].unique())\n",
    "num_book = len(rating['book_id'].unique())"
   ]
  },
  {
   "cell_type": "code",
   "execution_count": 7,
   "metadata": {},
   "outputs": [],
   "source": [
    "# Create a sparse iteration matrix from rating data\n",
    "def create_sparse_matrix(num_user,num_item,df):\n",
    "    indices = df[['user_id','book_id']].values.astype(np.int32)\n",
    "    values = df['rating'].values.astype(np.int32)\n",
    "    dense_shape = (num_user,num_item)\n",
    "    resp =  tf.SparseTensor(indices,values,dense_shape)\n",
    "    return resp"
   ]
  },
  {
   "cell_type": "code",
   "execution_count": 8,
   "metadata": {},
   "outputs": [],
   "source": [
    "rating_matrix = create_sparse_matrix(num_user,num_book,rating)\n",
    "rating_matrix = tf.Session().run(rating_matrix)"
   ]
  },
  {
   "cell_type": "code",
   "execution_count": 9,
   "metadata": {},
   "outputs": [
    {
     "name": "stdout",
     "output_type": "stream",
     "text": [
      "Sparsity of rating matrix: 0.9981654088050315\n"
     ]
    }
   ],
   "source": [
    "sparsity = 1-len(rating_matrix.values)/np.prod(rating_matrix.dense_shape)\n",
    "print(\"Sparsity of rating matrix:\",sparsity)"
   ]
  },
  {
   "cell_type": "code",
   "execution_count": 10,
   "metadata": {},
   "outputs": [],
   "source": [
    "observed_user = rating_matrix.indices[:,0]\n",
    "observed_item = rating_matrix.indices[:,1]\n",
    "observed_rating = np.ones_like(observed_user)"
   ]
  },
  {
   "cell_type": "markdown",
   "metadata": {},
   "source": [
    "#### Negative sampling un-observed items"
   ]
  },
  {
   "cell_type": "code",
   "execution_count": 11,
   "metadata": {},
   "outputs": [],
   "source": [
    "# Get the number of book each user has read to sample accordingly\n",
    "users,books_read = rating.groupby('user_id')['book_id'].agg('count').reset_index().values.T"
   ]
  },
  {
   "cell_type": "code",
   "execution_count": 12,
   "metadata": {},
   "outputs": [],
   "source": [
    "alpha = 4 # For each observed entry, samples 4 negative entries\n",
    "unobserved_user = []\n",
    "unobserved_item = []\n",
    "for u,k in zip(users,books_read):\n",
    "    neg_sample = np.random.choice(num_book,size=alpha*k,replace=False)\n",
    "    neg_user = u*np.ones_like(neg_sample)\n",
    "    unobserved_user += neg_user.tolist()\n",
    "    unobserved_item += neg_sample.tolist()\n",
    "unobserved_user = np.array(unobserved_user)\n",
    "unobserved_item = np.array(unobserved_item)\n",
    "unobserved_rating = np.zeros_like(unobserved_item)"
   ]
  },
  {
   "cell_type": "code",
   "execution_count": 25,
   "metadata": {},
   "outputs": [],
   "source": [
    "train_user = np.concatenate([observed_user,unobserved_user])\n",
    "train_item = np.concatenate([observed_item,unobserved_item])\n",
    "train_rating = np.concatenate([observed_rating,unobserved_rating])"
   ]
  },
  {
   "cell_type": "code",
   "execution_count": 26,
   "metadata": {},
   "outputs": [],
   "source": [
    "tf.reset_default_graph()"
   ]
  },
  {
   "cell_type": "code",
   "execution_count": 27,
   "metadata": {},
   "outputs": [],
   "source": [
    "class NeuralCF:\n",
    "    def __init__(self,mf_latent,mlp_latent,mlp_layers,num_user,num_item):\n",
    "        self.mf_latent = mf_latent\n",
    "        self.mlp_latent = mlp_latent\n",
    "        self.mlp_layers = mlp_layers\n",
    "        self.num_user = num_user\n",
    "        self.num_item = num_item\n",
    "        self._create_mf_model()\n",
    "\n",
    "    def _create_mf_model(self):\n",
    "        user_input = tf.keras.layers.Input(shape=1,name='user_input')\n",
    "        item_input = tf.keras.layers.Input(shape=1,name='item_input')\n",
    "        \n",
    "        mf_user_latent = tf.keras.layers.Embedding(input_dim=self.num_user,\n",
    "                                                   output_dim=self.mf_latent,\n",
    "                                                   embeddings_initializer='normal',\n",
    "                                                   input_length=1,\n",
    "                                                   name='MF_user')(user_input)\n",
    "        mf_item_latent = tf.keras.layers.Embedding(input_dim=self.num_item,\n",
    "                                                   output_dim=self.mf_latent,\n",
    "                                                   embeddings_initializer='normal',\n",
    "                                                   input_length=1,\n",
    "                                                   name='MF_item')(item_input)\n",
    "        \n",
    "        mlp_user_latent = tf.keras.layers.Embedding(input_dim=self.num_user,\n",
    "                                                    output_dim=self.mlp_latent,\n",
    "                                                    embeddings_initializer='normal',\n",
    "                                                    input_length=1,\n",
    "                                                    name='MLP_user')(user_input)\n",
    "        mlp_item_latent = tf.keras.layers.Embedding(input_dim=self.num_item,\n",
    "                                                    output_dim=self.mlp_latent,\n",
    "                                                    embeddings_initializer='normal',\n",
    "                                                    input_length=1,\n",
    "                                                    name='MLP_item')(item_input)\n",
    "        \n",
    "        \n",
    "        flatten_mf_user = tf.keras.layers.Flatten()(mf_user_latent)\n",
    "        flatten_mf_item = tf.keras.layers.Flatten()(mf_item_latent)\n",
    "        \n",
    "        def element_wise_prod(values):\n",
    "            return tf.multiply(values[0],values[1])\n",
    "        \n",
    "        mf_out = tf.keras.layers.Lambda(element_wise_prod,name='mf_out')([flatten_mf_user,flatten_mf_item])\n",
    "        \n",
    "        def concatenate(values):\n",
    "            return tf.concat(values,axis=-1)\n",
    "        \n",
    "        flatten_mlp_user = tf.keras.layers.Flatten()(mlp_user_latent)\n",
    "        flatten_mlp_item = tf.keras.layers.Flatten()(mlp_item_latent)\n",
    "        \n",
    "        mlp = tf.keras.layers.Lambda(concatenate,name='mlp_concat')([flatten_mlp_user,flatten_mlp_item])\n",
    "        for i,l in enumerate(self.mlp_layers[:-1]):\n",
    "            mlp = tf.keras.layers.Dense(l, activation='selu',\n",
    "                                        kernel_initializer='glorot_normal',\n",
    "                                        name = f'MLP_dense_{i}')(mlp)\n",
    "            \n",
    "        mlp_out = tf.keras.layers.Dense(self.mlp_layers[-1],\n",
    "                                        activation='selu',\n",
    "                                        kernel_initializer='glorot_normal',\n",
    "                                        name='mlp_out')(mlp)\n",
    "        self.mf_model = tf.keras.models.Model(inputs=[user_input,item_input],outputs=[mf_out])\n",
    "        self.mlp_model = tf.keras.models.Model(inputs=[user_input,item_input],outputs=[mlp_out])\n",
    "        \n",
    "        mf_mlp_concat = tf.keras.layers.Lambda(concatenate,name='mf_mlp_concat')([mf_out,mlp_out])\n",
    "        final_out = tf.keras.layers.Dense(1, activation='sigmoid',\n",
    "                                          kernel_initializer='glorot_normal',\n",
    "                                          name='prediction')(mf_mlp_concat)\n",
    "        \n",
    "        self.neucf_model = tf.keras.models.Model(inputs=[user_input,item_input],outputs=[final_out])\n",
    "        \n",
    "    def compiles(self):\n",
    "        return\n",
    "    def train(self):\n",
    "        return\n",
    "    def predict(self):\n",
    "        return"
   ]
  },
  {
   "cell_type": "code",
   "execution_count": 28,
   "metadata": {},
   "outputs": [
    {
     "name": "stderr",
     "output_type": "stream",
     "text": [
      "WARNING: Logging before flag parsing goes to stderr.\n",
      "W0726 14:07:00.248401 4581770688 deprecation.py:506] From /Users/trungdoan/.conda/envs/myenv/lib/python3.7/site-packages/tensorflow/python/keras/initializers.py:143: calling RandomNormal.__init__ (from tensorflow.python.ops.init_ops) with dtype is deprecated and will be removed in a future version.\n",
      "Instructions for updating:\n",
      "Call initializer instance with the dtype argument instead of passing it to the constructor\n",
      "W0726 14:07:00.358266 4581770688 deprecation.py:506] From /Users/trungdoan/.conda/envs/myenv/lib/python3.7/site-packages/tensorflow/python/ops/init_ops.py:1288: calling VarianceScaling.__init__ (from tensorflow.python.ops.init_ops) with dtype is deprecated and will be removed in a future version.\n",
      "Instructions for updating:\n",
      "Call initializer instance with the dtype argument instead of passing it to the constructor\n",
      "W0726 14:07:00.392729 4581770688 deprecation.py:323] From /Users/trungdoan/.conda/envs/myenv/lib/python3.7/site-packages/tensorflow/python/keras/backend.py:4075: add_dispatch_support.<locals>.wrapper (from tensorflow.python.ops.array_ops) is deprecated and will be removed in a future version.\n",
      "Instructions for updating:\n",
      "Use tf.where in 2.0, which has the same broadcast rule as np.where\n"
     ]
    }
   ],
   "source": [
    "neucf = NeuralCF(64,64,[256,128,64],num_user,num_book)"
   ]
  },
  {
   "cell_type": "code",
   "execution_count": 29,
   "metadata": {},
   "outputs": [],
   "source": [
    "neucf.neucf_model.compile(optimizer='adam',loss='binary_crossentropy',metrics=['acc'])"
   ]
  },
  {
   "cell_type": "code",
   "execution_count": 129,
   "metadata": {},
   "outputs": [
    {
     "name": "stdout",
     "output_type": "stream",
     "text": [
      "Epoch 1/5\n",
      "4900560/4900560 [==============================] - 268s 55us/sample - loss: 0.0550 - acc: 0.9813\n",
      "Epoch 2/5\n",
      "4900560/4900560 [==============================] - 269s 55us/sample - loss: 0.0451 - acc: 0.9853\n",
      "Epoch 3/5\n",
      " 236544/4900560 [>.............................] - ETA: 4:15 - loss: 0.0257 - acc: 0.9925"
     ]
    },
    {
     "ename": "KeyboardInterrupt",
     "evalue": "",
     "output_type": "error",
     "traceback": [
      "\u001b[0;31m---------------------------------------------------------------------------\u001b[0m",
      "\u001b[0;31mKeyboardInterrupt\u001b[0m                         Traceback (most recent call last)",
      "\u001b[0;32m<ipython-input-129-fe171567c627>\u001b[0m in \u001b[0;36m<module>\u001b[0;34m\u001b[0m\n\u001b[0;32m----> 1\u001b[0;31m \u001b[0mneucf\u001b[0m\u001b[0;34m.\u001b[0m\u001b[0mneucf_model\u001b[0m\u001b[0;34m.\u001b[0m\u001b[0mfit\u001b[0m\u001b[0;34m(\u001b[0m\u001b[0mx\u001b[0m\u001b[0;34m=\u001b[0m\u001b[0;34m[\u001b[0m\u001b[0mtrain_user\u001b[0m\u001b[0;34m,\u001b[0m\u001b[0mtrain_item\u001b[0m\u001b[0;34m]\u001b[0m\u001b[0;34m,\u001b[0m\u001b[0my\u001b[0m\u001b[0;34m=\u001b[0m\u001b[0mtrain_rating\u001b[0m\u001b[0;34m,\u001b[0m\u001b[0mbatch_size\u001b[0m\u001b[0;34m=\u001b[0m\u001b[0;36m1024\u001b[0m\u001b[0;34m,\u001b[0m\u001b[0mepochs\u001b[0m\u001b[0;34m=\u001b[0m\u001b[0;36m5\u001b[0m\u001b[0;34m,\u001b[0m\u001b[0;34m)\u001b[0m\u001b[0;34m\u001b[0m\u001b[0;34m\u001b[0m\u001b[0m\n\u001b[0m",
      "\u001b[0;32m~/.conda/envs/myenv/lib/python3.7/site-packages/tensorflow/python/keras/engine/training.py\u001b[0m in \u001b[0;36mfit\u001b[0;34m(self, x, y, batch_size, epochs, verbose, callbacks, validation_split, validation_data, shuffle, class_weight, sample_weight, initial_epoch, steps_per_epoch, validation_steps, validation_freq, max_queue_size, workers, use_multiprocessing, **kwargs)\u001b[0m\n\u001b[1;32m    778\u001b[0m           \u001b[0mvalidation_steps\u001b[0m\u001b[0;34m=\u001b[0m\u001b[0mvalidation_steps\u001b[0m\u001b[0;34m,\u001b[0m\u001b[0;34m\u001b[0m\u001b[0;34m\u001b[0m\u001b[0m\n\u001b[1;32m    779\u001b[0m           \u001b[0mvalidation_freq\u001b[0m\u001b[0;34m=\u001b[0m\u001b[0mvalidation_freq\u001b[0m\u001b[0;34m,\u001b[0m\u001b[0;34m\u001b[0m\u001b[0;34m\u001b[0m\u001b[0m\n\u001b[0;32m--> 780\u001b[0;31m           steps_name='steps_per_epoch')\n\u001b[0m\u001b[1;32m    781\u001b[0m \u001b[0;34m\u001b[0m\u001b[0m\n\u001b[1;32m    782\u001b[0m   def evaluate(self,\n",
      "\u001b[0;32m~/.conda/envs/myenv/lib/python3.7/site-packages/tensorflow/python/keras/engine/training_arrays.py\u001b[0m in \u001b[0;36mmodel_iteration\u001b[0;34m(model, inputs, targets, sample_weights, batch_size, epochs, verbose, callbacks, val_inputs, val_targets, val_sample_weights, shuffle, initial_epoch, steps_per_epoch, validation_steps, validation_freq, mode, validation_in_fit, prepared_feed_values_from_dataset, steps_name, **kwargs)\u001b[0m\n\u001b[1;32m    361\u001b[0m \u001b[0;34m\u001b[0m\u001b[0m\n\u001b[1;32m    362\u001b[0m         \u001b[0;31m# Get outputs.\u001b[0m\u001b[0;34m\u001b[0m\u001b[0;34m\u001b[0m\u001b[0;34m\u001b[0m\u001b[0m\n\u001b[0;32m--> 363\u001b[0;31m         \u001b[0mbatch_outs\u001b[0m \u001b[0;34m=\u001b[0m \u001b[0mf\u001b[0m\u001b[0;34m(\u001b[0m\u001b[0mins_batch\u001b[0m\u001b[0;34m)\u001b[0m\u001b[0;34m\u001b[0m\u001b[0;34m\u001b[0m\u001b[0m\n\u001b[0m\u001b[1;32m    364\u001b[0m         \u001b[0;32mif\u001b[0m \u001b[0;32mnot\u001b[0m \u001b[0misinstance\u001b[0m\u001b[0;34m(\u001b[0m\u001b[0mbatch_outs\u001b[0m\u001b[0;34m,\u001b[0m \u001b[0mlist\u001b[0m\u001b[0;34m)\u001b[0m\u001b[0;34m:\u001b[0m\u001b[0;34m\u001b[0m\u001b[0;34m\u001b[0m\u001b[0m\n\u001b[1;32m    365\u001b[0m           \u001b[0mbatch_outs\u001b[0m \u001b[0;34m=\u001b[0m \u001b[0;34m[\u001b[0m\u001b[0mbatch_outs\u001b[0m\u001b[0;34m]\u001b[0m\u001b[0;34m\u001b[0m\u001b[0;34m\u001b[0m\u001b[0m\n",
      "\u001b[0;32m~/.conda/envs/myenv/lib/python3.7/site-packages/tensorflow/python/keras/backend.py\u001b[0m in \u001b[0;36m__call__\u001b[0;34m(self, inputs)\u001b[0m\n\u001b[1;32m   3290\u001b[0m \u001b[0;34m\u001b[0m\u001b[0m\n\u001b[1;32m   3291\u001b[0m     fetched = self._callable_fn(*array_vals,\n\u001b[0;32m-> 3292\u001b[0;31m                                 run_metadata=self.run_metadata)\n\u001b[0m\u001b[1;32m   3293\u001b[0m     \u001b[0mself\u001b[0m\u001b[0;34m.\u001b[0m\u001b[0m_call_fetch_callbacks\u001b[0m\u001b[0;34m(\u001b[0m\u001b[0mfetched\u001b[0m\u001b[0;34m[\u001b[0m\u001b[0;34m-\u001b[0m\u001b[0mlen\u001b[0m\u001b[0;34m(\u001b[0m\u001b[0mself\u001b[0m\u001b[0;34m.\u001b[0m\u001b[0m_fetches\u001b[0m\u001b[0;34m)\u001b[0m\u001b[0;34m:\u001b[0m\u001b[0;34m]\u001b[0m\u001b[0;34m)\u001b[0m\u001b[0;34m\u001b[0m\u001b[0;34m\u001b[0m\u001b[0m\n\u001b[1;32m   3294\u001b[0m     output_structure = nest.pack_sequence_as(\n",
      "\u001b[0;32m~/.conda/envs/myenv/lib/python3.7/site-packages/tensorflow/python/client/session.py\u001b[0m in \u001b[0;36m__call__\u001b[0;34m(self, *args, **kwargs)\u001b[0m\n\u001b[1;32m   1456\u001b[0m         ret = tf_session.TF_SessionRunCallable(self._session._session,\n\u001b[1;32m   1457\u001b[0m                                                \u001b[0mself\u001b[0m\u001b[0;34m.\u001b[0m\u001b[0m_handle\u001b[0m\u001b[0;34m,\u001b[0m \u001b[0margs\u001b[0m\u001b[0;34m,\u001b[0m\u001b[0;34m\u001b[0m\u001b[0;34m\u001b[0m\u001b[0m\n\u001b[0;32m-> 1458\u001b[0;31m                                                run_metadata_ptr)\n\u001b[0m\u001b[1;32m   1459\u001b[0m         \u001b[0;32mif\u001b[0m \u001b[0mrun_metadata\u001b[0m\u001b[0;34m:\u001b[0m\u001b[0;34m\u001b[0m\u001b[0;34m\u001b[0m\u001b[0m\n\u001b[1;32m   1460\u001b[0m           \u001b[0mproto_data\u001b[0m \u001b[0;34m=\u001b[0m \u001b[0mtf_session\u001b[0m\u001b[0;34m.\u001b[0m\u001b[0mTF_GetBuffer\u001b[0m\u001b[0;34m(\u001b[0m\u001b[0mrun_metadata_ptr\u001b[0m\u001b[0;34m)\u001b[0m\u001b[0;34m\u001b[0m\u001b[0;34m\u001b[0m\u001b[0m\n",
      "\u001b[0;31mKeyboardInterrupt\u001b[0m: "
     ]
    }
   ],
   "source": [
    "neucf.neucf_model.fit(x=[train_user,train_item],y=train_rating,batch_size=1024,epochs=5,)"
   ]
  },
  {
   "cell_type": "code",
   "execution_count": 130,
   "metadata": {},
   "outputs": [],
   "source": [
    "def recommend(userid,k=10):\n",
    "    target_user = userid\n",
    "    target_book = np.arange(0,num_book)\n",
    "    target_arr = target_user*np.ones_like(target_book)\n",
    "    preds = neucf.neucf_model.predict(x=[target_arr,target_book])\n",
    "    preds = preds.reshape(-1)\n",
    "    recom_books = np.argsort(preds)[::-1][:k]\n",
    "    return recom_books,preds"
   ]
  },
  {
   "cell_type": "markdown",
   "metadata": {},
   "source": [
    "### Model Evaluation"
   ]
  },
  {
   "cell_type": "code",
   "execution_count": 131,
   "metadata": {},
   "outputs": [],
   "source": [
    "from sklearn.metrics.pairwise import cosine_similarity"
   ]
  },
  {
   "cell_type": "code",
   "execution_count": null,
   "metadata": {},
   "outputs": [
    {
     "name": "stdout",
     "output_type": "stream",
     "text": [
      "Recommend: 3288/5000"
     ]
    }
   ],
   "source": [
    "# Coverages\n",
    "coverages = []\n",
    "recom_probs = []\n",
    "SAMPLE_SIZE = 5000\n",
    "test_sample = np.random.choice(num_user,replace=False,size=SAMPLE_SIZE)\n",
    "for c,i in enumerate(test_sample):\n",
    "    sys.stdout.write(f'\\rRecommend: {c}/{SAMPLE_SIZE}')\n",
    "    sys.stdout.flush()\n",
    "    recom,probs = recommend(i)\n",
    "    coverages.append(recom)\n",
    "    recom_probs.append(probs)"
   ]
  },
  {
   "cell_type": "code",
   "execution_count": 152,
   "metadata": {},
   "outputs": [
    {
     "name": "stdout",
     "output_type": "stream",
     "text": [
      "Sampled test users cover 84.46% of the data\n",
      "The recommendation cover 49.67% of the data\n",
      "On average, each users read 18.144 books\n",
      "==================================\n",
      "Personalization Score = 0.852988078125\n",
      "==================================\n",
      "maximum number of recommended new books: 10\n",
      "minimum number of recommended new books: 7\n",
      "On average, the sys recommend 9.989 new books per user\n",
      "==================================\n",
      "maximum number of recall books: 3\n",
      "minimum number of recall books: 0\n",
      "On average, the sys recall 0.011 books per user\n"
     ]
    }
   ],
   "source": [
    "unique_coverages = np.unique(np.concatenate(coverages))\n",
    "read_books = rating[rating['user_id'].isin(test_sample)]['book_id'].values\n",
    "unique_read_books = np.unique(read_books)\n",
    "print(f\"Sampled test users cover {len(unique_read_books)/num_book*100:.02f}% of the data\")\n",
    "print(f\"The recommendation cover {len(unique_coverages)/num_book*100:.02f}% of the data\")\n",
    "print(f\"On average, each users read {len(read_books)/SAMPLE_SIZE} books\")\n",
    "print(\"==================================\")\n",
    "\n",
    "recom_probs = np.array(recom_probs)\n",
    "similarity = cosine_similarity(recom_probs)\n",
    "# Personalized Score = 1 - mean_of_upper_triangle(similarity)\n",
    "# The higher the score, the better\n",
    "personalized_score = 1-np.sum(np.triu(similarity))/(np.prod(similarity.shape)/2)\n",
    "print(\"Personalization Score =\",personalized_score)\n",
    "\n",
    "print(\"==================================\")\n",
    "read_book_by_user = rating.groupby('user_id')['book_id'].agg(lambda x: list(x)).reset_index()\n",
    "read_book_by_user = read_book_by_user[read_book_by_user['user_id'].isin(test_sample)]['book_id'].values\n",
    "new_books = []\n",
    "for i,j in zip(coverages,read_book_by_user):\n",
    "    num_new_books = len([v for v in i if v not in j])\n",
    "    new_books.append(num_new_books)\n",
    "print(f\"maximum number of recommended new books: {np.max(new_books)}\")\n",
    "print(f\"minimum number of recommended new books: {np.min(new_books)}\")\n",
    "print(f\"On average, the sys recommend {np.sum(new_books)/SAMPLE_SIZE} new books per user\")\n",
    "\n",
    "print(\"==================================\")\n",
    "recall_books = []\n",
    "for i,j in zip(coverages,read_book_by_user):\n",
    "    num_recall_books = len(np.intersect1d(i,j))\n",
    "    recall_books.append(num_recall_books)\n",
    "print(f\"maximum number of recall books: {np.max(recall_books)}\")\n",
    "print(f\"minimum number of recall books: {np.min(recall_books)}\")\n",
    "print(f\"On average, the sys recall {np.sum(recall_books)/SAMPLE_SIZE} books per user\")"
   ]
  },
  {
   "cell_type": "markdown",
   "metadata": {},
   "source": [
    "### Inference"
   ]
  },
  {
   "cell_type": "code",
   "execution_count": null,
   "metadata": {},
   "outputs": [],
   "source": []
  }
 ],
 "metadata": {
  "kernelspec": {
   "display_name": "Python 3",
   "language": "python",
   "name": "python3"
  },
  "language_info": {
   "codemirror_mode": {
    "name": "ipython",
    "version": 3
   },
   "file_extension": ".py",
   "mimetype": "text/x-python",
   "name": "python",
   "nbconvert_exporter": "python",
   "pygments_lexer": "ipython3",
   "version": "3.7.3"
  }
 },
 "nbformat": 4,
 "nbformat_minor": 2
}
