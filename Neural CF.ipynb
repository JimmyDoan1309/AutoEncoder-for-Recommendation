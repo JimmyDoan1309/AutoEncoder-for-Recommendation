{
 "cells": [
  {
   "cell_type": "code",
   "execution_count": 1,
   "metadata": {},
   "outputs": [],
   "source": [
    "import numpy as np\n",
    "import pandas as pd\n",
    "import matplotlib.pyplot as plt\n",
    "import tensorflow as tf\n",
    "import sys"
   ]
  },
  {
   "cell_type": "code",
   "execution_count": 2,
   "metadata": {},
   "outputs": [],
   "source": [
    "rating = pd.read_csv('../data/ratings.csv')\n",
    "books = pd.read_csv('../data/books.csv')"
   ]
  },
  {
   "cell_type": "code",
   "execution_count": 3,
   "metadata": {},
   "outputs": [],
   "source": [
    "books = books[['id','book_id','authors','original_title','language_code','average_rating','ratings_count']]"
   ]
  },
  {
   "cell_type": "code",
   "execution_count": 4,
   "metadata": {},
   "outputs": [],
   "source": [
    "rating['book_id'] = rating['book_id']-1\n",
    "rating['user_id'] = rating['user_id']-1\n",
    "books['id'] = books['id']-1"
   ]
  },
  {
   "cell_type": "code",
   "execution_count": 5,
   "metadata": {},
   "outputs": [],
   "source": [
    "rating.drop_duplicates(inplace=True)\n",
    "rating = rating.reset_index(drop=True)"
   ]
  },
  {
   "cell_type": "code",
   "execution_count": 6,
   "metadata": {},
   "outputs": [],
   "source": [
    "num_user = len(rating['user_id'].unique())\n",
    "num_book = len(rating['book_id'].unique())"
   ]
  },
  {
   "cell_type": "code",
   "execution_count": 7,
   "metadata": {},
   "outputs": [],
   "source": [
    "# Create a sparse iteration matrix from rating data\n",
    "def create_sparse_matrix(num_user,num_item,df):\n",
    "    indices = df[['user_id','book_id']].values.astype(np.int32)\n",
    "    values = df['rating'].values.astype(np.int32)\n",
    "    dense_shape = (num_user,num_item)\n",
    "    resp =  tf.SparseTensor(indices,values,dense_shape)\n",
    "    return resp"
   ]
  },
  {
   "cell_type": "code",
   "execution_count": 8,
   "metadata": {},
   "outputs": [],
   "source": [
    "rating_matrix = create_sparse_matrix(num_user,num_book,rating)\n",
    "rating_matrix = tf.Session().run(rating_matrix)"
   ]
  },
  {
   "cell_type": "code",
   "execution_count": 9,
   "metadata": {},
   "outputs": [
    {
     "name": "stdout",
     "output_type": "stream",
     "text": [
      "Sparsity of rating matrix: 0.9981654088050315\n"
     ]
    }
   ],
   "source": [
    "sparsity = 1-len(rating_matrix.values)/np.prod(rating_matrix.dense_shape)\n",
    "print(\"Sparsity of rating matrix:\",sparsity)"
   ]
  },
  {
   "cell_type": "code",
   "execution_count": 12,
   "metadata": {},
   "outputs": [],
   "source": [
    "observed_user = rating_matrix.indices[:,0]\n",
    "observed_item = rating_matrix.indices[:,1]\n",
    "observed_rating = np.ones_like(observed_user)"
   ]
  },
  {
   "cell_type": "markdown",
   "metadata": {},
   "source": [
    "#### Negative sampling un-observed items"
   ]
  },
  {
   "cell_type": "code",
   "execution_count": 13,
   "metadata": {},
   "outputs": [],
   "source": [
    "# Get the number of book each user has read to sample accordingly\n",
    "users,books_read = rating.groupby('user_id')['book_id'].agg('count').reset_index().values.T"
   ]
  },
  {
   "cell_type": "code",
   "execution_count": 14,
   "metadata": {},
   "outputs": [],
   "source": [
    "alpha = 4 # For each observed entry, samples 4 negative entries\n",
    "unobserved_user = []\n",
    "unobserved_item = []\n",
    "for u,k in zip(users,books_read):\n",
    "    neg_sample = np.random.choice(num_book,size=alpha*k,replace=False)\n",
    "    neg_user = u*np.ones_like(neg_sample)\n",
    "    unobserved_user += neg_user.tolist()\n",
    "    unobserved_item += neg_sample.tolist()\n",
    "unobserved_user = np.array(unobserved_user)\n",
    "unobserved_item = np.array(unobserved_item)\n",
    "unobserved_rating = np.zeros_like(unobserved_item)"
   ]
  },
  {
   "cell_type": "code",
   "execution_count": 15,
   "metadata": {},
   "outputs": [],
   "source": [
    "train_user = np.concatenate([observed_user,unobserved_user])\n",
    "train_item = np.concatenate([observed_item,unobserved_item])\n",
    "train_rating = np.concatenate([observed_rating,unobserved_rating])"
   ]
  },
  {
   "cell_type": "code",
   "execution_count": 16,
   "metadata": {},
   "outputs": [],
   "source": [
    "tf.reset_default_graph()"
   ]
  },
  {
   "cell_type": "code",
   "execution_count": 17,
   "metadata": {},
   "outputs": [],
   "source": [
    "class NeuralCF:\n",
    "    def __init__(self,mf_latent,mlp_latent,mlp_layers,num_user,num_item):\n",
    "        self.mf_latent = mf_latent\n",
    "        self.mlp_latent = mlp_latent\n",
    "        self.mlp_layers = mlp_layers\n",
    "        self.num_user = num_user\n",
    "        self.num_item = num_item\n",
    "        self._create_mf_model()\n",
    "\n",
    "    def _create_mf_model(self):\n",
    "        user_input = tf.keras.layers.Input(shape=1,name='user_input')\n",
    "        item_input = tf.keras.layers.Input(shape=1,name='item_input')\n",
    "        \n",
    "        mf_user_latent = tf.keras.layers.Embedding(input_dim=self.num_user,\n",
    "                                                   output_dim=self.mf_latent,\n",
    "                                                   embeddings_initializer='normal',\n",
    "                                                   input_length=1,\n",
    "                                                   name='MF_user')(user_input)\n",
    "        mf_item_latent = tf.keras.layers.Embedding(input_dim=self.num_item,\n",
    "                                                   output_dim=self.mf_latent,\n",
    "                                                   embeddings_initializer='normal',\n",
    "                                                   input_length=1,\n",
    "                                                   name='MF_item')(item_input)\n",
    "        \n",
    "        mlp_user_latent = tf.keras.layers.Embedding(input_dim=self.num_user,\n",
    "                                                    output_dim=self.mlp_latent,\n",
    "                                                    embeddings_initializer='normal',\n",
    "                                                    input_length=1,\n",
    "                                                    name='MLP_user')(user_input)\n",
    "        mlp_item_latent = tf.keras.layers.Embedding(input_dim=self.num_item,\n",
    "                                                    output_dim=self.mlp_latent,\n",
    "                                                    embeddings_initializer='normal',\n",
    "                                                    input_length=1,\n",
    "                                                    name='MLP_item')(item_input)\n",
    "        \n",
    "        \n",
    "        flatten_mf_user = tf.keras.layers.Flatten()(mf_user_latent)\n",
    "        flatten_mf_item = tf.keras.layers.Flatten()(mf_item_latent)\n",
    "        \n",
    "        def element_wise_prod(values):\n",
    "            return tf.multiply(values[0],values[1])\n",
    "        \n",
    "        mf_out = tf.keras.layers.Lambda(element_wise_prod,name='mf_out')([flatten_mf_user,flatten_mf_item])\n",
    "        \n",
    "        def concatenate(values):\n",
    "            return tf.concat(values,axis=-1)\n",
    "        \n",
    "        flatten_mlp_user = tf.keras.layers.Flatten()(mlp_user_latent)\n",
    "        flatten_mlp_item = tf.keras.layers.Flatten()(mlp_item_latent)\n",
    "        \n",
    "        mlp = tf.keras.layers.Lambda(concatenate,name='mlp_concat')([flatten_mlp_user,flatten_mlp_item])\n",
    "        for i,l in enumerate(self.mlp_layers[:-1]):\n",
    "            mlp = tf.keras.layers.Dense(l, activation='selu',\n",
    "                                        kernel_initializer='glorot_normal',\n",
    "                                        name = f'MLP_dense_{i}')(mlp)\n",
    "            \n",
    "        mlp_out = tf.keras.layers.Dense(self.mlp_layers[-1],\n",
    "                                        activation='selu',\n",
    "                                        kernel_initializer='glorot_normal',\n",
    "                                        name='mlp_out')(mlp)\n",
    "        self.mf_model = tf.keras.models.Model(inputs=[user_input,item_input],outputs=[mf_out])\n",
    "        self.mlp_model = tf.keras.models.Model(inputs=[user_input,item_input],outputs=[mlp_out])\n",
    "        \n",
    "        mf_mlp_concat = tf.keras.layers.Lambda(concatenate,name='mf_mlp_concat')([mf_out,mlp_out])\n",
    "        final_out = tf.keras.layers.Dense(1, activation='sigmoid',\n",
    "                                          kernel_initializer='glorot_normal',\n",
    "                                          name='prediction')(mf_mlp_concat)\n",
    "        \n",
    "        self.neucf_model = tf.keras.models.Model(inputs=[user_input,item_input],outputs=[final_out])\n",
    "        \n",
    "    def compiles(self):\n",
    "        return\n",
    "    def train(self):\n",
    "        return\n",
    "    def predict(self):\n",
    "        return"
   ]
  },
  {
   "cell_type": "code",
   "execution_count": 18,
   "metadata": {},
   "outputs": [
    {
     "name": "stderr",
     "output_type": "stream",
     "text": [
      "WARNING: Logging before flag parsing goes to stderr.\n",
      "W0726 13:30:02.625466 4340221376 deprecation.py:506] From /Users/trungdoan/.conda/envs/myenv/lib/python3.7/site-packages/tensorflow/python/keras/initializers.py:143: calling RandomNormal.__init__ (from tensorflow.python.ops.init_ops) with dtype is deprecated and will be removed in a future version.\n",
      "Instructions for updating:\n",
      "Call initializer instance with the dtype argument instead of passing it to the constructor\n",
      "W0726 13:30:02.705241 4340221376 deprecation.py:506] From /Users/trungdoan/.conda/envs/myenv/lib/python3.7/site-packages/tensorflow/python/ops/init_ops.py:1288: calling VarianceScaling.__init__ (from tensorflow.python.ops.init_ops) with dtype is deprecated and will be removed in a future version.\n",
      "Instructions for updating:\n",
      "Call initializer instance with the dtype argument instead of passing it to the constructor\n",
      "W0726 13:30:02.726862 4340221376 deprecation.py:323] From /Users/trungdoan/.conda/envs/myenv/lib/python3.7/site-packages/tensorflow/python/keras/backend.py:4075: add_dispatch_support.<locals>.wrapper (from tensorflow.python.ops.array_ops) is deprecated and will be removed in a future version.\n",
      "Instructions for updating:\n",
      "Use tf.where in 2.0, which has the same broadcast rule as np.where\n"
     ]
    }
   ],
   "source": [
    "neucf = NeuralCF(64,64,[256,128,64],num_user,num_book)"
   ]
  },
  {
   "cell_type": "code",
   "execution_count": 19,
   "metadata": {},
   "outputs": [],
   "source": [
    "neucf.neucf_model.compile(optimizer='adam',loss='binary_crossentropy',metrics=['acc'])"
   ]
  },
  {
   "cell_type": "code",
   "execution_count": null,
   "metadata": {},
   "outputs": [
    {
     "name": "stdout",
     "output_type": "stream",
     "text": [
      "Epoch 1/30\n",
      "4900560/4900560 [==============================] - 273s 56us/sample - loss: 0.4630 - acc: 0.8101\n",
      "Epoch 2/30\n",
      " 831488/4900560 [====>.........................] - ETA: 4:07 - loss: 0.2847 - acc: 0.8763"
     ]
    }
   ],
   "source": [
    "neucf.neucf_model.fit(x=[train_user,train_item],y=train_rating,batch_size=1024,epochs=30,)"
   ]
  },
  {
   "cell_type": "code",
   "execution_count": null,
   "metadata": {},
   "outputs": [],
   "source": [
    "observed_user = rating_matrix.indices[:,0]\n",
    "observed_item = rating_matrix.indices[:,1]\n",
    "observed_rating = rating_matrix.values"
   ]
  },
  {
   "cell_type": "code",
   "execution_count": null,
   "metadata": {},
   "outputs": [],
   "source": [
    "unobserved_user = "
   ]
  },
  {
   "cell_type": "code",
   "execution_count": null,
   "metadata": {},
   "outputs": [],
   "source": []
  }
 ],
 "metadata": {
  "kernelspec": {
   "display_name": "Python 3",
   "language": "python",
   "name": "python3"
  },
  "language_info": {
   "codemirror_mode": {
    "name": "ipython",
    "version": 3
   },
   "file_extension": ".py",
   "mimetype": "text/x-python",
   "name": "python",
   "nbconvert_exporter": "python",
   "pygments_lexer": "ipython3",
   "version": "3.7.3"
  }
 },
 "nbformat": 4,
 "nbformat_minor": 2
}
